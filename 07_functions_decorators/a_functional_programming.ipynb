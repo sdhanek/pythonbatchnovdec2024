{
 "cells": [
  {
   "cell_type": "markdown",
   "metadata": {},
   "source": [
    "Advantage of Functional Programming\n",
    "Code reusability\n",
    "To modularize the problem\n",
    "Better maintenance of the code\n",
    "Pure functions are easier to reason about\n",
    "Testing is easier, and pure functions lend themselves well to techniques like property-based testing\n",
    "Debugging is easier"
   ]
  },
  {
   "cell_type": "code",
   "execution_count": 1,
   "metadata": {},
   "outputs": [],
   "source": [
    "# Function Definition\n",
    "def hello():\n",
    "    print(\"Hello world\")\n",
    "    # return None - default"
   ]
  },
  {
   "cell_type": "code",
   "execution_count": 2,
   "metadata": {},
   "outputs": [
    {
     "name": "stdout",
     "output_type": "stream",
     "text": [
      "<function hello at 0x743a986e9120>\n"
     ]
    }
   ],
   "source": [
    "print(hello)"
   ]
  },
  {
   "cell_type": "code",
   "execution_count": 3,
   "metadata": {},
   "outputs": [
    {
     "name": "stdout",
     "output_type": "stream",
     "text": [
      "['__annotations__', '__builtins__', '__call__', '__class__', '__closure__', '__code__', '__defaults__', '__delattr__', '__dict__', '__dir__', '__doc__', '__eq__', '__format__', '__ge__', '__get__', '__getattribute__', '__getstate__', '__globals__', '__gt__', '__hash__', '__init__', '__init_subclass__', '__kwdefaults__', '__le__', '__lt__', '__module__', '__name__', '__ne__', '__new__', '__qualname__', '__reduce__', '__reduce_ex__', '__repr__', '__setattr__', '__sizeof__', '__str__', '__subclasshook__', '__type_params__']\n"
     ]
    }
   ],
   "source": [
    "print(dir(hello))"
   ]
  },
  {
   "cell_type": "code",
   "execution_count": 4,
   "metadata": {},
   "outputs": [
    {
     "data": {
      "text/plain": [
       "'<function hello at 0x743a986e9120>'"
      ]
     },
     "execution_count": 4,
     "metadata": {},
     "output_type": "execute_result"
    }
   ],
   "source": [
    "hello.__str__()"
   ]
  },
  {
   "cell_type": "code",
   "execution_count": 5,
   "metadata": {},
   "outputs": [
    {
     "data": {
      "text/plain": [
       "'<function hello at 0x743a986e9120>'"
      ]
     },
     "execution_count": 5,
     "metadata": {},
     "output_type": "execute_result"
    }
   ],
   "source": [
    "str(hello)"
   ]
  },
  {
   "cell_type": "code",
   "execution_count": 6,
   "metadata": {},
   "outputs": [
    {
     "data": {
      "text/plain": [
       "'<function hello at 0x743a986e9120>'"
      ]
     },
     "execution_count": 6,
     "metadata": {},
     "output_type": "execute_result"
    }
   ],
   "source": [
    "hello.__repr__()"
   ]
  },
  {
   "cell_type": "code",
   "execution_count": 7,
   "metadata": {},
   "outputs": [
    {
     "data": {
      "text/plain": [
       "'hello'"
      ]
     },
     "execution_count": 7,
     "metadata": {},
     "output_type": "execute_result"
    }
   ],
   "source": [
    "hello.__qualname__  "
   ]
  },
  {
   "cell_type": "code",
   "execution_count": 8,
   "metadata": {},
   "outputs": [
    {
     "data": {
      "text/plain": [
       "144"
      ]
     },
     "execution_count": 8,
     "metadata": {},
     "output_type": "execute_result"
    }
   ],
   "source": [
    "hello.__sizeof__()"
   ]
  },
  {
   "cell_type": "code",
   "execution_count": 9,
   "metadata": {},
   "outputs": [
    {
     "data": {
      "text/plain": [
       "7987188394258"
      ]
     },
     "execution_count": 9,
     "metadata": {},
     "output_type": "execute_result"
    }
   ],
   "source": [
    "hello.__hash__()"
   ]
  },
  {
   "cell_type": "code",
   "execution_count": 10,
   "metadata": {},
   "outputs": [
    {
     "data": {
      "text/plain": [
       "False"
      ]
     },
     "execution_count": 10,
     "metadata": {},
     "output_type": "execute_result"
    }
   ],
   "source": [
    "fruit = \"apple\"\n",
    "callable(fruit)"
   ]
  },
  {
   "cell_type": "code",
   "execution_count": 11,
   "metadata": {},
   "outputs": [],
   "source": [
    "# funtion Definition\n",
    "def hello_world(name):\n",
    "    return f\"Hello World! {name}\""
   ]
  },
  {
   "cell_type": "code",
   "execution_count": 12,
   "metadata": {},
   "outputs": [
    {
     "name": "stdout",
     "output_type": "stream",
     "text": [
      "result = None <class 'NoneType'>\n"
     ]
    }
   ],
   "source": [
    "def some_function():\n",
    "    pass\n",
    "    # default return is None type object\n",
    "\n",
    "\n",
    "result = some_function()\n",
    "print(\"result =\", result, type(result))"
   ]
  },
  {
   "cell_type": "code",
   "execution_count": 13,
   "metadata": {},
   "outputs": [
    {
     "name": "stdout",
     "output_type": "stream",
     "text": [
      "result = None <class 'NoneType'>\n"
     ]
    }
   ],
   "source": [
    "def some_function():\n",
    "    return None\n",
    "\n",
    "\n",
    "result = some_function()\n",
    "print(\"result =\", result, type(result))"
   ]
  },
  {
   "cell_type": "code",
   "execution_count": 14,
   "metadata": {},
   "outputs": [
    {
     "name": "stdout",
     "output_type": "stream",
     "text": [
      "11 22 33\n"
     ]
    }
   ],
   "source": [
    "# list unpacking\n",
    "r1, r2, r3 = [11, 22, 33]\n",
    "print(r1, r2, r3)"
   ]
  },
  {
   "cell_type": "code",
   "execution_count": 15,
   "metadata": {},
   "outputs": [
    {
     "ename": "ValueError",
     "evalue": "too many values to unpack (expected 2)",
     "output_type": "error",
     "traceback": [
      "\u001b[0;31m---------------------------------------------------------------------------\u001b[0m",
      "\u001b[0;31mValueError\u001b[0m                                Traceback (most recent call last)",
      "Cell \u001b[0;32mIn[15], line 1\u001b[0m\n\u001b[0;32m----> 1\u001b[0m m1, m2 \u001b[38;5;241m=\u001b[39m [\u001b[38;5;241m11\u001b[39m, \u001b[38;5;241m22\u001b[39m, \u001b[38;5;241m33\u001b[39m]\n",
      "\u001b[0;31mValueError\u001b[0m: too many values to unpack (expected 2)"
     ]
    }
   ],
   "source": [
    "m1, m2 = [11, 22, 33]"
   ]
  },
  {
   "cell_type": "code",
   "execution_count": 16,
   "metadata": {},
   "outputs": [
    {
     "name": "stdout",
     "output_type": "stream",
     "text": [
      "m1 = 11\n",
      "m2 = [22, 33]\n"
     ]
    }
   ],
   "source": [
    "m1, *m2 = [11, 22, 33]\n",
    "\n",
    "print(f'{m1 = }')\n",
    "print(f'{m2 = }')"
   ]
  },
  {
   "cell_type": "code",
   "execution_count": 17,
   "metadata": {},
   "outputs": [
    {
     "ename": "NameError",
     "evalue": "name 'some_other_function' is not defined",
     "output_type": "error",
     "traceback": [
      "\u001b[0;31m---------------------------------------------------------------------------\u001b[0m",
      "\u001b[0;31mNameError\u001b[0m                                 Traceback (most recent call last)",
      "Cell \u001b[0;32mIn[17], line 1\u001b[0m\n\u001b[0;32m----> 1\u001b[0m result1, \u001b[38;5;241m*\u001b[39mresult2 \u001b[38;5;241m=\u001b[39m \u001b[43msome_other_function\u001b[49m()\n\u001b[1;32m      2\u001b[0m \u001b[38;5;28mprint\u001b[39m(\u001b[38;5;124m\"\u001b[39m\u001b[38;5;124mresult1      =\u001b[39m\u001b[38;5;124m\"\u001b[39m, result1)\n\u001b[1;32m      3\u001b[0m \u001b[38;5;28mprint\u001b[39m(\u001b[38;5;124m\"\u001b[39m\u001b[38;5;124mresult2      =\u001b[39m\u001b[38;5;124m\"\u001b[39m, result2)\n",
      "\u001b[0;31mNameError\u001b[0m: name 'some_other_function' is not defined"
     ]
    }
   ],
   "source": [
    "result1, *result2 = some_other_function()\n",
    "print(\"result1      =\", result1)\n",
    "print(\"result2      =\", result2)"
   ]
  },
  {
   "cell_type": "markdown",
   "metadata": {},
   "source": [
    "Function Overwriting"
   ]
  },
  {
   "cell_type": "code",
   "execution_count": 18,
   "metadata": {},
   "outputs": [
    {
     "name": "stdout",
     "output_type": "stream",
     "text": [
      "786\n"
     ]
    }
   ],
   "source": [
    "lucky_number = 1111\n",
    "lucky_number = 786\n",
    "print(lucky_number)"
   ]
  },
  {
   "cell_type": "code",
   "execution_count": 19,
   "metadata": {},
   "outputs": [
    {
     "name": "stdout",
     "output_type": "stream",
     "text": [
      "5\n"
     ]
    },
    {
     "ename": "TypeError",
     "evalue": "myfunc() takes 2 positional arguments but 3 were given",
     "output_type": "error",
     "traceback": [
      "\u001b[0;31m---------------------------------------------------------------------------\u001b[0m",
      "\u001b[0;31mTypeError\u001b[0m                                 Traceback (most recent call last)",
      "Cell \u001b[0;32mIn[19], line 24\u001b[0m\n\u001b[1;32m     20\u001b[0m     \u001b[38;5;28;01mreturn\u001b[39;00m num1 \u001b[38;5;241m+\u001b[39m num2\n\u001b[1;32m     23\u001b[0m \u001b[38;5;28mprint\u001b[39m(myfunc(\u001b[38;5;241m2\u001b[39m, \u001b[38;5;241m3\u001b[39m))\n\u001b[0;32m---> 24\u001b[0m \u001b[38;5;28mprint\u001b[39m(\u001b[43mmyfunc\u001b[49m\u001b[43m(\u001b[49m\u001b[38;5;241;43m2\u001b[39;49m\u001b[43m,\u001b[49m\u001b[43m \u001b[49m\u001b[38;5;241;43m3\u001b[39;49m\u001b[43m,\u001b[49m\u001b[43m \u001b[49m\u001b[38;5;241;43m5\u001b[39;49m\u001b[43m)\u001b[49m)\n",
      "\u001b[0;31mTypeError\u001b[0m: myfunc() takes 2 positional arguments but 3 were given"
     ]
    }
   ],
   "source": [
    "# Two functions with same name, but different number of arguments in definition\n",
    "def myfunc(var1, var2, var3):\n",
    "    \"\"\"\n",
    "    Function to perform arithmetic Multiplication operation\n",
    "    :param var1: Number\n",
    "    :param var2: Number\n",
    "    :param var3: Number\n",
    "    :return: result of addition operation\n",
    "    \"\"\"\n",
    "    return var1 + var2 + var3\n",
    "\n",
    "\n",
    "def myfunc(num1, num2):\n",
    "    \"\"\"\n",
    "    Function to perform arithmetic Addition operation\n",
    "    :param num1: Number\n",
    "    :param num2: Number\n",
    "    :return: result of addition operation\n",
    "    \"\"\"\n",
    "    return num1 + num2\n",
    "\n",
    "\n",
    "print(myfunc(2, 3))\n",
    "print(myfunc(2, 3, 5))"
   ]
  },
  {
   "cell_type": "markdown",
   "metadata": {},
   "source": [
    "Default Arguments"
   ]
  },
  {
   "cell_type": "code",
   "execution_count": 20,
   "metadata": {},
   "outputs": [],
   "source": [
    "def greetings(name, msg=\"Birthday\"):\n",
    "    return f\"Hi, {name}! Happy {msg}!!!\""
   ]
  },
  {
   "cell_type": "code",
   "execution_count": 21,
   "metadata": {},
   "outputs": [
    {
     "name": "stdout",
     "output_type": "stream",
     "text": [
      "['__annotations__', '__builtins__', '__call__', '__class__', '__closure__', '__code__', '__defaults__', '__delattr__', '__dict__', '__dir__', '__doc__', '__eq__', '__format__', '__ge__', '__get__', '__getattribute__', '__getstate__', '__globals__', '__gt__', '__hash__', '__init__', '__init_subclass__', '__kwdefaults__', '__le__', '__lt__', '__module__', '__name__', '__ne__', '__new__', '__qualname__', '__reduce__', '__reduce_ex__', '__repr__', '__setattr__', '__sizeof__', '__str__', '__subclasshook__', '__type_params__']\n"
     ]
    }
   ],
   "source": [
    "print(dir(greetings))"
   ]
  },
  {
   "cell_type": "code",
   "execution_count": 22,
   "metadata": {},
   "outputs": [
    {
     "data": {
      "text/plain": [
       "('Birthday',)"
      ]
     },
     "execution_count": 22,
     "metadata": {},
     "output_type": "execute_result"
    }
   ],
   "source": [
    "greetings.__defaults__"
   ]
  },
  {
   "cell_type": "code",
   "execution_count": 23,
   "metadata": {},
   "outputs": [
    {
     "ename": "TypeError",
     "evalue": "greetings() missing 1 required positional argument: 'name'",
     "output_type": "error",
     "traceback": [
      "\u001b[0;31m---------------------------------------------------------------------------\u001b[0m",
      "\u001b[0;31mTypeError\u001b[0m                                 Traceback (most recent call last)",
      "Cell \u001b[0;32mIn[23], line 1\u001b[0m\n\u001b[0;32m----> 1\u001b[0m \u001b[43mgreetings\u001b[49m\u001b[43m(\u001b[49m\u001b[43m)\u001b[49m\n",
      "\u001b[0;31mTypeError\u001b[0m: greetings() missing 1 required positional argument: 'name'"
     ]
    }
   ],
   "source": [
    "greetings()"
   ]
  },
  {
   "cell_type": "code",
   "execution_count": 24,
   "metadata": {},
   "outputs": [
    {
     "data": {
      "text/plain": [
       "'Hi, Prakash! Happy Wedding Anniversary!!!'"
      ]
     },
     "execution_count": 24,
     "metadata": {},
     "output_type": "execute_result"
    }
   ],
   "source": [
    "greetings(\"Prakash\", \"Wedding Anniversary\")"
   ]
  },
  {
   "cell_type": "code",
   "execution_count": 25,
   "metadata": {},
   "outputs": [
    {
     "name": "stdout",
     "output_type": "stream",
     "text": [
      "0 27 1\n"
     ]
    },
    {
     "data": {
      "text/plain": [
       "'Honorificabilitudinitatibus'"
      ]
     },
     "execution_count": 25,
     "metadata": {},
     "output_type": "execute_result"
    }
   ],
   "source": [
    "def string_slicing(input_string, start_index=0, final_index=None, step=1):\n",
    "    if final_index is None:\n",
    "        final_index = len(input_string)\n",
    "\n",
    "    print(start_index, final_index, step)\n",
    "    return input_string[start_index:final_index:step]\n",
    "\n",
    "\n",
    "string_slicing(\"Honorificabilitudinitatibus\")"
   ]
  },
  {
   "cell_type": "code",
   "execution_count": 26,
   "metadata": {},
   "outputs": [
    {
     "name": "stdout",
     "output_type": "stream",
     "text": [
      "0 27 1\n"
     ]
    },
    {
     "data": {
      "text/plain": [
       "'Honorificabilitudinitatibus'"
      ]
     },
     "execution_count": 26,
     "metadata": {},
     "output_type": "execute_result"
    }
   ],
   "source": [
    "def string_slicing(input_string, start_index=0, final_index=None, step=1):\n",
    "    final_index = final_index or len(input_string)\n",
    "\n",
    "    print(start_index, final_index, step)\n",
    "    return input_string[start_index:final_index:step]\n",
    "\n",
    "\n",
    "string_slicing(\"Honorificabilitudinitatibus\")"
   ]
  },
  {
   "cell_type": "code",
   "execution_count": 27,
   "metadata": {},
   "outputs": [
    {
     "name": "stdout",
     "output_type": "stream",
     "text": [
      "3 19 2\n"
     ]
    },
    {
     "data": {
      "text/plain": [
       "'oiiaiiui'"
      ]
     },
     "execution_count": 27,
     "metadata": {},
     "output_type": "execute_result"
    }
   ],
   "source": [
    "string_slicing(\"Honorificabilitudinitatibus\", 3, 19, 2)"
   ]
  },
  {
   "cell_type": "markdown",
   "metadata": {},
   "source": [
    "Function Overloading workaround"
   ]
  },
  {
   "cell_type": "code",
   "execution_count": 28,
   "metadata": {},
   "outputs": [
    {
     "name": "stdout",
     "output_type": "stream",
     "text": [
      "var1=2\t var2=3\t var3=0\n",
      "5\n",
      "var1=2\t var2=3\t var3=5\n",
      "10\n"
     ]
    }
   ],
   "source": [
    "# Two functions with same name, but different number of arguments in definition\n",
    "def myfunc(var1, var2, var3=0):\n",
    "    \"\"\"\n",
    "    Function to perform arithmetic Multiplication operation\n",
    "    :param var1: Number\n",
    "    :param var2: Number\n",
    "    :param var3: Number\n",
    "    :return: result of addition operation\n",
    "    \"\"\"\n",
    "    print(f\"var1={var1}\\t var2={var2}\\t var3={var3}\")\n",
    "    return var1 + var2 + var3\n",
    "\n",
    "\n",
    "print(myfunc(2, 3))\n",
    "print(myfunc(2, 3, 5))"
   ]
  },
  {
   "cell_type": "markdown",
   "metadata": {},
   "source": [
    "Problem with mutable default arguments"
   ]
  },
  {
   "cell_type": "code",
   "execution_count": 29,
   "metadata": {},
   "outputs": [],
   "source": [
    "def extend_list(val, mylist=[]):\n",
    "    print(f\"id(mylist) = {id(mylist)} mylist={mylist}  \")\n",
    "    mylist.append(val)\n",
    "    return mylist"
   ]
  },
  {
   "cell_type": "code",
   "execution_count": 30,
   "metadata": {},
   "outputs": [
    {
     "data": {
      "text/plain": [
       "([],)"
      ]
     },
     "execution_count": 30,
     "metadata": {},
     "output_type": "execute_result"
    }
   ],
   "source": [
    "extend_list.__defaults__"
   ]
  },
  {
   "cell_type": "code",
   "execution_count": 31,
   "metadata": {},
   "outputs": [
    {
     "name": "stdout",
     "output_type": "stream",
     "text": [
      "id(mylist) = 127794526866240 mylist=[]  \n"
     ]
    },
    {
     "data": {
      "text/plain": [
       "[10]"
      ]
     },
     "execution_count": 31,
     "metadata": {},
     "output_type": "execute_result"
    }
   ],
   "source": [
    "list1 = extend_list(10)\n",
    "list1"
   ]
  },
  {
   "cell_type": "code",
   "execution_count": 32,
   "metadata": {},
   "outputs": [
    {
     "name": "stdout",
     "output_type": "stream",
     "text": [
      "id(mylist) = 127794526868928 mylist=[]  \n"
     ]
    },
    {
     "data": {
      "text/plain": [
       "[123]"
      ]
     },
     "execution_count": 32,
     "metadata": {},
     "output_type": "execute_result"
    }
   ],
   "source": [
    "list2 = extend_list(123, [])\n",
    "list2"
   ]
  },
  {
   "cell_type": "code",
   "execution_count": 33,
   "metadata": {},
   "outputs": [
    {
     "name": "stdout",
     "output_type": "stream",
     "text": [
      "id(mylist) = 127794526866240 mylist=[10]  \n"
     ]
    },
    {
     "data": {
      "text/plain": [
       "[10, 'a']"
      ]
     },
     "execution_count": 33,
     "metadata": {},
     "output_type": "execute_result"
    }
   ],
   "source": [
    "list3 = extend_list(\"a\")\n",
    "list3"
   ]
  },
  {
   "cell_type": "code",
   "execution_count": 34,
   "metadata": {},
   "outputs": [],
   "source": [
    "# Best practice\n",
    "\n",
    "\n",
    "# def extend_list(val, mylist= []):\n",
    "#     print(f'id(mylist) = {id(mylist)} mylist={mylist}  ')\n",
    "#     mylist.append(val)\n",
    "#     return mylist\n",
    "\n",
    "\n",
    "def extend_list(val, mylist=None):\n",
    "    if mylist is None:\n",
    "        mylist = []\n",
    "    print(f\"id(mylist) = {id(mylist)} mylist={mylist}  \")\n",
    "    mylist.append(val)\n",
    "    return mylist"
   ]
  },
  {
   "cell_type": "code",
   "execution_count": 35,
   "metadata": {},
   "outputs": [
    {
     "name": "stdout",
     "output_type": "stream",
     "text": [
      "id(mylist) = 127794526893696 mylist=[]  \n",
      "[10]\n",
      "id(mylist) = 127794526865344 mylist=[]  \n",
      "[123]\n",
      "id(mylist) = 127794526884800 mylist=[]  \n",
      "['a']\n"
     ]
    }
   ],
   "source": [
    "list1 = extend_list(10)\n",
    "print(list1)\n",
    "\n",
    "list2 = extend_list(123, [])\n",
    "print(list2)\n",
    "\n",
    "list3 = extend_list(\"a\")\n",
    "print(list3)"
   ]
  },
  {
   "cell_type": "code",
   "execution_count": 36,
   "metadata": {},
   "outputs": [
    {
     "data": {
      "text/plain": [
       "(127794526893696, 127794526865344, 127794526884800)"
      ]
     },
     "execution_count": 36,
     "metadata": {},
     "output_type": "execute_result"
    }
   ],
   "source": [
    "id(list1), id(list2), id(list3)"
   ]
  },
  {
   "cell_type": "markdown",
   "metadata": {},
   "source": [
    "Variadic Functions\n",
    "Function which can accept any number of arguments\n",
    "\n",
    "Ex: print() function"
   ]
  },
  {
   "cell_type": "code",
   "execution_count": 37,
   "metadata": {},
   "outputs": [
    {
     "name": "stdout",
     "output_type": "stream",
     "text": [
      "\n"
     ]
    }
   ],
   "source": [
    "print()"
   ]
  },
  {
   "cell_type": "code",
   "execution_count": 38,
   "metadata": {},
   "outputs": [
    {
     "name": "stdout",
     "output_type": "stream",
     "text": [
      "12\n"
     ]
    }
   ],
   "source": [
    "print(12)"
   ]
  },
  {
   "cell_type": "code",
   "execution_count": 39,
   "metadata": {},
   "outputs": [
    {
     "name": "stdout",
     "output_type": "stream",
     "text": [
      "None\n"
     ]
    }
   ],
   "source": [
    "print(hello.__kwdefaults__)"
   ]
  },
  {
   "cell_type": "code",
   "execution_count": 40,
   "metadata": {},
   "outputs": [
    {
     "name": "stdout",
     "output_type": "stream",
     "text": [
      "\n",
      "type(given)   <class 'tuple'>\n",
      "given ()\n",
      "--------------------\n",
      "\n",
      "type(given)   <class 'tuple'>\n",
      "given (99,)\n",
      "--------------------\n",
      "\n",
      "type(given)   <class 'tuple'>\n",
      "given (99, -0.2312)\n",
      "--------------------\n",
      "\n",
      "type(given)   <class 'tuple'>\n",
      "given (99, -0.2312, 12, '34', None, {12: '34'}, [10])\n",
      "--------------------\n"
     ]
    }
   ],
   "source": [
    "# Function Definition\n",
    "def hello(*given):\n",
    "    print(\"\\ntype(given)  \", type(given))\n",
    "\n",
    "    print(\"given \" + str(given))\n",
    "    print(\"-\" * 20)\n",
    "\n",
    "\n",
    "# works for any number of arguments\n",
    "hello()\n",
    "hello(99)\n",
    "hello(99, -0.2312)\n",
    "hello(99, -0.2312, 12, \"34\", None, {12: \"34\"}, list1)"
   ]
  },
  {
   "cell_type": "code",
   "execution_count": 41,
   "metadata": {},
   "outputs": [
    {
     "name": "stdout",
     "output_type": "stream",
     "text": [
      "\n",
      "type(given)   <class 'tuple'>\n",
      "type(feed_in)  <class 'dict'>\n",
      "given   ()\n",
      "feed_in {}\n",
      "--------------------\n",
      "\n",
      "type(given)   <class 'tuple'>\n",
      "type(feed_in)  <class 'dict'>\n",
      "given   (99,)\n",
      "feed_in {}\n",
      "--------------------\n",
      "\n",
      "type(given)   <class 'tuple'>\n",
      "type(feed_in)  <class 'dict'>\n",
      "given   (99, -0.2312)\n",
      "feed_in {}\n",
      "--------------------\n",
      "\n",
      "type(given)   <class 'tuple'>\n",
      "type(feed_in)  <class 'dict'>\n",
      "given   (99, -0.2312, 12, '34', None, {12: '34'}, [10])\n",
      "feed_in {}\n",
      "--------------------\n",
      "\n",
      "type(given)   <class 'tuple'>\n",
      "type(feed_in)  <class 'dict'>\n",
      "given   ()\n",
      "feed_in {'language': 'Python'}\n",
      "--------------------\n",
      "\n",
      "type(given)   <class 'tuple'>\n",
      "type(feed_in)  <class 'dict'>\n",
      "given   ()\n",
      "feed_in {'language': 'Python', 'env': 'dev'}\n",
      "--------------------\n",
      "\n",
      "type(given)   <class 'tuple'>\n",
      "type(feed_in)  <class 'dict'>\n",
      "given   ()\n",
      "feed_in {'language': 'Python', 'version': 3, 'subversion': 8}\n",
      "--------------------\n"
     ]
    }
   ],
   "source": [
    "# Function Definition\n",
    "def hello(*given, **feed_in):\n",
    "    print(\"\\ntype(given)  \", type(given))\n",
    "    print(\"type(feed_in) \", type(feed_in))\n",
    "\n",
    "    print(\"given   \" + str(given))\n",
    "    print(\"feed_in \" + str(feed_in))\n",
    "    print(\"-\" * 20)\n",
    "\n",
    "\n",
    "# works for any number of arguments & keyword arguments\n",
    "hello()\n",
    "hello(99)\n",
    "hello(99, -0.2312)\n",
    "hello(99, -0.2312, 12, \"34\", None, {12: \"34\"}, list1)\n",
    "\n",
    "hello(language=\"Python\")\n",
    "hello(language=\"Python\", env=\"dev\")\n",
    "hello(language=\"Python\", version=3, subversion=8)"
   ]
  },
  {
   "cell_type": "code",
   "execution_count": 42,
   "metadata": {},
   "outputs": [
    {
     "name": "stdout",
     "output_type": "stream",
     "text": [
      "\n",
      "type(given)   <class 'tuple'>\n",
      "type(feed_in)  <class 'dict'>\n",
      "given   ()\n",
      "feed_in {'brand': 'Ford', 'model': 'Mustang', 'year': 1964}\n",
      "--------------------\n"
     ]
    }
   ],
   "source": [
    "hello(brand=\"Ford\", model=\"Mustang\", year=1964)"
   ]
  },
  {
   "cell_type": "code",
   "execution_count": 43,
   "metadata": {},
   "outputs": [
    {
     "name": "stdout",
     "output_type": "stream",
     "text": [
      "\n",
      "type(given)   <class 'tuple'>\n",
      "type(feed_in)  <class 'dict'>\n",
      "given   ()\n",
      "feed_in {'brand': 'Ford', 'model': 'Mustang', 'year': 1964}\n",
      "--------------------\n"
     ]
    }
   ],
   "source": [
    "# dictionary unpacking\n",
    "my_dict = {\"brand\": \"Ford\", \"model\": \"Mustang\", \"year\": 1964}\n",
    "hello(**my_dict)"
   ]
  },
  {
   "cell_type": "code",
   "execution_count": 44,
   "metadata": {},
   "outputs": [
    {
     "name": "stdout",
     "output_type": "stream",
     "text": [
      "\n",
      "type(given)   <class 'tuple'>\n",
      "type(feed_in)  <class 'dict'>\n",
      "given   (212.34, 'India', 798787987987975)\n",
      "feed_in {'number': 34, 'mystring': 'sdas', 'larger_number': 342432, 'brand': 'Ford', 'model': 'Mustang', 'year': 1964}\n",
      "--------------------\n"
     ]
    }
   ],
   "source": [
    "hello(\n",
    "    212.34,\n",
    "    \"India\",\n",
    "    798787987987975,  # variable args\n",
    "    number=34,\n",
    "    mystring=\"sdas\",\n",
    "    larger_number=342432,  # variable keyword args\n",
    "    **my_dict  # variable keyword args, unpacked from dict\n",
    ")"
   ]
  },
  {
   "cell_type": "markdown",
   "metadata": {},
   "source": [
    "Function with keyword ONLY arguments (only in python 3.x)"
   ]
  },
  {
   "cell_type": "code",
   "execution_count": 45,
   "metadata": {},
   "outputs": [
    {
     "name": "stdout",
     "output_type": "stream",
     "text": [
      "\n",
      "type(maxsize)   <class 'int'>\n",
      "type(block)  <class 'bool'>\n",
      "maxsize   8192\n",
      "block False\n",
      "--------------------\n"
     ]
    }
   ],
   "source": [
    "# Function Definition\n",
    "def recv(maxsize, *, block=True):\n",
    "    print(\"\\ntype(maxsize)  \", type(maxsize))\n",
    "    print(\"type(block) \", type(block))\n",
    "\n",
    "    print(\"maxsize   \" + str(maxsize))\n",
    "    print(\"block \" + str(block))\n",
    "    print(\"-\" * 20)\n",
    "\n",
    "\n",
    "# Function Call\n",
    "recv(8192, block=False)"
   ]
  },
  {
   "cell_type": "code",
   "execution_count": 46,
   "metadata": {},
   "outputs": [
    {
     "name": "stdout",
     "output_type": "stream",
     "text": [
      "\n",
      "type(maxsize)   <class 'int'>\n",
      "type(block)  <class 'bool'>\n",
      "maxsize   8192\n",
      "block False\n",
      "--------------------\n"
     ]
    }
   ],
   "source": [
    "# Function Definition\n",
    "def recv(maxsize, /, block=True):\n",
    "    print(\"\\ntype(maxsize)  \", type(maxsize))\n",
    "    print(\"type(block) \", type(block))\n",
    "\n",
    "    print(\"maxsize   \" + str(maxsize))\n",
    "    print(\"block \" + str(block))\n",
    "    print(\"-\" * 20)\n",
    "\n",
    "\n",
    "# Function Call\n",
    "recv(8192, block=False)"
   ]
  },
  {
   "cell_type": "code",
   "execution_count": 47,
   "metadata": {},
   "outputs": [
    {
     "name": "stdout",
     "output_type": "stream",
     "text": [
      "\n",
      "type(maxsize)   <class 'int'>\n",
      "type(block)  <class 'bool'>\n",
      "maxsize   8192\n",
      "block False\n",
      "--------------------\n"
     ]
    }
   ],
   "source": [
    "recv(8192, False)"
   ]
  },
  {
   "cell_type": "markdown",
   "metadata": {},
   "source": [
    "Scoping - Global vs Local"
   ]
  },
  {
   "cell_type": "code",
   "execution_count": 48,
   "metadata": {},
   "outputs": [
    {
     "name": "stdout",
     "output_type": "stream",
     "text": [
      "in      --- alphabets {'a': 1, 'b': 2}\n",
      "outside --- alphabets {'a': 1, 'b': 2}\n"
     ]
    }
   ],
   "source": [
    "alphabets = {\"a\": 1, \"b\": 2}  # mutable object\n",
    "\n",
    "\n",
    "def computation():\n",
    "    print(\"in      --- alphabets\", alphabets)\n",
    "\n",
    "\n",
    "computation()\n",
    "print(\"outside --- alphabets\", alphabets)"
   ]
  },
  {
   "cell_type": "code",
   "execution_count": 49,
   "metadata": {},
   "outputs": [
    {
     "name": "stdout",
     "output_type": "stream",
     "text": [
      "in - before - alphabets {'a': 1, 'b': 2}\n",
      "in - after - alphabets {'a': 1, 'b': 2, 'c': 3}\n",
      "outside --- alphabets {'a': 1, 'b': 2, 'c': 3}\n"
     ]
    }
   ],
   "source": [
    "alphabets = {\"a\": 1, \"b\": 2}  # mutable object\n",
    "\n",
    "\n",
    "def computation():\n",
    "    print(\"in - before - alphabets\", alphabets)\n",
    "    alphabets[\"c\"] = 3\n",
    "    print(\"in - after - alphabets\", alphabets)\n",
    "\n",
    "\n",
    "computation()\n",
    "print(\"outside --- alphabets\", alphabets)   # data leakage"
   ]
  },
  {
   "cell_type": "code",
   "execution_count": 50,
   "metadata": {},
   "outputs": [
    {
     "name": "stdout",
     "output_type": "stream",
     "text": [
      "in - before - alphabets {'a': 1, 'b': 2}\n",
      "in - after - alphabets {'a': 1, 'b': 2, 'c': 3}\n",
      "id(alphabets_local):127794526909120\n",
      "outside --- alphabets {'a': 1, 'b': 2, 'c': 3}\n",
      "id(alphabets):127794526909120\n"
     ]
    },
    {
     "ename": "NameError",
     "evalue": "name 'alphabets_local' is not defined",
     "output_type": "error",
     "traceback": [
      "\u001b[0;31m---------------------------------------------------------------------------\u001b[0m",
      "\u001b[0;31mNameError\u001b[0m                                 Traceback (most recent call last)",
      "Cell \u001b[0;32mIn[50], line 15\u001b[0m\n\u001b[1;32m     12\u001b[0m \u001b[38;5;28mprint\u001b[39m(\u001b[38;5;124m\"\u001b[39m\u001b[38;5;124moutside --- alphabets\u001b[39m\u001b[38;5;124m\"\u001b[39m, alphabets)\n\u001b[1;32m     14\u001b[0m \u001b[38;5;28mprint\u001b[39m(\u001b[38;5;124mf\u001b[39m\u001b[38;5;124m\"\u001b[39m\u001b[38;5;124mid(alphabets):\u001b[39m\u001b[38;5;132;01m{\u001b[39;00m\u001b[38;5;28mid\u001b[39m(alphabets)\u001b[38;5;132;01m}\u001b[39;00m\u001b[38;5;124m\"\u001b[39m)\n\u001b[0;32m---> 15\u001b[0m \u001b[38;5;28mprint\u001b[39m(\u001b[38;5;124mf\u001b[39m\u001b[38;5;124m\"\u001b[39m\u001b[38;5;124mid(alphabets_local):\u001b[39m\u001b[38;5;132;01m{\u001b[39;00m\u001b[38;5;28mid\u001b[39m(\u001b[43malphabets_local\u001b[49m)\u001b[38;5;132;01m}\u001b[39;00m\u001b[38;5;124m\"\u001b[39m)\n",
      "\u001b[0;31mNameError\u001b[0m: name 'alphabets_local' is not defined"
     ]
    }
   ],
   "source": [
    "alphabets = {\"a\": 1, \"b\": 2}  # mutable object\n",
    "\n",
    "\n",
    "def computation(alphabets_local):\n",
    "    print(\"in - before - alphabets\", alphabets_local)\n",
    "    alphabets_local[\"c\"] = 3\n",
    "    print(\"in - after - alphabets\", alphabets_local)\n",
    "    print(f\"id(alphabets_local):{id(alphabets_local)}\")\n",
    "\n",
    "\n",
    "computation(alphabets)\n",
    "print(\"outside --- alphabets\", alphabets)\n",
    "\n",
    "print(f\"id(alphabets):{id(alphabets)}\")\n",
    "print(f\"id(alphabets_local):{id(alphabets_local)}\")"
   ]
  },
  {
   "cell_type": "code",
   "execution_count": 51,
   "metadata": {},
   "outputs": [
    {
     "name": "stdout",
     "output_type": "stream",
     "text": [
      "in - before - alphabets {'a': 1, 'b': 2}\n",
      "in - after - alphabets {'a': 1, 'b': 2, 'c': 3}\n",
      "id(alphabets_local):127794526909120\n",
      "outside --- alphabets {'a': 1, 'b': 2}\n",
      "id(alphabets):127794528126016\n"
     ]
    }
   ],
   "source": [
    "alphabets = {\"a\": 1, \"b\": 2}  # mutable object\n",
    "\n",
    "\n",
    "def computation(alphabets_local):\n",
    "    alphabets_local = alphabets_local.copy()                # safe copy to avoid leakage\n",
    "    print(\"in - before - alphabets\", alphabets_local)\n",
    "    alphabets_local[\"c\"] = 3\n",
    "    print(\"in - after - alphabets\", alphabets_local)\n",
    "    print(f\"id(alphabets_local):{id(alphabets_local)}\")\n",
    "\n",
    "\n",
    "computation(alphabets)\n",
    "print(\"outside --- alphabets\", alphabets)\n",
    "\n",
    "print(f\"id(alphabets):{id(alphabets)}\")"
   ]
  },
  {
   "cell_type": "code",
   "execution_count": 52,
   "metadata": {},
   "outputs": [
    {
     "data": {
      "text/plain": [
       "'Baahubali: The Beginning is good movie to watch'"
      ]
     },
     "execution_count": 52,
     "metadata": {},
     "output_type": "execute_result"
    }
   ],
   "source": [
    "def movie_review():\n",
    "    return f\"{movie_watched} is good movie to watch\"\n",
    "\n",
    "\n",
    "movie_watched = \"Baahubali: The Beginning\"  # immutable object\n",
    "\n",
    "movie_review()"
   ]
  },
  {
   "cell_type": "code",
   "execution_count": 53,
   "metadata": {},
   "outputs": [
    {
     "name": "stdout",
     "output_type": "stream",
     "text": [
      "The Social Network is good movie to watch\n",
      "outside - function - movie_watched:Baahubali: The Beginning\n"
     ]
    }
   ],
   "source": [
    "def movie_review(movie_watched):\n",
    "    movie_watched = \"The Social Network\"  # Local scope\n",
    "    return f\"{movie_watched} is good movie to watch\"\n",
    "\n",
    "\n",
    "movie_watched = \"Baahubali: The Beginning\"  # Global\n",
    "\n",
    "print(movie_review(movie_watched))\n",
    "print(f\"outside - function - movie_watched:{movie_watched}\")"
   ]
  },
  {
   "cell_type": "code",
   "execution_count": 54,
   "metadata": {},
   "outputs": [
    {
     "ename": "SyntaxError",
     "evalue": "name 'movie_watched' is parameter and global (4128333416.py, line 2)",
     "output_type": "error",
     "traceback": [
      "\u001b[0;36m  Cell \u001b[0;32mIn[54], line 2\u001b[0;36m\u001b[0m\n\u001b[0;31m    global movie_watched\u001b[0m\n\u001b[0m    ^\u001b[0m\n\u001b[0;31mSyntaxError\u001b[0m\u001b[0;31m:\u001b[0m name 'movie_watched' is parameter and global\n"
     ]
    }
   ],
   "source": [
    "def movie_review(movie_watched):\n",
    "    global movie_watched\n",
    "    movie_watched = \"The Social Network\"  # Local scope\n",
    "    return f\"{movie_watched} is good movie to watch\"\n",
    "\n",
    "\n",
    "movie_watched = \"Baahubali: The Beginning\"  # Global\n",
    "\n",
    "print(movie_review(movie_watched))\n",
    "print(f\"outside - function - movie_watched:{movie_watched}\")"
   ]
  },
  {
   "cell_type": "code",
   "execution_count": 55,
   "metadata": {},
   "outputs": [
    {
     "name": "stdout",
     "output_type": "stream",
     "text": [
      "The Social Network is good movie to watch\n",
      "outside - function - movie_watched:The Social Network\n"
     ]
    }
   ],
   "source": [
    "def movie_review():\n",
    "    global movie_watched  # Global Scope\n",
    "    movie_watched = \"The Social Network\"  # Local scope\n",
    "    return f\"{movie_watched} is good movie to watch\"\n",
    "\n",
    "\n",
    "movie_watched = \"Baahubali: The Beginning\"  # Global\n",
    "\n",
    "print(movie_review())\n",
    "print(f\"outside - function - movie_watched:{movie_watched}\")"
   ]
  },
  {
   "cell_type": "markdown",
   "metadata": {},
   "source": [
    "mutable local changes reflected outside --- call by reference copy() -- locall changes not relfected outside -- call by value\n",
    "\n",
    "immutables local changes not reflected outside -- call by values with global keyword, changes reflected outside -- call by reference\n",
    "\n",
    "call by reference - changes within the function will reflect at the global leve"
   ]
  },
  {
   "cell_type": "markdown",
   "metadata": {},
   "source": [
    "Recursive Functions\n",
    "Three Laws of Recursion:\n",
    "\n",
    "A recursive algorithm must have a base case.\n",
    "A recursive algorithm must change its state and move toward the base case.\n",
    "A recursive algorithm must call itself, recursively.\n",
    "pseudo-code:\n",
    "\n",
    "def funcName(<input paramaters>):\n",
    "    <some logic>\n",
    "    return funcName(<input parameters>)\n",
    "Recursion is a programming technique in which a call to a function results in another call to that same function.\n",
    "\n",
    "Iteration is calling an object, and moving over it."
   ]
  },
  {
   "cell_type": "code",
   "execution_count": 1,
   "metadata": {},
   "outputs": [
    {
     "name": "stdout",
     "output_type": "stream",
     "text": [
      "616\n"
     ]
    }
   ],
   "source": [
    "# calculating sum of a list of numbers\n",
    "\n",
    "\n",
    "# Non-recursive implementation\n",
    "def sumOfList(num_list):  # conventional implementation\n",
    "    total = 0\n",
    "    for i in num_list:\n",
    "        total += i\n",
    "    return total\n",
    "\n",
    "\n",
    "print(sumOfList([12, 23, 34, 546, 1]))"
   ]
  },
  {
   "cell_type": "code",
   "execution_count": 2,
   "metadata": {},
   "outputs": [
    {
     "name": "stdout",
     "output_type": "stream",
     "text": [
      "616\n"
     ]
    }
   ],
   "source": [
    " #calculating sum of a list of numbers\n",
    "\n",
    "\n",
    "# implementation using recursions\n",
    "def sumOfListRec(num_list):\n",
    "    if len(num_list) == 1:\n",
    "        return num_list[0]\n",
    "    else:\n",
    "        return num_list[0] + sumOfListRec(num_list[1:])\n",
    "\n",
    "\n",
    "print(sumOfListRec([12, 23, 34, 546, 1]))"
   ]
  },
  {
   "cell_type": "code",
   "execution_count": 3,
   "metadata": {},
   "outputs": [
    {
     "name": "stdout",
     "output_type": "stream",
     "text": [
      "5\n"
     ]
    }
   ],
   "source": [
    "def fib(n):\n",
    "    if n == 0:\n",
    "        return 0\n",
    "    elif n == 1:\n",
    "        return 1\n",
    "    else:\n",
    "        return fib(n - 1) + fib(n - 2)\n",
    "\n",
    "\n",
    "# 5th element    # fib(4)+fib(3)\n",
    "# fib(4) -> fib(3)+fib(2);\n",
    "# fib(3) -> fib(2)+fib(1)\n",
    "# fib(2) -> fib(1)+ fib(0) = 1+ 0\n",
    "#             fib ...\n",
    "print(fib(5))\n",
    "\n",
    "# print '='*80\n",
    "# factorial(5) = 5*4*3*2*1 ="
   ]
  },
  {
   "cell_type": "code",
   "execution_count": 4,
   "metadata": {},
   "outputs": [
    {
     "name": "stdout",
     "output_type": "stream",
     "text": [
      "1\n",
      "1\n",
      "6\n",
      "120\n",
      "120\n"
     ]
    }
   ],
   "source": [
    "def factorial(n):\n",
    "    if n == 0:\n",
    "        return 1\n",
    "    else:\n",
    "        return abs(n) * factorial(abs(n) - 1)\n",
    "\n",
    "\n",
    "print(factorial(0))\n",
    "print(factorial(1))\n",
    "print(factorial(3))\n",
    "print(factorial(5))\n",
    "\n",
    "print(factorial(-5))"
   ]
  },
  {
   "cell_type": "code",
   "execution_count": 6,
   "metadata": {},
   "outputs": [
    {
     "name": "stdout",
     "output_type": "stream",
     "text": [
      "3000\n"
     ]
    }
   ],
   "source": [
    "import sys\n",
    "\n",
    "print(sys.getrecursionlimit())"
   ]
  },
  {
   "cell_type": "code",
   "execution_count": 7,
   "metadata": {},
   "outputs": [
    {
     "name": "stdout",
     "output_type": "stream",
     "text": [
      "250\n"
     ]
    }
   ],
   "source": [
    "sys.setrecursionlimit(250)\n",
    "print(sys.getrecursionlimit())"
   ]
  },
  {
   "cell_type": "code",
   "execution_count": 8,
   "metadata": {},
   "outputs": [
    {
     "name": "stdout",
     "output_type": "stream",
     "text": [
      "Hi! I am in Loop \n",
      "This is Loop 1\n",
      "Hi! I am in Loop \n",
      "This is Loop 2\n",
      "Hi! I am in Loop \n",
      "This is Loop 3\n",
      "Hi! I am in Loop \n",
      "This is Loop 4\n",
      "Hi! I am in Loop \n",
      "This is Loop 5\n",
      "Hi! I am in Loop \n",
      "This is Loop 6\n",
      "Hi! I am in Loop \n",
      "This is Loop 7\n",
      "Hi! I am in Loop \n",
      "This is Loop 8\n",
      "Hi! I am in Loop \n",
      "This is Loop 9\n",
      "Hi! I am in Loop \n",
      "This is Loop 10\n",
      "Hi! I am in Loop \n",
      "This is Loop 11\n",
      "Hi! I am in Loop \n",
      "This is Loop 12\n",
      "Hi! I am in Loop \n",
      "This is Loop 13\n",
      "Hi! I am in Loop \n",
      "This is Loop 14\n",
      "Hi! I am in Loop \n",
      "This is Loop 15\n",
      "Hi! I am in Loop \n",
      "This is Loop 16\n",
      "Hi! I am in Loop \n",
      "This is Loop 17\n",
      "Hi! I am in Loop \n",
      "This is Loop 18\n",
      "Hi! I am in Loop \n",
      "This is Loop 19\n",
      "Hi! I am in Loop \n",
      "This is Loop 20\n",
      "Hi! I am in Loop \n",
      "This is Loop 21\n",
      "Hi! I am in Loop \n",
      "This is Loop 22\n",
      "Hi! I am in Loop \n",
      "This is Loop 23\n",
      "Hi! I am in Loop \n",
      "This is Loop 24\n",
      "Hi! I am in Loop \n",
      "This is Loop 25\n",
      "Hi! I am in Loop \n",
      "This is Loop 26\n",
      "Hi! I am in Loop \n",
      "This is Loop 27\n",
      "Hi! I am in Loop \n",
      "This is Loop 28\n",
      "Hi! I am in Loop \n",
      "This is Loop 29\n",
      "Hi! I am in Loop \n",
      "This is Loop 30\n",
      "Hi! I am in Loop \n",
      "This is Loop 31\n",
      "Hi! I am in Loop \n",
      "This is Loop 32\n",
      "Hi! I am in Loop \n",
      "This is Loop 33\n",
      "Hi! I am in Loop \n",
      "This is Loop 34\n",
      "Hi! I am in Loop \n",
      "This is Loop 35\n",
      "Hi! I am in Loop \n",
      "This is Loop 36\n",
      "Hi! I am in Loop \n",
      "This is Loop 37\n",
      "Hi! I am in Loop \n",
      "This is Loop 38\n",
      "Hi! I am in Loop \n",
      "This is Loop 39\n",
      "Hi! I am in Loop \n",
      "This is Loop 40\n",
      "Hi! I am in Loop \n",
      "This is Loop 41\n",
      "Hi! I am in Loop \n",
      "This is Loop 42\n",
      "Hi! I am in Loop \n",
      "This is Loop 43\n",
      "Hi! I am in Loop \n",
      "This is Loop 44\n",
      "Hi! I am in Loop \n",
      "This is Loop 45\n",
      "Hi! I am in Loop \n",
      "This is Loop 46\n",
      "Hi! I am in Loop \n",
      "This is Loop 47\n",
      "Hi! I am in Loop \n",
      "This is Loop 48\n",
      "Hi! I am in Loop \n",
      "This is Loop 49\n",
      "Hi! I am in Loop \n",
      "This is Loop 50\n",
      "Hi! I am in Loop \n",
      "This is Loop 51\n",
      "Hi! I am in Loop \n",
      "This is Loop 52\n",
      "Hi! I am in Loop \n",
      "This is Loop 53\n",
      "Hi! I am in Loop \n",
      "This is Loop 54\n",
      "Hi! I am in Loop \n",
      "This is Loop 55\n",
      "Hi! I am in Loop \n",
      "This is Loop 56\n",
      "Hi! I am in Loop \n",
      "This is Loop 57\n",
      "Hi! I am in Loop \n",
      "This is Loop 58\n",
      "Hi! I am in Loop \n",
      "This is Loop 59\n",
      "Hi! I am in Loop \n",
      "This is Loop 60\n",
      "Hi! I am in Loop \n",
      "This is Loop 61\n",
      "Hi! I am in Loop \n",
      "This is Loop 62\n",
      "Hi! I am in Loop \n",
      "This is Loop 63\n",
      "Hi! I am in Loop \n",
      "This is Loop 64\n",
      "Hi! I am in Loop \n",
      "This is Loop 65\n",
      "Hi! I am in Loop \n",
      "This is Loop 66\n",
      "Hi! I am in Loop \n",
      "This is Loop 67\n",
      "Hi! I am in Loop \n",
      "This is Loop 68\n",
      "Hi! I am in Loop \n",
      "This is Loop 69\n",
      "Hi! I am in Loop \n",
      "This is Loop 70\n",
      "Hi! I am in Loop \n",
      "This is Loop 71\n",
      "Hi! I am in Loop \n",
      "This is Loop 72\n",
      "Hi! I am in Loop \n",
      "This is Loop 73\n",
      "Hi! I am in Loop \n",
      "This is Loop 74\n",
      "Hi! I am in Loop \n",
      "This is Loop 75\n",
      "Hi! I am in Loop \n",
      "This is Loop 76\n",
      "Hi! I am in Loop \n",
      "This is Loop 77\n",
      "Hi! I am in Loop \n",
      "This is Loop 78\n",
      "Hi! I am in Loop \n",
      "This is Loop 79\n",
      "Hi! I am in Loop \n",
      "This is Loop 80\n",
      "Hi! I am in Loop \n",
      "This is Loop 81\n",
      "Hi! I am in Loop \n",
      "This is Loop 82\n",
      "Hi! I am in Loop \n",
      "This is Loop 83\n",
      "Hi! I am in Loop \n",
      "This is Loop 84\n",
      "Hi! I am in Loop \n",
      "This is Loop 85\n",
      "Hi! I am in Loop \n",
      "This is Loop 86\n",
      "Hi! I am in Loop \n",
      "This is Loop 87\n",
      "Hi! I am in Loop \n",
      "This is Loop 88\n",
      "Hi! I am in Loop \n",
      "This is Loop 89\n",
      "Hi! I am in Loop \n",
      "This is Loop 90\n",
      "Hi! I am in Loop \n",
      "This is Loop 91\n",
      "Hi! I am in Loop \n",
      "This is Loop 92\n",
      "Hi! I am in Loop \n",
      "This is Loop 93\n",
      "Hi! I am in Loop \n",
      "This is Loop 94\n",
      "Hi! I am in Loop \n",
      "This is Loop 95\n",
      "Hi! I am in Loop \n",
      "This is Loop 96\n",
      "Hi! I am in Loop \n",
      "This is Loop 97\n",
      "Hi! I am in Loop \n",
      "This is Loop 98\n",
      "Hi! I am in Loop \n",
      "This is Loop 99\n",
      "Hi! I am in Loop \n",
      "This is Loop 100\n",
      "Hi! I am in Loop \n",
      "This is Loop 101\n",
      "Hi! I am in Loop \n",
      "This is Loop 102\n",
      "Hi! I am in Loop \n",
      "This is Loop 103\n",
      "Hi! I am in Loop \n",
      "This is Loop 104\n",
      "Hi! I am in Loop \n",
      "This is Loop 105\n",
      "Hi! I am in Loop \n",
      "This is Loop 106\n",
      "Hi! I am in Loop \n",
      "This is Loop 107\n",
      "Hi! I am in Loop \n",
      "This is Loop 108\n",
      "Hi! I am in Loop \n",
      "This is Loop 109\n",
      "Hi! I am in Loop \n",
      "This is Loop 110\n",
      "Hi! I am in Loop \n",
      "This is Loop 111\n",
      "Hi! I am in Loop \n",
      "This is Loop 112\n",
      "Hi! I am in Loop \n",
      "This is Loop 113\n",
      "Hi! I am in Loop \n",
      "This is Loop 114\n",
      "Hi! I am in Loop \n",
      "This is Loop 115\n",
      "Hi! I am in Loop \n",
      "This is Loop 116\n",
      "Hi! I am in Loop \n",
      "This is Loop 117\n",
      "Hi! I am in Loop \n",
      "This is Loop 118\n",
      "Hi! I am in Loop \n",
      "This is Loop 119\n",
      "Hi! I am in Loop \n",
      "This is Loop 120\n",
      "Hi! I am in Loop \n",
      "This is Loop 121\n",
      "Hi! I am in Loop \n",
      "This is Loop 122\n",
      "Hi! I am in Loop \n",
      "This is Loop 123\n",
      "Hi! I am in Loop \n",
      "This is Loop 124\n",
      "Hi! I am in Loop \n",
      "This is Loop 125\n",
      "Hi! I am in Loop \n",
      "This is Loop 126\n",
      "Hi! I am in Loop \n",
      "This is Loop 127\n",
      "Hi! I am in Loop \n",
      "This is Loop 128\n",
      "Hi! I am in Loop \n",
      "This is Loop 129\n",
      "Hi! I am in Loop \n",
      "This is Loop 130\n",
      "Hi! I am in Loop \n",
      "This is Loop 131\n",
      "Hi! I am in Loop \n",
      "This is Loop 132\n",
      "Hi! I am in Loop \n",
      "This is Loop 133\n",
      "Hi! I am in Loop \n",
      "This is Loop 134\n",
      "Hi! I am in Loop \n",
      "This is Loop 135\n",
      "Hi! I am in Loop \n",
      "This is Loop 136\n",
      "Hi! I am in Loop \n",
      "This is Loop 137\n",
      "Hi! I am in Loop \n",
      "This is Loop 138\n",
      "Hi! I am in Loop \n",
      "This is Loop 139\n",
      "Hi! I am in Loop \n",
      "This is Loop 140\n",
      "Hi! I am in Loop \n",
      "This is Loop 141\n",
      "Hi! I am in Loop \n",
      "This is Loop 142\n",
      "Hi! I am in Loop \n",
      "This is Loop 143\n",
      "Hi! I am in Loop \n",
      "This is Loop 144\n",
      "Hi! I am in Loop \n",
      "This is Loop 145\n",
      "Hi! I am in Loop \n",
      "This is Loop 146\n",
      "Hi! I am in Loop \n",
      "This is Loop 147\n",
      "Hi! I am in Loop \n",
      "This is Loop 148\n",
      "Hi! I am in Loop \n",
      "This is Loop 149\n",
      "Hi! I am in Loop \n",
      "This is Loop 150\n",
      "Hi! I am in Loop \n",
      "This is Loop 151\n",
      "Hi! I am in Loop \n",
      "This is Loop 152\n",
      "Hi! I am in Loop \n",
      "This is Loop 153\n",
      "Hi! I am in Loop \n",
      "This is Loop 154\n",
      "Hi! I am in Loop \n",
      "This is Loop 155\n",
      "Hi! I am in Loop \n",
      "This is Loop 156\n",
      "Hi! I am in Loop \n",
      "This is Loop 157\n",
      "Hi! I am in Loop \n",
      "This is Loop 158\n",
      "Hi! I am in Loop \n",
      "This is Loop 159\n",
      "Hi! I am in Loop \n",
      "This is Loop 160\n",
      "Hi! I am in Loop \n",
      "This is Loop 161\n",
      "Hi! I am in Loop \n",
      "This is Loop 162\n",
      "Hi! I am in Loop \n",
      "This is Loop 163\n",
      "Hi! I am in Loop \n",
      "This is Loop 164\n",
      "Hi! I am in Loop \n",
      "This is Loop 165\n",
      "Hi! I am in Loop \n",
      "This is Loop 166\n",
      "Hi! I am in Loop \n",
      "This is Loop 167\n",
      "Hi! I am in Loop \n",
      "This is Loop 168\n",
      "Hi! I am in Loop \n",
      "This is Loop 169\n",
      "Hi! I am in Loop \n",
      "This is Loop 170\n",
      "Hi! I am in Loop \n",
      "This is Loop 171\n",
      "Hi! I am in Loop \n",
      "This is Loop 172\n",
      "Hi! I am in Loop \n",
      "This is Loop 173\n",
      "Hi! I am in Loop \n",
      "This is Loop 174\n",
      "Hi! I am in Loop \n",
      "This is Loop 175\n",
      "Hi! I am in Loop \n",
      "This is Loop 176\n",
      "Hi! I am in Loop \n",
      "This is Loop 177\n",
      "Hi! I am in Loop \n",
      "This is Loop 178\n",
      "Hi! I am in Loop \n",
      "This is Loop 179\n",
      "Hi! I am in Loop \n",
      "This is Loop 180\n",
      "Hi! I am in Loop \n",
      "This is Loop 181\n",
      "Hi! I am in Loop \n",
      "This is Loop 182\n",
      "Hi! I am in Loop \n",
      "This is Loop 183\n",
      "Hi! I am in Loop \n",
      "This is Loop 184\n",
      "Hi! I am in Loop \n",
      "This is Loop 185\n",
      "Hi! I am in Loop \n",
      "This is Loop 186\n",
      "Hi! I am in Loop \n",
      "This is Loop 187\n",
      "Hi! I am in Loop \n",
      "This is Loop 188\n",
      "Hi! I am in Loop \n",
      "This is Loop 189\n",
      "Hi! I am in Loop \n",
      "This is Loop 190\n",
      "Hi! I am in Loop \n",
      "This is Loop 191\n",
      "Hi! I am in Loop \n",
      "This is Loop 192\n",
      "Hi! I am in Loop \n",
      "This is Loop 193\n",
      "Hi! I am in Loop \n",
      "This is Loop 194\n",
      "Hi! I am in Loop \n",
      "This is Loop 195\n",
      "Hi! I am in Loop \n",
      "This is Loop 196\n",
      "Hi! I am in Loop \n",
      "This is Loop 197\n",
      "Hi! I am in Loop \n",
      "This is Loop 198\n",
      "Hi! I am in Loop \n",
      "This is Loop 199\n",
      "Hi! I am in Loop \n",
      "This is Loop 200\n",
      "Hi! I am in Loop \n",
      "This is Loop 201\n",
      "Hi! I am in Loop \n",
      "This is Loop 202\n",
      "Hi! I am in Loop \n",
      "This is Loop 203\n",
      "Hi! I am in Loop \n",
      "This is Loop 204\n",
      "Hi! I am in Loop \n",
      "This is Loop 205\n",
      "Hi! I am in Loop \n",
      "This is Loop 206\n",
      "Hi! I am in Loop \n",
      "This is Loop 207\n",
      "Hi! I am in Loop \n",
      "This is Loop 208\n",
      "Hi! I am in Loop \n",
      "This is Loop 209\n",
      "Hi! I am in Loop \n",
      "This is Loop 210\n",
      "Hi! I am in Loop \n",
      "This is Loop 211\n",
      "Hi! I am in Loop \n",
      "This is Loop 212\n",
      "Hi! I am in Loop \n",
      "This is Loop 213\n",
      "Hi! I am in Loop \n",
      "This is Loop 214\n",
      "Hi! I am in Loop \n",
      "This is Loop 215\n",
      "Hi! I am in Loop \n",
      "This is Loop 216\n",
      "Hi! I am in Loop \n",
      "This is Loop 217\n",
      "Hi! I am in Loop \n",
      "This is Loop 218\n",
      "Hi! I am in Loop \n",
      "This is Loop 219\n",
      "Hi! I am in Loop \n",
      "This is Loop 220\n",
      "Hi! I am in Loop \n",
      "This is Loop 221\n",
      "Hi! I am in Loop \n",
      "This is Loop 222\n",
      "Hi! I am in Loop \n",
      "This is Loop 223\n",
      "Hi! I am in Loop \n",
      "This is Loop 224\n",
      "Hi! I am in Loop \n",
      "This is Loop 225\n"
     ]
    },
    {
     "ename": "RecursionError",
     "evalue": "maximum recursion depth exceeded",
     "output_type": "error",
     "traceback": [
      "\u001b[0;31m---------------------------------------------------------------------------\u001b[0m",
      "\u001b[0;31mRecursionError\u001b[0m                            Traceback (most recent call last)",
      "Cell \u001b[0;32mIn[8], line 14\u001b[0m\n\u001b[1;32m     10\u001b[0m     \u001b[38;5;28mprint\u001b[39m(\u001b[38;5;124m\"\u001b[39m\u001b[38;5;124mThis is Loop \u001b[39m\u001b[38;5;132;01m%d\u001b[39;00m\u001b[38;5;124m\"\u001b[39m \u001b[38;5;241m%\u001b[39m noOfRecursions)\n\u001b[1;32m     11\u001b[0m     \u001b[38;5;28;01mreturn\u001b[39;00m loop(noOfRecursions)\n\u001b[0;32m---> 14\u001b[0m \u001b[43mloop\u001b[49m\u001b[43m(\u001b[49m\u001b[43mnoOfRecursions\u001b[49m\u001b[43m)\u001b[49m\n",
      "Cell \u001b[0;32mIn[8], line 11\u001b[0m, in \u001b[0;36mloop\u001b[0;34m(noOfRecursions)\u001b[0m\n\u001b[1;32m      9\u001b[0m noOfRecursions \u001b[38;5;241m+\u001b[39m\u001b[38;5;241m=\u001b[39m \u001b[38;5;241m1\u001b[39m\n\u001b[1;32m     10\u001b[0m \u001b[38;5;28mprint\u001b[39m(\u001b[38;5;124m\"\u001b[39m\u001b[38;5;124mThis is Loop \u001b[39m\u001b[38;5;132;01m%d\u001b[39;00m\u001b[38;5;124m\"\u001b[39m \u001b[38;5;241m%\u001b[39m noOfRecursions)\n\u001b[0;32m---> 11\u001b[0m \u001b[38;5;28;01mreturn\u001b[39;00m \u001b[43mloop\u001b[49m\u001b[43m(\u001b[49m\u001b[43mnoOfRecursions\u001b[49m\u001b[43m)\u001b[49m\n",
      "Cell \u001b[0;32mIn[8], line 11\u001b[0m, in \u001b[0;36mloop\u001b[0;34m(noOfRecursions)\u001b[0m\n\u001b[1;32m      9\u001b[0m noOfRecursions \u001b[38;5;241m+\u001b[39m\u001b[38;5;241m=\u001b[39m \u001b[38;5;241m1\u001b[39m\n\u001b[1;32m     10\u001b[0m \u001b[38;5;28mprint\u001b[39m(\u001b[38;5;124m\"\u001b[39m\u001b[38;5;124mThis is Loop \u001b[39m\u001b[38;5;132;01m%d\u001b[39;00m\u001b[38;5;124m\"\u001b[39m \u001b[38;5;241m%\u001b[39m noOfRecursions)\n\u001b[0;32m---> 11\u001b[0m \u001b[38;5;28;01mreturn\u001b[39;00m \u001b[43mloop\u001b[49m\u001b[43m(\u001b[49m\u001b[43mnoOfRecursions\u001b[49m\u001b[43m)\u001b[49m\n",
      "    \u001b[0;31m[... skipping similar frames: loop at line 11 (222 times)]\u001b[0m\n",
      "Cell \u001b[0;32mIn[8], line 11\u001b[0m, in \u001b[0;36mloop\u001b[0;34m(noOfRecursions)\u001b[0m\n\u001b[1;32m      9\u001b[0m noOfRecursions \u001b[38;5;241m+\u001b[39m\u001b[38;5;241m=\u001b[39m \u001b[38;5;241m1\u001b[39m\n\u001b[1;32m     10\u001b[0m \u001b[38;5;28mprint\u001b[39m(\u001b[38;5;124m\"\u001b[39m\u001b[38;5;124mThis is Loop \u001b[39m\u001b[38;5;132;01m%d\u001b[39;00m\u001b[38;5;124m\"\u001b[39m \u001b[38;5;241m%\u001b[39m noOfRecursions)\n\u001b[0;32m---> 11\u001b[0m \u001b[38;5;28;01mreturn\u001b[39;00m \u001b[43mloop\u001b[49m\u001b[43m(\u001b[49m\u001b[43mnoOfRecursions\u001b[49m\u001b[43m)\u001b[49m\n",
      "Cell \u001b[0;32mIn[8], line 7\u001b[0m, in \u001b[0;36mloop\u001b[0;34m(noOfRecursions)\u001b[0m\n\u001b[1;32m      6\u001b[0m \u001b[38;5;28;01mdef\u001b[39;00m \u001b[38;5;21mloop\u001b[39m(noOfRecursions):\n\u001b[0;32m----> 7\u001b[0m     \u001b[38;5;28;43mprint\u001b[39;49m\u001b[43m(\u001b[49m\u001b[38;5;124;43m\"\u001b[39;49m\u001b[38;5;124;43mHi! I am in Loop \u001b[39;49m\u001b[38;5;124;43m\"\u001b[39;49m\u001b[43m)\u001b[49m\n\u001b[1;32m      8\u001b[0m     \u001b[38;5;66;03m# to get the count of number of recursions occurred\u001b[39;00m\n\u001b[1;32m      9\u001b[0m     noOfRecursions \u001b[38;5;241m+\u001b[39m\u001b[38;5;241m=\u001b[39m \u001b[38;5;241m1\u001b[39m\n",
      "File \u001b[0;32m~/.local/lib/python3.12/site-packages/ipykernel/iostream.py:664\u001b[0m, in \u001b[0;36mOutStream.write\u001b[0;34m(self, string)\u001b[0m\n\u001b[1;32m    655\u001b[0m \u001b[38;5;28;01mdef\u001b[39;00m \u001b[38;5;21mwrite\u001b[39m(\u001b[38;5;28mself\u001b[39m, string: \u001b[38;5;28mstr\u001b[39m) \u001b[38;5;241m-\u001b[39m\u001b[38;5;241m>\u001b[39m Optional[\u001b[38;5;28mint\u001b[39m]:  \u001b[38;5;66;03m# type:ignore[override]\u001b[39;00m\n\u001b[1;32m    656\u001b[0m \u001b[38;5;250m    \u001b[39m\u001b[38;5;124;03m\"\"\"Write to current stream after encoding if necessary\u001b[39;00m\n\u001b[1;32m    657\u001b[0m \n\u001b[1;32m    658\u001b[0m \u001b[38;5;124;03m    Returns\u001b[39;00m\n\u001b[0;32m   (...)\u001b[0m\n\u001b[1;32m    662\u001b[0m \n\u001b[1;32m    663\u001b[0m \u001b[38;5;124;03m    \"\"\"\u001b[39;00m\n\u001b[0;32m--> 664\u001b[0m     parent \u001b[38;5;241m=\u001b[39m \u001b[38;5;28;43mself\u001b[39;49m\u001b[38;5;241;43m.\u001b[39;49m\u001b[43mparent_header\u001b[49m\n\u001b[1;32m    666\u001b[0m     \u001b[38;5;28;01mif\u001b[39;00m \u001b[38;5;129;01mnot\u001b[39;00m \u001b[38;5;28misinstance\u001b[39m(string, \u001b[38;5;28mstr\u001b[39m):\n\u001b[1;32m    667\u001b[0m         msg \u001b[38;5;241m=\u001b[39m \u001b[38;5;124mf\u001b[39m\u001b[38;5;124m\"\u001b[39m\u001b[38;5;124mwrite() argument must be str, not \u001b[39m\u001b[38;5;132;01m{\u001b[39;00m\u001b[38;5;28mtype\u001b[39m(string)\u001b[38;5;132;01m}\u001b[39;00m\u001b[38;5;124m\"\u001b[39m  \u001b[38;5;66;03m# type:ignore[unreachable]\u001b[39;00m\n",
      "\u001b[0;31mRecursionError\u001b[0m: maximum recursion depth exceeded"
     ]
    }
   ],
   "source": [
    "global noOfRecursions\n",
    "noOfRecursions = 0\n",
    "\n",
    "\n",
    "# Infinite loop\n",
    "def loop(noOfRecursions):\n",
    "    print(\"Hi! I am in Loop \")\n",
    "    # to get the count of number of recursions occurred\n",
    "    noOfRecursions += 1\n",
    "    print(\"This is Loop %d\" % noOfRecursions)\n",
    "    return loop(noOfRecursions)\n",
    "\n",
    "\n",
    "loop(noOfRecursions)"
   ]
  },
  {
   "cell_type": "markdown",
   "metadata": {},
   "source": [
    "Closures\n",
    "Closures can avoid the use of global values and provides some form of data hiding.\n",
    "\n",
    "It can also provide an object oriented solution to the problem."
   ]
  },
  {
   "cell_type": "code",
   "execution_count": 9,
   "metadata": {},
   "outputs": [
    {
     "name": "stdout",
     "output_type": "stream",
     "text": [
      "In outer function\n",
      "inner.__closure__:786\n",
      "In Inner function 786\n",
      "result <class 'NoneType'> None\n"
     ]
    }
   ],
   "source": [
    "def outer():\n",
    "    print(\"In outer function\")\n",
    "    nnum = 786\n",
    "\n",
    "    def inner():\n",
    "        print(\"In Inner function\", nnum)\n",
    "\n",
    "    print(f\"inner.__closure__:{inner.__closure__[0].cell_contents}\")\n",
    "    inner()\n",
    "\n",
    "\n",
    "result = outer()\n",
    "print(\"result\", type(result), result)"
   ]
  },
  {
   "cell_type": "code",
   "execution_count": 10,
   "metadata": {},
   "outputs": [
    {
     "name": "stdout",
     "output_type": "stream",
     "text": [
      "In outer function\n",
      "inner.__closure__                 :(<cell at 0x7e054671e8f0: int object at 0x7e05462e2ff0>,)\n",
      "inner.__closure__[0].cell_contents:786\n",
      "result <class 'function'> <function outer.<locals>.inner at 0x7e056006eb60>\n"
     ]
    }
   ],
   "source": [
    "def outer():\n",
    "    print(\"In outer function\")\n",
    "    nnum = 786\n",
    "    num2 = 999\n",
    "\n",
    "    def inner():\n",
    "        print(\"In Inner function\", nnum)\n",
    "\n",
    "    print(f\"inner.__closure__                 :{inner.__closure__}\")\n",
    "    print(f\"inner.__closure__[0].cell_contents:{inner.__closure__[0].cell_contents}\")\n",
    "    return inner  # ----- closure \n",
    "\n",
    "\n",
    "result = outer()\n",
    "print(\"result\", type(result), result)"
   ]
  },
  {
   "cell_type": "code",
   "execution_count": 11,
   "metadata": {},
   "outputs": [
    {
     "name": "stdout",
     "output_type": "stream",
     "text": [
      "In Inner function 786\n"
     ]
    }
   ],
   "source": [
    "result()"
   ]
  },
  {
   "cell_type": "code",
   "execution_count": 12,
   "metadata": {},
   "outputs": [
    {
     "name": "stdout",
     "output_type": "stream",
     "text": [
      "In outer function\n",
      "inner.__closure__                 :(<cell at 0x7e0560afa410: int object at 0x7e05462e2ff0>,)\n",
      "inner.__closure__[0].cell_contents:786\n",
      "In Inner function 786\n"
     ]
    }
   ],
   "source": [
    "outer()()"
   ]
  },
  {
   "cell_type": "code",
   "execution_count": 13,
   "metadata": {},
   "outputs": [
    {
     "name": "stdout",
     "output_type": "stream",
     "text": [
      "In outer function\n",
      "inner.__closure__                 :(<cell at 0x7e0560afa410: int object at 0x7e05462e3650>, <cell at 0x7e05467439a0: int object at 0x7e05462e3990>)\n",
      "inner.__closure__[0].cell_contents:786\n",
      "inner.__closure__[1].cell_contents:333\n",
      "inner.__code__.co_freevars:('nnum', 'num2')\n",
      "inner.__code__.co_cellvars:()\n",
      "In Inner function 786\n",
      "333\n",
      "result <class 'NoneType'> None\n"
     ]
    }
   ],
   "source": [
    "def outer():\n",
    "    print(\"In outer function\")\n",
    "    nnum = 786\n",
    "    num2 = 333\n",
    "\n",
    "    def inner():\n",
    "        # nnum = 7869\n",
    "        print(\"In Inner function\", nnum)\n",
    "        print(num2)\n",
    "\n",
    "    print(f\"inner.__closure__                 :{inner.__closure__}\")\n",
    "    print(f\"inner.__closure__[0].cell_contents:{inner.__closure__[0].cell_contents}\")\n",
    "    print(f\"inner.__closure__[1].cell_contents:{inner.__closure__[1].cell_contents}\")\n",
    "\n",
    "    print(f\"inner.__code__.co_freevars:{inner.__code__.co_freevars}\")\n",
    "    print(f\"inner.__code__.co_cellvars:{inner.__code__.co_cellvars}\")\n",
    "    return inner()  ## Not a closure \n",
    "\n",
    "\n",
    "result = outer()\n",
    "print(\"result\", type(result), result)"
   ]
  },
  {
   "cell_type": "code",
   "execution_count": 14,
   "metadata": {},
   "outputs": [
    {
     "name": "stdout",
     "output_type": "stream",
     "text": [
      "In outer function\n",
      "inner.__closure__                 :(<cell at 0x7e054671e8f0: int object at 0x7e05462e2c70>, <cell at 0x7e0560afa410: int object at 0x7e05462e3310>)\n",
      "inner.__closure__[0].cell_contents:786\n",
      "inner.__closure__[1].cell_contents:333\n",
      "inner.__code__.co_freevars:('nnum', 'num2')\n",
      "inner.__code__.co_cellvars:()\n",
      "result <class 'function'> <function outer.<locals>.inner at 0x7e0560b3d9e0>\n"
     ]
    }
   ],
   "source": [
    "def outer():\n",
    "    print(\"In outer function\")\n",
    "    nnum = 786\n",
    "    num2 = 333\n",
    "\n",
    "    def inner():\n",
    "        # nnum = 7869\n",
    "        print(\"In Inner function\", nnum)\n",
    "        print(num2)\n",
    "\n",
    "    print(f\"inner.__closure__                 :{inner.__closure__}\")\n",
    "    print(f\"inner.__closure__[0].cell_contents:{inner.__closure__[0].cell_contents}\")\n",
    "    print(f\"inner.__closure__[1].cell_contents:{inner.__closure__[1].cell_contents}\")\n",
    "\n",
    "    print(f\"inner.__code__.co_freevars:{inner.__code__.co_freevars}\")\n",
    "    print(f\"inner.__code__.co_cellvars:{inner.__code__.co_cellvars}\")\n",
    "    return inner # Closure\n",
    "\n",
    "\n",
    "result = outer()\n",
    "print(\"result\", type(result), result)"
   ]
  },
  {
   "cell_type": "code",
   "execution_count": 15,
   "metadata": {},
   "outputs": [
    {
     "name": "stdout",
     "output_type": "stream",
     "text": [
      "In outer function\n",
      "inner.__closure__                 :(<cell at 0x7e05467433a0: int object at 0x7e05462e2ff0>,)\n",
      "inner.__closure__[0].cell_contents:333\n",
      "inner.__code__.co_freevars:('num2',)\n",
      "inner.__code__.co_cellvars:()\n",
      "result <class 'function'> <function outer.<locals>.inner at 0x7e054612c7c0>\n"
     ]
    }
   ],
   "source": [
    "def outer():\n",
    "    print(\"In outer function\")\n",
    "    nnum = 786\n",
    "    num2 = 333\n",
    "\n",
    "    def inner():\n",
    "        nnum = 7869  # if a variable with same name is available inside, it will not use outside variable\n",
    "        print(\"In Inner function\", nnum)\n",
    "        print(num2)\n",
    "\n",
    "    print(f\"inner.__closure__                 :{inner.__closure__}\")\n",
    "    print(f\"inner.__closure__[0].cell_contents:{inner.__closure__[0].cell_contents}\")\n",
    "\n",
    "    # NOTE: Only one value present\n",
    "    # print(f\"inner.__closure__[1].cell_contents:{inner.__closure__[1].cell_contents}\")\n",
    "\n",
    "    print(f\"inner.__code__.co_freevars:{inner.__code__.co_freevars}\")\n",
    "    print(f\"inner.__code__.co_cellvars:{inner.__code__.co_cellvars}\")\n",
    "    return inner # Closure\n",
    "\n",
    "\n",
    "result = outer()\n",
    "print(\"result\", type(result), result)"
   ]
  },
  {
   "cell_type": "code",
   "execution_count": 16,
   "metadata": {},
   "outputs": [
    {
     "name": "stdout",
     "output_type": "stream",
     "text": [
      "4 <function closure1.<locals>.func at 0x7e05462ad9e0>\n",
      "4 <function closure1.<locals>.func at 0x7e05462afb00>\n",
      "4 <function closure1.<locals>.func at 0x7e054612c0e0>\n"
     ]
    }
   ],
   "source": [
    "def closure1():\n",
    "    flist = []\n",
    "\n",
    "    for i in range(3):\n",
    "\n",
    "        def func(x):\n",
    "            return x * i\n",
    "\n",
    "        flist.append(func)\n",
    "\n",
    "    for f in flist:\n",
    "        print(f(2), f)\n",
    "\n",
    "\n",
    "closure1()"
   ]
  },
  {
   "cell_type": "code",
   "execution_count": 17,
   "metadata": {},
   "outputs": [
    {
     "name": "stdout",
     "output_type": "stream",
     "text": [
      "d = {'y': 0}\n"
     ]
    },
    {
     "data": {
      "text/plain": [
       "1"
      ]
     },
     "execution_count": 17,
     "metadata": {},
     "output_type": "execute_result"
    }
   ],
   "source": [
    "def outer():\n",
    "    d = {\"y\": 0}\n",
    "\n",
    "    def inner():\n",
    "        d[\"y\"] += 1\n",
    "        return d[\"y\"]\n",
    "    print(f'{d = }')  \n",
    "    return inner\n",
    "\n",
    "\n",
    "outer = outer()\n",
    "outer()"
   ]
  },
  {
   "cell_type": "markdown",
   "metadata": {},
   "source": [
    "Decorators"
   ]
  },
  {
   "cell_type": "markdown",
   "metadata": {},
   "source": [
    "Without decorators"
   ]
  },
  {
   "cell_type": "code",
   "execution_count": 18,
   "metadata": {},
   "outputs": [
    {
     "data": {
      "text/plain": [
       "30"
      ]
     },
     "execution_count": 18,
     "metadata": {},
     "output_type": "execute_result"
    }
   ],
   "source": [
    "def add(n1, n2):\n",
    "    return n1 + n2\n",
    "\n",
    "add(10, 20)"
   ]
  },
  {
   "cell_type": "code",
   "execution_count": 19,
   "metadata": {},
   "outputs": [
    {
     "data": {
      "text/plain": [
       "'1020'"
      ]
     },
     "execution_count": 19,
     "metadata": {},
     "output_type": "execute_result"
    }
   ],
   "source": [
    "add('10', '20')"
   ]
  },
  {
   "cell_type": "code",
   "execution_count": 20,
   "metadata": {},
   "outputs": [
    {
     "name": "stdout",
     "output_type": "stream",
     "text": [
      "add(10, 20)     =30\n",
      "add('10', '20') ='1020'\n",
      "add(10, '20')   =TypeError(\"unsupported operand type(s) for +: 'int' and 'str'\")\n"
     ]
    }
   ],
   "source": [
    "def add(a, b):\n",
    "    try:\n",
    "        a + b\n",
    "    except Exception as e:\n",
    "        return e\n",
    "    else:\n",
    "        return a + b\n",
    "\n",
    "\n",
    "print(f\"{add(10, 20)     =}\")\n",
    "print(f\"{add('10', '20') =}\")\n",
    "print(f\"{add(10, '20')   =}\")"
   ]
  },
  {
   "cell_type": "code",
   "execution_count": 21,
   "metadata": {},
   "outputs": [
    {
     "data": {
      "text/plain": [
       "5.0"
      ]
     },
     "execution_count": 21,
     "metadata": {},
     "output_type": "execute_result"
    }
   ],
   "source": [
    "def div(n1, n2):\n",
    "    return n1 / n2\n",
    "\n",
    "\n",
    "div(10, 2)"
   ]
  },
  {
   "cell_type": "code",
   "execution_count": 22,
   "metadata": {},
   "outputs": [
    {
     "ename": "TypeError",
     "evalue": "unsupported operand type(s) for /: 'int' and 'str'",
     "output_type": "error",
     "traceback": [
      "\u001b[0;31m---------------------------------------------------------------------------\u001b[0m",
      "\u001b[0;31mTypeError\u001b[0m                                 Traceback (most recent call last)",
      "Cell \u001b[0;32mIn[22], line 1\u001b[0m\n\u001b[0;32m----> 1\u001b[0m \u001b[43mdiv\u001b[49m\u001b[43m(\u001b[49m\u001b[38;5;241;43m10\u001b[39;49m\u001b[43m,\u001b[49m\u001b[43m \u001b[49m\u001b[38;5;124;43m'\u001b[39;49m\u001b[38;5;124;43m2\u001b[39;49m\u001b[38;5;124;43m'\u001b[39;49m\u001b[43m)\u001b[49m\n",
      "Cell \u001b[0;32mIn[21], line 2\u001b[0m, in \u001b[0;36mdiv\u001b[0;34m(n1, n2)\u001b[0m\n\u001b[1;32m      1\u001b[0m \u001b[38;5;28;01mdef\u001b[39;00m \u001b[38;5;21mdiv\u001b[39m(n1, n2):\n\u001b[0;32m----> 2\u001b[0m     \u001b[38;5;28;01mreturn\u001b[39;00m \u001b[43mn1\u001b[49m\u001b[43m \u001b[49m\u001b[38;5;241;43m/\u001b[39;49m\u001b[43m \u001b[49m\u001b[43mn2\u001b[49m\n",
      "\u001b[0;31mTypeError\u001b[0m: unsupported operand type(s) for /: 'int' and 'str'"
     ]
    }
   ],
   "source": [
    "div(10, '2')"
   ]
  },
  {
   "cell_type": "code",
   "execution_count": 23,
   "metadata": {},
   "outputs": [
    {
     "name": "stdout",
     "output_type": "stream",
     "text": [
      "div(10, 2)   =5.0\n",
      "div(10, '2') =TypeError(\"unsupported operand type(s) for /: 'int' and 'str'\")\n",
      "div(10, 0)   =ZeroDivisionError('division by zero')\n"
     ]
    }
   ],
   "source": [
    "def div(a, b):\n",
    "    try:\n",
    "        a / b\n",
    "    except Exception as e:\n",
    "        return e\n",
    "    else:\n",
    "        return a / b\n",
    "\n",
    "print(f\"{div(10, 2)   =}\")\n",
    "print(f\"{div(10, '2') =}\")\n",
    "print(f\"{div(10, 0)   =}\")"
   ]
  },
  {
   "cell_type": "code",
   "execution_count": 24,
   "metadata": {},
   "outputs": [
    {
     "name": "stdout",
     "output_type": "stream",
     "text": [
      "2.0\n",
      "division by zero\n",
      "5\n",
      "can only concatenate str (not \"int\") to str\n"
     ]
    }
   ],
   "source": [
    "def div(a, b):\n",
    "    try:\n",
    "        a / b\n",
    "    except Exception as e:\n",
    "        return e\n",
    "    else:\n",
    "        return a / b\n",
    "\n",
    "\n",
    "def add(a, b):\n",
    "    try:\n",
    "        a + b\n",
    "    except Exception as e:\n",
    "        return e\n",
    "    else:\n",
    "        return a + b\n",
    "\n",
    "\n",
    "print(div(4, 2))\n",
    "print(div(4, 0))\n",
    "\n",
    "print(add(2, 3))\n",
    "print(add(\"a\", 3))"
   ]
  },
  {
   "cell_type": "code",
   "execution_count": 26,
   "metadata": {},
   "outputs": [
    {
     "name": "stdout",
     "output_type": "stream",
     "text": [
      "<function except_handler.<locals>.inner at 0x7e054612dd00>\n"
     ]
    }
   ],
   "source": [
    "def except_handler(func):  # passing function as input arg\n",
    "    def inner(a, b):\n",
    "        try:\n",
    "            a / b\n",
    "        except Exception as e:\n",
    "            return e\n",
    "        else:\n",
    "            return a / b\n",
    "    return inner\n",
    "\n",
    "\n",
    "def div(n1, n2):\n",
    "    return n1 / n2\n",
    "\n",
    "div_with_exception__handling =  except_handler(div)\n",
    "print(div_with_exception__handling) # except_handler.<locals>.inner"
   ]
  },
  {
   "cell_type": "code",
   "execution_count": 27,
   "metadata": {},
   "outputs": [
    {
     "name": "stdout",
     "output_type": "stream",
     "text": [
      "<function except_handler.<locals>.inner at 0x7e054612e200>\n"
     ]
    }
   ],
   "source": [
    "def except_handler(func):  # passing function as input arg\n",
    "    def inner(a, b):\n",
    "        try:\n",
    "            a / b\n",
    "        except Exception as e:\n",
    "            return e\n",
    "        else:\n",
    "            return a / b\n",
    "    return inner\n",
    "\n",
    "\n",
    "def div(n1, n2):\n",
    "    return n1 / n2\n",
    "\n",
    "div_with_exception__handling =  except_handler(div)\n",
    "print(div_with_exception__handling) # except_handler.<locals>.inner"
   ]
  },
  {
   "cell_type": "markdown",
   "metadata": {},
   "source": [
    "Decorator syntactic sugar"
   ]
  },
  {
   "cell_type": "code",
   "execution_count": 30,
   "metadata": {},
   "outputs": [
    {
     "name": "stdout",
     "output_type": "stream",
     "text": [
      "2.0\n",
      "division by zero\n"
     ]
    }
   ],
   "source": [
    "@except_handler  # comment this line and observe difference\n",
    "def div(a, b):    # indirectly  except_handler(div)\n",
    "    return a / b\n",
    "\n",
    "\n",
    "print(div(4, 2))\n",
    "print(div(4, 0))"
   ]
  },
  {
   "cell_type": "code",
   "execution_count": 31,
   "metadata": {},
   "outputs": [
    {
     "name": "stdout",
     "output_type": "stream",
     "text": [
      "0.6666666666666666\n",
      "unsupported operand type(s) for /: 'str' and 'int'\n"
     ]
    }
   ],
   "source": [
    "@except_handler\n",
    "def add(a, b):\n",
    "    return a + b\n",
    "\n",
    "\n",
    "print(add(2, 3))\n",
    "print(add(\"a\", 3))"
   ]
  },
  {
   "cell_type": "code",
   "execution_count": 32,
   "metadata": {},
   "outputs": [],
   "source": [
    "def makebold(fn):\n",
    "    def wrapped(*args, **kwargs):\n",
    "        print(\"makebold - args\", args)\n",
    "        print(\"makebold  - kwargs\", kwargs)\n",
    "        print()\n",
    "        return \"<b>\" + fn(*args, **kwargs) + \"</b>\"\n",
    "\n",
    "    return wrapped\n",
    "\n",
    "\n",
    "def makeitalic(fn):\n",
    "    def wrapped(*args, **kwargs):\n",
    "        print(\"makeitalic - args\", args)\n",
    "        print(\"makeitalic  - kwargs\", kwargs)\n",
    "        print()\n",
    "        return \"<i>\" + fn(*args, **kwargs) + \"</i>\"\n",
    "\n",
    "    return wrapped"
   ]
  },
  {
   "cell_type": "code",
   "execution_count": 33,
   "metadata": {},
   "outputs": [
    {
     "name": "stdout",
     "output_type": "stream",
     "text": [
      "[0, 2, 4, 6, 8, 10, 12, 14, 16, 18, 20, 22, 24, 26, 28, 30, 32, 34, 36, 38, 40, 42, 44, 46, 48, 50, 52, 54, 56, 58, 60, 62, 64, 66, 68, 70, 72, 74, 76, 78, 80, 82, 84, 86, 88, 90, 92, 94, 96, 98]\n",
      "[0, 2, 4, 6, 8, 10, 12, 14, 16, 18, 20, 22, 24, 26, 28, 30, 32, 34, 36, 38, 40, 42, 44, 46, 48, 50, 52, 54, 56, 58, 60, 62, 64, 66, 68, 70, 72, 74, 76, 78, 80, 82, 84, 86, 88, 90, 92, 94, 96, 98, 100, 102, 104, 106, 108, 110, 112, 114, 116, 118, 120, 122, 124, 126, 128, 130, 132, 134, 136, 138, 140, 142, 144, 146, 148, 150, 152, 154, 156, 158, 160, 162, 164, 166, 168, 170, 172, 174, 176, 178, 180, 182, 184, 186, 188, 190, 192, 194, 196, 198, 200, 202, 204, 206, 208, 210, 212, 214, 216, 218, 220, 222, 224, 226, 228, 230, 232, 234, 236, 238, 240, 242, 244, 246, 248, 250, 252, 254, 256, 258, 260, 262, 264, 266, 268, 270, 272, 274, 276, 278, 280, 282, 284, 286, 288, 290, 292, 294, 296, 298, 300, 302, 304, 306, 308, 310, 312, 314, 316, 318, 320, 322, 324, 326, 328, 330, 332, 334, 336, 338, 340, 342, 344, 346, 348, 350, 352, 354, 356, 358, 360, 362, 364, 366, 368, 370, 372, 374, 376, 378, 380, 382, 384, 386, 388, 390, 392, 394, 396, 398, 400, 402, 404, 406, 408, 410, 412, 414, 416, 418, 420, 422, 424, 426, 428, 430, 432, 434, 436, 438, 440, 442, 444, 446, 448, 450, 452, 454, 456, 458, 460, 462, 464, 466, 468, 470, 472, 474, 476, 478, 480, 482, 484, 486, 488, 490, 492, 494, 496, 498, 500, 502, 504, 506, 508, 510, 512, 514, 516, 518, 520, 522, 524, 526, 528, 530, 532, 534, 536, 538, 540, 542, 544, 546, 548, 550, 552, 554, 556, 558, 560, 562, 564, 566, 568, 570, 572, 574, 576, 578, 580, 582, 584, 586, 588, 590, 592, 594, 596, 598, 600, 602, 604, 606, 608, 610, 612, 614, 616, 618, 620, 622, 624, 626, 628, 630, 632, 634, 636, 638, 640, 642, 644, 646, 648, 650, 652, 654, 656, 658, 660, 662, 664, 666, 668, 670, 672, 674, 676, 678, 680, 682, 684, 686, 688, 690, 692, 694, 696, 698, 700, 702, 704, 706, 708, 710, 712, 714, 716, 718, 720, 722, 724, 726, 728, 730, 732, 734, 736, 738, 740, 742, 744, 746, 748, 750, 752, 754, 756, 758, 760, 762, 764, 766, 768, 770, 772, 774, 776, 778, 780, 782, 784, 786, 788, 790, 792, 794, 796, 798, 800, 802, 804, 806, 808, 810, 812, 814, 816, 818, 820, 822, 824, 826, 828, 830, 832, 834, 836, 838, 840, 842, 844, 846, 848, 850, 852, 854, 856, 858, 860, 862, 864, 866, 868, 870, 872, 874, 876, 878, 880, 882, 884, 886, 888, 890, 892, 894, 896, 898, 900, 902, 904, 906, 908, 910, 912, 914, 916, 918, 920, 922, 924, 926, 928, 930, 932, 934, 936, 938, 940, 942, 944, 946, 948, 950, 952, 954, 956, 958, 960, 962, 964, 966, 968, 970, 972, 974, 976, 978, 980, 982, 984, 986, 988, 990, 992, 994, 996, 998]\n"
     ]
    }
   ],
   "source": [
    "# decorator to calculate the time taken by a function\n",
    "\n",
    "def get_even_number(num):\n",
    "    even_numbers = []\n",
    "    for i in range(num):\n",
    "        if i % 2 == 0:\n",
    "            even_numbers.append(i)\n",
    "    return even_numbers\n",
    "\n",
    "\n",
    "print(get_even_number(100))\n",
    "print(get_even_number(1000))"
   ]
  },
  {
   "cell_type": "code",
   "execution_count": 34,
   "metadata": {},
   "outputs": [
    {
     "data": {
      "text/plain": [
       "1438369510989"
      ]
     },
     "execution_count": 34,
     "metadata": {},
     "output_type": "execute_result"
    }
   ],
   "source": [
    "import time \n",
    "\n",
    "time.perf_counter_ns()"
   ]
  },
  {
   "cell_type": "code",
   "execution_count": 35,
   "metadata": {},
   "outputs": [
    {
     "name": "stdout",
     "output_type": "stream",
     "text": [
      "TIME_TAKEN = 7434 ns\n",
      "[0, 2, 4, 6, 8, 10, 12, 14, 16, 18, 20, 22, 24, 26, 28, 30, 32, 34, 36, 38, 40, 42, 44, 46, 48, 50, 52, 54, 56, 58, 60, 62, 64, 66, 68, 70, 72, 74, 76, 78, 80, 82, 84, 86, 88, 90, 92, 94, 96, 98]\n",
      "TIME_TAKEN = 50084 ns\n",
      "[0, 2, 4, 6, 8, 10, 12, 14, 16, 18, 20, 22, 24, 26, 28, 30, 32, 34, 36, 38, 40, 42, 44, 46, 48, 50, 52, 54, 56, 58, 60, 62, 64, 66, 68, 70, 72, 74, 76, 78, 80, 82, 84, 86, 88, 90, 92, 94, 96, 98, 100, 102, 104, 106, 108, 110, 112, 114, 116, 118, 120, 122, 124, 126, 128, 130, 132, 134, 136, 138, 140, 142, 144, 146, 148, 150, 152, 154, 156, 158, 160, 162, 164, 166, 168, 170, 172, 174, 176, 178, 180, 182, 184, 186, 188, 190, 192, 194, 196, 198, 200, 202, 204, 206, 208, 210, 212, 214, 216, 218, 220, 222, 224, 226, 228, 230, 232, 234, 236, 238, 240, 242, 244, 246, 248, 250, 252, 254, 256, 258, 260, 262, 264, 266, 268, 270, 272, 274, 276, 278, 280, 282, 284, 286, 288, 290, 292, 294, 296, 298, 300, 302, 304, 306, 308, 310, 312, 314, 316, 318, 320, 322, 324, 326, 328, 330, 332, 334, 336, 338, 340, 342, 344, 346, 348, 350, 352, 354, 356, 358, 360, 362, 364, 366, 368, 370, 372, 374, 376, 378, 380, 382, 384, 386, 388, 390, 392, 394, 396, 398, 400, 402, 404, 406, 408, 410, 412, 414, 416, 418, 420, 422, 424, 426, 428, 430, 432, 434, 436, 438, 440, 442, 444, 446, 448, 450, 452, 454, 456, 458, 460, 462, 464, 466, 468, 470, 472, 474, 476, 478, 480, 482, 484, 486, 488, 490, 492, 494, 496, 498, 500, 502, 504, 506, 508, 510, 512, 514, 516, 518, 520, 522, 524, 526, 528, 530, 532, 534, 536, 538, 540, 542, 544, 546, 548, 550, 552, 554, 556, 558, 560, 562, 564, 566, 568, 570, 572, 574, 576, 578, 580, 582, 584, 586, 588, 590, 592, 594, 596, 598, 600, 602, 604, 606, 608, 610, 612, 614, 616, 618, 620, 622, 624, 626, 628, 630, 632, 634, 636, 638, 640, 642, 644, 646, 648, 650, 652, 654, 656, 658, 660, 662, 664, 666, 668, 670, 672, 674, 676, 678, 680, 682, 684, 686, 688, 690, 692, 694, 696, 698, 700, 702, 704, 706, 708, 710, 712, 714, 716, 718, 720, 722, 724, 726, 728, 730, 732, 734, 736, 738, 740, 742, 744, 746, 748, 750, 752, 754, 756, 758, 760, 762, 764, 766, 768, 770, 772, 774, 776, 778, 780, 782, 784, 786, 788, 790, 792, 794, 796, 798, 800, 802, 804, 806, 808, 810, 812, 814, 816, 818, 820, 822, 824, 826, 828, 830, 832, 834, 836, 838, 840, 842, 844, 846, 848, 850, 852, 854, 856, 858, 860, 862, 864, 866, 868, 870, 872, 874, 876, 878, 880, 882, 884, 886, 888, 890, 892, 894, 896, 898, 900, 902, 904, 906, 908, 910, 912, 914, 916, 918, 920, 922, 924, 926, 928, 930, 932, 934, 936, 938, 940, 942, 944, 946, 948, 950, 952, 954, 956, 958, 960, 962, 964, 966, 968, 970, 972, 974, 976, 978, 980, 982, 984, 986, 988, 990, 992, 994, 996, 998]\n"
     ]
    }
   ],
   "source": [
    "def get_even_number(num):\n",
    "    start_time = time.perf_counter_ns()\n",
    "\n",
    "    even_numbers = []\n",
    "    for i in range(num):\n",
    "        if i % 2 == 0:\n",
    "            even_numbers.append(i)\n",
    "    end_time = time.perf_counter_ns()\n",
    "    print(f'TIME_TAKEN = {end_time - start_time} ns')\n",
    "    return even_numbers\n",
    "\n",
    "\n",
    "print(get_even_number(100))\n",
    "print(get_even_number(1000))"
   ]
  },
  {
   "cell_type": "code",
   "execution_count": 36,
   "metadata": {},
   "outputs": [
    {
     "name": "stdout",
     "output_type": "stream",
     "text": [
      "TIME_TAKEN = 782 ns\n",
      "Hello python! welcome to the world\n",
      "TIME_TAKEN = 691 ns\n",
      "Hello golang! welcome to the world\n"
     ]
    }
   ],
   "source": [
    "def hello_word(name):\n",
    "    start_time = time.perf_counter_ns()\n",
    "\n",
    "    greeting = f'Hello {name}! welcome to the world'\n",
    "\n",
    "    end_time = time.perf_counter_ns()\n",
    "    print(f'TIME_TAKEN = {end_time - start_time} ns')\n",
    "    return greeting\n",
    "\n",
    "\n",
    "print(hello_word('python'))\n",
    "print(hello_word('golang'))"
   ]
  },
  {
   "cell_type": "code",
   "execution_count": 37,
   "metadata": {},
   "outputs": [
    {
     "name": "stdout",
     "output_type": "stream",
     "text": [
      "TIME_TAKEN = 7784 ns\n",
      "[0, 2, 4, 6, 8, 10, 12, 14, 16, 18, 20, 22, 24, 26, 28, 30, 32, 34, 36, 38, 40, 42, 44, 46, 48, 50, 52, 54, 56, 58, 60, 62, 64, 66, 68, 70, 72, 74, 76, 78, 80, 82, 84, 86, 88, 90, 92, 94, 96, 98]\n",
      "TIME_TAKEN = 50544 ns\n",
      "[0, 2, 4, 6, 8, 10, 12, 14, 16, 18, 20, 22, 24, 26, 28, 30, 32, 34, 36, 38, 40, 42, 44, 46, 48, 50, 52, 54, 56, 58, 60, 62, 64, 66, 68, 70, 72, 74, 76, 78, 80, 82, 84, 86, 88, 90, 92, 94, 96, 98, 100, 102, 104, 106, 108, 110, 112, 114, 116, 118, 120, 122, 124, 126, 128, 130, 132, 134, 136, 138, 140, 142, 144, 146, 148, 150, 152, 154, 156, 158, 160, 162, 164, 166, 168, 170, 172, 174, 176, 178, 180, 182, 184, 186, 188, 190, 192, 194, 196, 198, 200, 202, 204, 206, 208, 210, 212, 214, 216, 218, 220, 222, 224, 226, 228, 230, 232, 234, 236, 238, 240, 242, 244, 246, 248, 250, 252, 254, 256, 258, 260, 262, 264, 266, 268, 270, 272, 274, 276, 278, 280, 282, 284, 286, 288, 290, 292, 294, 296, 298, 300, 302, 304, 306, 308, 310, 312, 314, 316, 318, 320, 322, 324, 326, 328, 330, 332, 334, 336, 338, 340, 342, 344, 346, 348, 350, 352, 354, 356, 358, 360, 362, 364, 366, 368, 370, 372, 374, 376, 378, 380, 382, 384, 386, 388, 390, 392, 394, 396, 398, 400, 402, 404, 406, 408, 410, 412, 414, 416, 418, 420, 422, 424, 426, 428, 430, 432, 434, 436, 438, 440, 442, 444, 446, 448, 450, 452, 454, 456, 458, 460, 462, 464, 466, 468, 470, 472, 474, 476, 478, 480, 482, 484, 486, 488, 490, 492, 494, 496, 498, 500, 502, 504, 506, 508, 510, 512, 514, 516, 518, 520, 522, 524, 526, 528, 530, 532, 534, 536, 538, 540, 542, 544, 546, 548, 550, 552, 554, 556, 558, 560, 562, 564, 566, 568, 570, 572, 574, 576, 578, 580, 582, 584, 586, 588, 590, 592, 594, 596, 598, 600, 602, 604, 606, 608, 610, 612, 614, 616, 618, 620, 622, 624, 626, 628, 630, 632, 634, 636, 638, 640, 642, 644, 646, 648, 650, 652, 654, 656, 658, 660, 662, 664, 666, 668, 670, 672, 674, 676, 678, 680, 682, 684, 686, 688, 690, 692, 694, 696, 698, 700, 702, 704, 706, 708, 710, 712, 714, 716, 718, 720, 722, 724, 726, 728, 730, 732, 734, 736, 738, 740, 742, 744, 746, 748, 750, 752, 754, 756, 758, 760, 762, 764, 766, 768, 770, 772, 774, 776, 778, 780, 782, 784, 786, 788, 790, 792, 794, 796, 798, 800, 802, 804, 806, 808, 810, 812, 814, 816, 818, 820, 822, 824, 826, 828, 830, 832, 834, 836, 838, 840, 842, 844, 846, 848, 850, 852, 854, 856, 858, 860, 862, 864, 866, 868, 870, 872, 874, 876, 878, 880, 882, 884, 886, 888, 890, 892, 894, 896, 898, 900, 902, 904, 906, 908, 910, 912, 914, 916, 918, 920, 922, 924, 926, 928, 930, 932, 934, 936, 938, 940, 942, 944, 946, 948, 950, 952, 954, 956, 958, 960, 962, 964, 966, 968, 970, 972, 974, 976, 978, 980, 982, 984, 986, 988, 990, 992, 994, 996, 998]\n",
      "TIME_TAKEN = 942 ns\n",
      "Hello python! welcome to the world\n",
      "TIME_TAKEN = 651 ns\n",
      "Hello golang! welcome to the world\n"
     ]
    }
   ],
   "source": [
    "def time_taken(func):\n",
    "    def inner(*args, **kwargs):\n",
    "        start_time = time.perf_counter_ns()\n",
    "        \n",
    "        result = func(*args, **kwargs)\n",
    "        \n",
    "        end_time = time.perf_counter_ns()\n",
    "        print(f'TIME_TAKEN = {end_time - start_time} ns')\n",
    "\n",
    "        return result\n",
    "    return inner\n",
    "\n",
    "\n",
    "@time_taken\n",
    "def get_even_number(num):\n",
    "    even_numbers = []\n",
    "    for i in range(num):\n",
    "        if i % 2 == 0:\n",
    "            even_numbers.append(i)\n",
    "    return even_numbers\n",
    "\n",
    "\n",
    "print(get_even_number(100))\n",
    "print(get_even_number(1000))\n",
    "\n",
    "\n",
    "@time_taken\n",
    "def hello_word(name):\n",
    "    greeting = f'Hello {name}! welcome to the world'\n",
    "    return greeting\n",
    "\n",
    "\n",
    "print(hello_word('python'))\n",
    "print(hello_word('golang'))"
   ]
  },
  {
   "cell_type": "code",
   "execution_count": 38,
   "metadata": {},
   "outputs": [
    {
     "name": "stdout",
     "output_type": "stream",
     "text": [
      "function took 0.018 sec, returning None, arguments (1000,) and {}\n"
     ]
    }
   ],
   "source": [
    "import time\n",
    "\n",
    "\n",
    "def function_logger(func):\n",
    "    def wrapper(*args, **kwargs):\n",
    "        start_time, temp = time.time(), func(*args, **kwargs)\n",
    "        elasped = time.time() - start_time\n",
    "        print(\n",
    "            \"{} took {:.3f} sec, returning {}, arguments {} and {}\".format(\n",
    "                func.__code__.co_name, elasped, temp, args, kwargs\n",
    "            )\n",
    "        )\n",
    "        return temp\n",
    "\n",
    "    return wrapper\n",
    "\n",
    "\n",
    "@function_logger\n",
    "def function(*args, **kwargs):\n",
    "    for i in range(int(args[0])):\n",
    "        for j in range(int(args[0])):\n",
    "            pass\n",
    "\n",
    "\n",
    "function(1000)"
   ]
  },
  {
   "cell_type": "code",
   "execution_count": 39,
   "metadata": {},
   "outputs": [
    {
     "name": "stdout",
     "output_type": "stream",
     "text": [
      "How about party today?\n",
      "How about party today? Please! I am poor :(\n"
     ]
    }
   ],
   "source": [
    "from functools import wraps\n",
    "\n",
    "\n",
    "def beg(target_function):\n",
    "    @wraps(target_function)\n",
    "    def wrapper(*args, **kwargs):\n",
    "        msg, say_please = target_function(*args, **kwargs)\n",
    "        if say_please:\n",
    "            return \"{} {}\".format(msg, \"Please! I am poor :(\")\n",
    "        return msg\n",
    "\n",
    "    return wrapper\n",
    "\n",
    "\n",
    "@beg\n",
    "def say(say_please=False):\n",
    "    msg = \"How about party today?\"\n",
    "    return msg, say_please\n",
    "\n",
    "\n",
    "print(say())  # How about party today?\n",
    "print(say(say_please=True))  # How about party today? Please! I am poor :("
   ]
  },
  {
   "cell_type": "markdown",
   "metadata": {},
   "source": [
    "Class Decorator"
   ]
  },
  {
   "cell_type": "code",
   "execution_count": 40,
   "metadata": {},
   "outputs": [
    {
     "name": "stdout",
     "output_type": "stream",
     "text": [
      "<b><i>hi</i></b>\n"
     ]
    }
   ],
   "source": [
    "class bol:\n",
    "    def __init__(self, f):\n",
    "        self.f = f\n",
    "\n",
    "    def __call__(self):\n",
    "        return \"<b>{}</b>\".format(self.f())\n",
    "\n",
    "\n",
    "class ita:\n",
    "    def __init__(self, f):\n",
    "        self.f = f\n",
    "\n",
    "    def __call__(self):\n",
    "        return \"<i>{}</i>\".format(self.f())\n",
    "\n",
    "\n",
    "\n",
    "@bol\n",
    "@ita\n",
    "def sayhi():\n",
    "    return \"hi\"\n",
    "\n",
    "\n",
    "print(sayhi())"
   ]
  },
  {
   "cell_type": "code",
   "execution_count": 41,
   "metadata": {},
   "outputs": [
    {
     "name": "stdout",
     "output_type": "stream",
     "text": [
      "<b><i>hi</i></b>\n"
     ]
    }
   ],
   "source": [
    "class sty(object):\n",
    "    def __init__(self, tag):\n",
    "        self.tag = tag\n",
    "\n",
    "    def __call__(self, f):\n",
    "        def newf():\n",
    "            return \"<{tag}>{res}</{tag}>\".format(res=f(), tag=self.tag)\n",
    "\n",
    "        return newf\n",
    "\n",
    "\n",
    "@sty(\"b\")\n",
    "@sty(\"i\")\n",
    "def sayhi():\n",
    "    return \"hi\"\n",
    "\n",
    "\n",
    "print(sayhi())"
   ]
  },
  {
   "cell_type": "code",
   "execution_count": 42,
   "metadata": {},
   "outputs": [
    {
     "name": "stdout",
     "output_type": "stream",
     "text": [
      "Call 1 of 'say_whee'\n",
      "\t\t\tWhee!\n",
      "Call 2 of 'say_whee'\n",
      "\t\t\tWhee!\n",
      "Call 3 of 'say_whee'\n",
      "\t\t\tWhee!\n"
     ]
    }
   ],
   "source": [
    "import functools\n",
    "\n",
    "\n",
    "class CountCalls:\n",
    "    def __init__(self, func):\n",
    "        functools.update_wrapper(self, func)\n",
    "        self.func = func\n",
    "        self.num_calls = 0\n",
    "\n",
    "    def __call__(self, *args, **kwargs):\n",
    "        self.num_calls += 1\n",
    "        print(f\"Call {self.num_calls} of {self.func.__name__!r}\")\n",
    "        return self.func(*args, **kwargs)\n",
    "\n",
    "\n",
    "@CountCalls\n",
    "def say_whee():\n",
    "    print(\"\\t\\t\\tWhee!\")\n",
    "\n",
    "\n",
    "if __name__ == \"__main__\":\n",
    "    say_whee()\n",
    "    say_whee()\n",
    "    say_whee()"
   ]
  }
 ],
 "metadata": {
  "kernelspec": {
   "display_name": "Python 3",
   "language": "python",
   "name": "python3"
  },
  "language_info": {
   "codemirror_mode": {
    "name": "ipython",
    "version": 3
   },
   "file_extension": ".py",
   "mimetype": "text/x-python",
   "name": "python",
   "nbconvert_exporter": "python",
   "pygments_lexer": "ipython3",
   "version": "3.12.1"
  }
 },
 "nbformat": 4,
 "nbformat_minor": 2
}
