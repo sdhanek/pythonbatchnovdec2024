{
 "cells": [
  {
   "cell_type": "markdown",
   "metadata": {},
   "source": [
    "Coroutines\n",
    "- pep-0342\n",
    "- generators are data producers\n",
    "- coroutines are data consumers\n",
    "\n",
    "- Coroutines consume values using a (yield)"
   ]
  },
  {
   "cell_type": "code",
   "execution_count": 1,
   "metadata": {},
   "outputs": [
    {
     "name": "stdout",
     "output_type": "stream",
     "text": [
      "helo world\n",
      " type(hello) =<class 'function'> <class 'NoneType'> None\n"
     ]
    }
   ],
   "source": [
    "def hello():\n",
    "    print('helo world')\n",
    "\n",
    "\n",
    "result = hello()\n",
    "print(f\" {type(hello) =} {type(result)} {result}\") "
   ]
  },
  {
   "cell_type": "code",
   "execution_count": 2,
   "metadata": {},
   "outputs": [
    {
     "name": "stdout",
     "output_type": "stream",
     "text": [
      " type(hello) =<class 'function'> <class 'str'> helo world\n"
     ]
    }
   ],
   "source": [
    "def hello():\n",
    "    return 'helo world'\n",
    "\n",
    "\n",
    "result = hello()\n",
    "print(f\" {type(hello) =} {type(result)} {result}\") "
   ]
  },
  {
   "cell_type": "code",
   "execution_count": 3,
   "metadata": {},
   "outputs": [
    {
     "name": "stdout",
     "output_type": "stream",
     "text": [
      " type(hello) =<class 'function'> <class 'generator'> <generator object hello at 0x70aa94343320>\n"
     ]
    }
   ],
   "source": [
    "def hello():\n",
    "    yield \"helo world\"   # generator\n",
    "\n",
    "\n",
    "result = hello()\n",
    "print(f\" {type(hello) =} {type(result)} {result}\") "
   ]
  },
  {
   "cell_type": "code",
   "execution_count": 4,
   "metadata": {},
   "outputs": [
    {
     "data": {
      "text/plain": [
       "'helo world'"
      ]
     },
     "execution_count": 4,
     "metadata": {},
     "output_type": "execute_result"
    }
   ],
   "source": [
    "next(result)"
   ]
  },
  {
   "cell_type": "code",
   "execution_count": 5,
   "metadata": {},
   "outputs": [
    {
     "name": "stdout",
     "output_type": "stream",
     "text": [
      " type(hello) =<class 'function'> <class 'generator'> <generator object hello at 0x70aa943a0c40>\n"
     ]
    }
   ],
   "source": [
    "def hello():  # coroutine\n",
    "    value = yield \"helo world\"\n",
    "    yield value\n",
    "\n",
    "\n",
    "result = hello()\n",
    "print(f\" {type(hello) =} {type(result)} {result}\")"
   ]
  },
  {
   "cell_type": "code",
   "execution_count": null,
   "metadata": {},
   "outputs": [],
   "source": [
    "# NOTE: Coroutine is special generator"
   ]
  },
  {
   "cell_type": "code",
   "execution_count": 6,
   "metadata": {},
   "outputs": [
    {
     "name": "stdout",
     "output_type": "stream",
     "text": [
      "<class 'generator'> <generator object hello at 0x70aa943a0d00>\n"
     ]
    }
   ],
   "source": [
    "def hello():  # coroutine\n",
    "    value = yield 123123\n",
    "    # yield value\n",
    "    yield f\"Passed value is {value}\"\n",
    "\n",
    "\n",
    "result = hello()\n",
    "print(f\"{type(result)} {result}\")"
   ]
  },
  {
   "cell_type": "code",
   "execution_count": 7,
   "metadata": {},
   "outputs": [
    {
     "name": "stdout",
     "output_type": "stream",
     "text": [
      "next(result) = 123123\n"
     ]
    }
   ],
   "source": [
    "# All coroutines must be \"primed\" by first calling next() (or send(None))\n",
    "print(f\"{next(result) = }\")  # 123123"
   ]
  },
  {
   "cell_type": "code",
   "execution_count": 8,
   "metadata": {},
   "outputs": [
    {
     "name": "stdout",
     "output_type": "stream",
     "text": [
      "result.send(\"world\") = 'Passed value is world'\n"
     ]
    }
   ],
   "source": [
    "print(f'{result.send(\"world\") = }')"
   ]
  },
  {
   "cell_type": "code",
   "execution_count": 9,
   "metadata": {},
   "outputs": [
    {
     "name": "stdout",
     "output_type": "stream",
     "text": [
      "No more yields to send !!!\n"
     ]
    }
   ],
   "source": [
    "try:\n",
    "    print(f\"{result.send('Python')  =}\")\n",
    "except StopIteration:\n",
    "    print(\"No more yields to send !!!\")"
   ]
  },
  {
   "cell_type": "markdown",
   "metadata": {},
   "source": [
    "Another example"
   ]
  },
  {
   "cell_type": "code",
   "execution_count": 10,
   "metadata": {},
   "outputs": [],
   "source": [
    "def my_coroutine(num):\n",
    "    value = yield \"default string\"           # default string\n",
    "    yield value                              # first\n",
    "    yield value                              # first -- second\n",
    "    value = yield \"new string\"               # new string\n",
    "    yield value                              # fourth"
   ]
  },
  {
   "cell_type": "code",
   "execution_count": 11,
   "metadata": {},
   "outputs": [
    {
     "name": "stdout",
     "output_type": "stream",
     "text": [
      "type(c)    = <class 'generator'>\n",
      "c          = <generator object my_coroutine at 0x70aa943a0a00>\n",
      "next(c) ='default string'\n"
     ]
    }
   ],
   "source": [
    "# Step 1: To call\n",
    "c = my_coroutine(4)\n",
    "print(f\"{type(c)    = }\")  # <class 'generator'>\n",
    "print(f\"{c          = }\")  # <generator object my_coroutine at 0x0000022D8B349A10>\n",
    "\n",
    "# Step 2: to prime the generator to become coroutine\n",
    "print(f\"{next(c) =}\")  # 'default string'"
   ]
  },
  {
   "cell_type": "code",
   "execution_count": 12,
   "metadata": {},
   "outputs": [
    {
     "name": "stdout",
     "output_type": "stream",
     "text": [
      "c.send('first')  ='first'\n",
      "c.send('second') ='first'\n",
      "c.send('third')  ='new string'\n"
     ]
    }
   ],
   "source": [
    "# Step 3: Sending values to coroutine\n",
    "print(f\"{c.send('first')  =}\")  # 'first'\n",
    "print(f\"{c.send('second') =}\")  # 'first'\n",
    "print(f\"{c.send('third')  =}\")  # 'new string'"
   ]
  },
  {
   "cell_type": "code",
   "execution_count": 13,
   "metadata": {},
   "outputs": [
    {
     "name": "stdout",
     "output_type": "stream",
     "text": [
      "c.send('fourth')  ='fourth'\n"
     ]
    }
   ],
   "source": [
    "print(f\"{c.send('fourth')  =}\")  # 'fourth'"
   ]
  },
  {
   "cell_type": "code",
   "execution_count": 14,
   "metadata": {},
   "outputs": [
    {
     "ename": "StopIteration",
     "evalue": "",
     "output_type": "error",
     "traceback": [
      "\u001b[0;31m---------------------------------------------------------------------------\u001b[0m",
      "\u001b[0;31mStopIteration\u001b[0m                             Traceback (most recent call last)",
      "Cell \u001b[0;32mIn[14], line 1\u001b[0m\n\u001b[0;32m----> 1\u001b[0m \u001b[38;5;28mprint\u001b[39m(\u001b[38;5;124mf\u001b[39m\u001b[38;5;124m\"\u001b[39m\u001b[38;5;132;01m{\u001b[39;00m\u001b[43mc\u001b[49m\u001b[38;5;241;43m.\u001b[39;49m\u001b[43msend\u001b[49m\u001b[43m(\u001b[49m\u001b[38;5;124;43m'\u001b[39;49m\u001b[38;5;124;43mfifth\u001b[39;49m\u001b[38;5;124;43m'\u001b[39;49m\u001b[43m)\u001b[49m\u001b[38;5;250m  \u001b[39m\u001b[38;5;132;01m=}\u001b[39;00m\u001b[38;5;124m\"\u001b[39m)\n",
      "\u001b[0;31mStopIteration\u001b[0m: "
     ]
    }
   ],
   "source": [
    "print(f\"{c.send('fifth')  =}\")"
   ]
  },
  {
   "cell_type": "markdown",
   "metadata": {},
   "source": [
    "Infinite reception"
   ]
  },
  {
   "cell_type": "code",
   "execution_count": 15,
   "metadata": {},
   "outputs": [
    {
     "name": "stdout",
     "output_type": "stream",
     "text": [
      "next(it) =1234\n",
      "Received :First\n",
      "Received :Second\n",
      "Received :third\n",
      "Received :0\n",
      "Received :1\n",
      "Received :2\n",
      "Received :3\n",
      "Received :4\n",
      "Received :5\n",
      "Received :6\n",
      "Received :7\n",
      "Received :8\n",
      "coroutine is closed. Cant send any value\n"
     ]
    }
   ],
   "source": [
    "def my_coroutine():\n",
    "    while True:\n",
    "        received = yield 1234  # values will be received here\n",
    "        print(f\"Received :{received}\")\n",
    "\n",
    "\n",
    "# Step 1: creating the generator\n",
    "it = my_coroutine()\n",
    "\n",
    "# Step 2: Prime the coroutine\n",
    "print(f\"{next(it) =}\")  # 1234\n",
    "\n",
    "# Step 3: sending values to coroutine\n",
    "it.send(\"First\")\n",
    "it.send(\"Second\")\n",
    "it.send(\"third\")\n",
    "\n",
    "for i in range(9):\n",
    "    it.send(i)\n",
    "\n",
    "# Step 4: close the coroutine\n",
    "it.close()\n",
    "\n",
    "try:\n",
    "    it.send(\"fourth\")\n",
    "except StopIteration:\n",
    "    print(\"coroutine is closed. Cant send any value\")"
   ]
  },
  {
   "cell_type": "markdown",
   "metadata": {},
   "source": [
    "finite reception"
   ]
  },
  {
   "cell_type": "code",
   "execution_count": 16,
   "metadata": {},
   "outputs": [
    {
     "name": "stdout",
     "output_type": "stream",
     "text": [
      "next(it) =1234\n",
      "Received :First\n",
      "Received :Second\n",
      "Received :third\n",
      "Received :0\n",
      "Received :1\n"
     ]
    },
    {
     "ename": "StopIteration",
     "evalue": "",
     "output_type": "error",
     "traceback": [
      "\u001b[0;31m---------------------------------------------------------------------------\u001b[0m",
      "\u001b[0;31mStopIteration\u001b[0m                             Traceback (most recent call last)",
      "Cell \u001b[0;32mIn[16], line 19\u001b[0m\n\u001b[1;32m     16\u001b[0m it\u001b[38;5;241m.\u001b[39msend(\u001b[38;5;124m\"\u001b[39m\u001b[38;5;124mthird\u001b[39m\u001b[38;5;124m\"\u001b[39m)\n\u001b[1;32m     18\u001b[0m \u001b[38;5;28;01mfor\u001b[39;00m i \u001b[38;5;129;01min\u001b[39;00m \u001b[38;5;28mrange\u001b[39m(\u001b[38;5;241m9\u001b[39m):\n\u001b[0;32m---> 19\u001b[0m     \u001b[43mit\u001b[49m\u001b[38;5;241;43m.\u001b[39;49m\u001b[43msend\u001b[49m\u001b[43m(\u001b[49m\u001b[43mi\u001b[49m\u001b[43m)\u001b[49m\n\u001b[1;32m     21\u001b[0m \u001b[38;5;66;03m# Step 4: close the coroutine\u001b[39;00m\n\u001b[1;32m     22\u001b[0m it\u001b[38;5;241m.\u001b[39mclose()\n",
      "\u001b[0;31mStopIteration\u001b[0m: "
     ]
    }
   ],
   "source": [
    "def my_coroutine(count=5):\n",
    "    for _ in range(count):\n",
    "        received = yield 1234  # values will be received here\n",
    "        print(f\"Received :{received}\")\n",
    "\n",
    "\n",
    "# Step 1: creating the generator\n",
    "it = my_coroutine(5)\n",
    "\n",
    "# Step 2: Prime the coroutine\n",
    "print(f\"{next(it) =}\")\n",
    "\n",
    "# Step 3: sending values to coroutine\n",
    "it.send(\"First\")\n",
    "it.send(\"Second\")\n",
    "it.send(\"third\")\n",
    "\n",
    "for i in range(9):\n",
    "    it.send(i)\n",
    "\n",
    "# Step 4: close the coroutine\n",
    "it.close()\n",
    "\n",
    "try:\n",
    "    it.send(\"fourth\")\n",
    "except StopIteration:\n",
    "    print(\"coroutine is closed. Cant send any value\")"
   ]
  },
  {
   "cell_type": "markdown",
   "metadata": {},
   "source": [
    "chaining the coroutines"
   ]
  },
  {
   "cell_type": "code",
   "execution_count": 17,
   "metadata": {},
   "outputs": [
    {
     "name": "stdout",
     "output_type": "stream",
     "text": [
      "I'm sink, i'll print tokens\n",
      "Searching for ing\n",
      "running\n",
      "moving\n",
      "Done with filtering!!!\n"
     ]
    }
   ],
   "source": [
    "def producer(sentence, next_coroutine):\n",
    "    \"\"\"\n",
    "    Producer which just split strings and\n",
    "    feed it to pattern_filter coroutine\n",
    "    \"\"\"\n",
    "    tokens = sentence.split(\" \")\n",
    "    for token in tokens:\n",
    "        next_coroutine.send(token)\n",
    "    next_coroutine.close()\n",
    "\n",
    "\n",
    "def pattern_filter(pattern=\"ing\", next_coroutine=None):\n",
    "    \"\"\"\n",
    "    Search for pattern in received token\n",
    "    and if pattern got matched, send it to\n",
    "    print_token() coroutine for printing\n",
    "    \"\"\"\n",
    "    print(\"Searching for {}\".format(pattern))\n",
    "    try:\n",
    "        while True:\n",
    "            token = yield\n",
    "            if pattern in token:\n",
    "                next_coroutine.send(token)\n",
    "    except GeneratorExit:\n",
    "        print(\"Done with filtering!!!\")\n",
    "\n",
    "def print_token():\n",
    "    \"\"\"\n",
    "    Act as a sink, simply print the\n",
    "    received tokens\n",
    "    \"\"\"\n",
    "    print(\"I'm sink, i'll print tokens\")\n",
    "    try:\n",
    "        while True:\n",
    "            token = yield\n",
    "            print(token)\n",
    "    except GeneratorExit:\n",
    "        print(\"Done with printing!\")\n",
    "\n",
    "\n",
    "if __name__ == \"__main__\":\n",
    "    pt = print_token()\n",
    "    next(pt)\n",
    "\n",
    "    pf = pattern_filter(next_coroutine=pt)\n",
    "    next(pf)\n",
    "\n",
    "    sentence = \"Bob is running behind a fast moving car\"\n",
    "    producer(sentence, pf)"
   ]
  },
  {
   "cell_type": "markdown",
   "metadata": {},
   "source": [
    "asyncio"
   ]
  },
  {
   "cell_type": "code",
   "execution_count": 18,
   "metadata": {},
   "outputs": [
    {
     "name": "stdout",
     "output_type": "stream",
     "text": [
      "['ALL_COMPLETED', 'AbstractChildWatcher', 'AbstractEventLoop', 'AbstractEventLoopPolicy', 'AbstractServer', 'Barrier', 'BaseEventLoop', 'BaseProtocol', 'BaseTransport', 'BoundedSemaphore', 'BrokenBarrierError', 'BufferedProtocol', 'CancelledError', 'Condition', 'DatagramProtocol', 'DatagramTransport', 'DefaultEventLoopPolicy', 'Event', 'FIRST_COMPLETED', 'FIRST_EXCEPTION', 'FastChildWatcher', 'Future', 'Handle', 'IncompleteReadError', 'InvalidStateError', 'LifoQueue', 'LimitOverrunError', 'Lock', 'MultiLoopChildWatcher', 'PidfdChildWatcher', 'PriorityQueue', 'Protocol', 'Queue', 'QueueEmpty', 'QueueFull', 'ReadTransport', 'Runner', 'SafeChildWatcher', 'SelectorEventLoop', 'Semaphore', 'SendfileNotAvailableError', 'Server', 'StreamReader', 'StreamReaderProtocol', 'StreamWriter', 'SubprocessProtocol', 'SubprocessTransport', 'Task', 'TaskGroup', 'ThreadedChildWatcher', 'Timeout', 'TimeoutError', 'TimerHandle', 'Transport', 'WriteTransport', '__all__', '__builtins__', '__cached__', '__doc__', '__file__', '__loader__', '__name__', '__package__', '__path__', '__spec__', '_enter_task', '_get_running_loop', '_leave_task', '_register_task', '_set_running_loop', '_unregister_task', 'all_tasks', 'as_completed', 'base_events', 'base_futures', 'base_subprocess', 'base_tasks', 'constants', 'coroutines', 'create_eager_task_factory', 'create_subprocess_exec', 'create_subprocess_shell', 'create_task', 'current_task', 'eager_task_factory', 'ensure_future', 'events', 'exceptions', 'format_helpers', 'futures', 'gather', 'get_child_watcher', 'get_event_loop', 'get_event_loop_policy', 'get_running_loop', 'iscoroutine', 'iscoroutinefunction', 'isfuture', 'locks', 'log', 'mixins', 'new_event_loop', 'open_connection', 'open_unix_connection', 'protocols', 'queues', 'run', 'run_coroutine_threadsafe', 'runners', 'selector_events', 'set_child_watcher', 'set_event_loop', 'set_event_loop_policy', 'shield', 'sleep', 'sslproto', 'staggered', 'start_server', 'start_unix_server', 'streams', 'subprocess', 'sys', 'taskgroups', 'tasks', 'threads', 'timeout', 'timeout_at', 'timeouts', 'to_thread', 'transports', 'trsock', 'unix_events', 'wait', 'wait_for', 'wrap_future']\n"
     ]
    }
   ],
   "source": [
    "import asyncio\n",
    "\n",
    "print(dir(asyncio))"
   ]
  },
  {
   "cell_type": "code",
   "execution_count": null,
   "metadata": {},
   "outputs": [],
   "source": [
    "# blocking execution- traditional - python,java,c, c++\n",
    "# statement1 - 5sec\n",
    "# statement2 - 5sec\n",
    "# statement3 - 5sec\n",
    "# 5 + 5 + 5 = 15 sec\n",
    "\n",
    "# non-blocking execution- node.js. asyncio, goroutines\n",
    "# statement1 - 5sec\n",
    "# statement2 - 5sec\n",
    "# statement3 - 5sec\n",
    "# 5 sec"
   ]
  },
  {
   "cell_type": "code",
   "execution_count": 19,
   "metadata": {},
   "outputs": [
    {
     "ename": "AttributeError",
     "evalue": "module 'asyncio' has no attribute 'coroutine'",
     "output_type": "error",
     "traceback": [
      "\u001b[0;31m---------------------------------------------------------------------------\u001b[0m",
      "\u001b[0;31mAttributeError\u001b[0m                            Traceback (most recent call last)",
      "Cell \u001b[0;32mIn[19], line 1\u001b[0m\n\u001b[0;32m----> 1\u001b[0m \u001b[38;5;129m@asyncio\u001b[39m\u001b[38;5;241;43m.\u001b[39;49m\u001b[43mcoroutine\u001b[49m\n\u001b[1;32m      2\u001b[0m \u001b[38;5;28;01mdef\u001b[39;00m \u001b[38;5;21mold_style_coroutine\u001b[39m():\n\u001b[1;32m      3\u001b[0m     \u001b[38;5;28mprint\u001b[39m(\u001b[38;5;124m\"\u001b[39m\u001b[38;5;124mold_style_coroutine - start\u001b[39m\u001b[38;5;124m\"\u001b[39m)\n\u001b[1;32m      4\u001b[0m     \u001b[38;5;28;01myield from\u001b[39;00m asyncio\u001b[38;5;241m.\u001b[39msleep(\u001b[38;5;241m1\u001b[39m)\n",
      "\u001b[0;31mAttributeError\u001b[0m: module 'asyncio' has no attribute 'coroutine'"
     ]
    }
   ],
   "source": [
    "@asyncio.coroutine\n",
    "def old_style_coroutine():\n",
    "    print(\"old_style_coroutine - start\")\n",
    "    yield from asyncio.sleep(1)\n",
    "    print(\"old_style_coroutine - end\")\n",
    "\n",
    "\n",
    "# osc = old_style_coroutine()\n",
    "# print(f'{osc = }')\n",
    "# print(f'{list(osc) = }')\n",
    "\n",
    "asyncio.run(old_style_coroutine())"
   ]
  },
  {
   "cell_type": "code",
   "execution_count": 20,
   "metadata": {},
   "outputs": [
    {
     "ename": "RuntimeError",
     "evalue": "asyncio.run() cannot be called from a running event loop",
     "output_type": "error",
     "traceback": [
      "\u001b[0;31m---------------------------------------------------------------------------\u001b[0m",
      "\u001b[0;31mRuntimeError\u001b[0m                              Traceback (most recent call last)",
      "Cell \u001b[0;32mIn[20], line 8\u001b[0m\n\u001b[1;32m      4\u001b[0m     \u001b[38;5;28;01mawait\u001b[39;00m old_style_coroutine()\n\u001b[1;32m      5\u001b[0m     \u001b[38;5;28mprint\u001b[39m(\u001b[38;5;124m\"\u001b[39m\u001b[38;5;124mmain - end\u001b[39m\u001b[38;5;124m\"\u001b[39m)\n\u001b[0;32m----> 8\u001b[0m \u001b[43masyncio\u001b[49m\u001b[38;5;241;43m.\u001b[39;49m\u001b[43mrun\u001b[49m\u001b[43m(\u001b[49m\u001b[43mmain\u001b[49m\u001b[43m(\u001b[49m\u001b[43m)\u001b[49m\u001b[43m)\u001b[49m\n",
      "File \u001b[0;32m~/.python/current/lib/python3.12/asyncio/runners.py:190\u001b[0m, in \u001b[0;36mrun\u001b[0;34m(main, debug, loop_factory)\u001b[0m\n\u001b[1;32m    161\u001b[0m \u001b[38;5;250m\u001b[39m\u001b[38;5;124;03m\"\"\"Execute the coroutine and return the result.\u001b[39;00m\n\u001b[1;32m    162\u001b[0m \n\u001b[1;32m    163\u001b[0m \u001b[38;5;124;03mThis function runs the passed coroutine, taking care of\u001b[39;00m\n\u001b[0;32m   (...)\u001b[0m\n\u001b[1;32m    186\u001b[0m \u001b[38;5;124;03m    asyncio.run(main())\u001b[39;00m\n\u001b[1;32m    187\u001b[0m \u001b[38;5;124;03m\"\"\"\u001b[39;00m\n\u001b[1;32m    188\u001b[0m \u001b[38;5;28;01mif\u001b[39;00m events\u001b[38;5;241m.\u001b[39m_get_running_loop() \u001b[38;5;129;01mis\u001b[39;00m \u001b[38;5;129;01mnot\u001b[39;00m \u001b[38;5;28;01mNone\u001b[39;00m:\n\u001b[1;32m    189\u001b[0m     \u001b[38;5;66;03m# fail fast with short traceback\u001b[39;00m\n\u001b[0;32m--> 190\u001b[0m     \u001b[38;5;28;01mraise\u001b[39;00m \u001b[38;5;167;01mRuntimeError\u001b[39;00m(\n\u001b[1;32m    191\u001b[0m         \u001b[38;5;124m\"\u001b[39m\u001b[38;5;124masyncio.run() cannot be called from a running event loop\u001b[39m\u001b[38;5;124m\"\u001b[39m)\n\u001b[1;32m    193\u001b[0m \u001b[38;5;28;01mwith\u001b[39;00m Runner(debug\u001b[38;5;241m=\u001b[39mdebug, loop_factory\u001b[38;5;241m=\u001b[39mloop_factory) \u001b[38;5;28;01mas\u001b[39;00m runner:\n\u001b[1;32m    194\u001b[0m     \u001b[38;5;28;01mreturn\u001b[39;00m runner\u001b[38;5;241m.\u001b[39mrun(main)\n",
      "\u001b[0;31mRuntimeError\u001b[0m: asyncio.run() cannot be called from a running event loop"
     ]
    }
   ],
   "source": [
    "# async, await -- new keywords in python 3.7\n",
    "async def main():\n",
    "    print(\"main - start\")\n",
    "    await old_style_coroutine()\n",
    "    print(\"main - end\")\n",
    "\n",
    "\n",
    "asyncio.run(main())"
   ]
  },
  {
   "cell_type": "code",
   "execution_count": null,
   "metadata": {},
   "outputs": [],
   "source": []
  }
 ],
 "metadata": {
  "kernelspec": {
   "display_name": "Python 3",
   "language": "python",
   "name": "python3"
  },
  "language_info": {
   "codemirror_mode": {
    "name": "ipython",
    "version": 3
   },
   "file_extension": ".py",
   "mimetype": "text/x-python",
   "name": "python",
   "nbconvert_exporter": "python",
   "pygments_lexer": "ipython3",
   "version": "3.12.1"
  }
 },
 "nbformat": 4,
 "nbformat_minor": 2
}
