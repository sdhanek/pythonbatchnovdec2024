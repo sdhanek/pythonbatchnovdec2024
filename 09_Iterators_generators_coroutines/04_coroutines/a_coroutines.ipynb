{
 "cells": [
  {
   "cell_type": "markdown",
   "metadata": {},
   "source": [
    "Coroutines\n",
    "- pep-0342\n",
    "- generators are data producers\n",
    "- coroutines are data consumers\n",
    "\n",
    "- Coroutines consume values using a (yield)"
   ]
  },
  {
   "cell_type": "code",
   "execution_count": null,
   "metadata": {},
   "outputs": [],
   "source": []
  }
 ],
 "metadata": {
  "language_info": {
   "name": "python"
  }
 },
 "nbformat": 4,
 "nbformat_minor": 2
}
