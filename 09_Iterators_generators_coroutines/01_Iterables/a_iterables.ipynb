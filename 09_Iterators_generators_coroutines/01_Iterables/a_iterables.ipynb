{
 "cells": [
  {
   "cell_type": "markdown",
   "metadata": {},
   "source": [
    "Iterables\n",
    "- Objects which support iteration over them\n",
    "\n",
    "non-iterable objects ====> int, float, None, True, False ..\n",
    "Iterable objects     ====> str, list, tuple, dict, set, iterator, generator, range()"
   ]
  },
  {
   "cell_type": "code",
   "execution_count": 1,
   "metadata": {},
   "outputs": [],
   "source": [
    "# for digit in 1234:\n",
    "#     print(digit)\n",
    "# TypeError: 'int' object is not iterable"
   ]
  },
  {
   "cell_type": "code",
   "execution_count": 2,
   "metadata": {},
   "outputs": [
    {
     "name": "stdout",
     "output_type": "stream",
     "text": [
      "1\n",
      "2\n",
      "3\n",
      "4\n"
     ]
    }
   ],
   "source": [
    "for digit in \"1234\":\n",
    "    print(digit)"
   ]
  },
  {
   "cell_type": "code",
   "execution_count": 3,
   "metadata": {},
   "outputs": [
    {
     "name": "stdout",
     "output_type": "stream",
     "text": [
      "p y t h o n   p r o g r a m m i n g "
     ]
    }
   ],
   "source": [
    "# string   -- iterable\n",
    "for ch in \"python programming\":\n",
    "    print(ch, end=\" \")"
   ]
  },
  {
   "cell_type": "code",
   "execution_count": 4,
   "metadata": {},
   "outputs": [
    {
     "name": "stdout",
     "output_type": "stream",
     "text": [
      "Collections - Lists  - iterable\n",
      "\t udhay\n",
      "\t prakash\n",
      "\t someone\n"
     ]
    }
   ],
   "source": [
    "print(\"Collections - Lists  - iterable\")\n",
    "names = [\"udhay\", \"prakash\", \"someone\"]\n",
    "for each_name in names:\n",
    "    print(\"\\t\", each_name)"
   ]
  },
  {
   "cell_type": "code",
   "execution_count": 5,
   "metadata": {},
   "outputs": [
    {
     "name": "stdout",
     "output_type": "stream",
     "text": [
      "Collections - tuples  - iterable\n",
      "\t udhay\n",
      "\t prakash\n",
      "\t someone\n"
     ]
    }
   ],
   "source": [
    "print(\"Collections - tuples  - iterable\")\n",
    "names = (\"udhay\", \"prakash\", \"someone\")\n",
    "for each_name in names:\n",
    "    print(\"\\t\", each_name)"
   ]
  },
  {
   "cell_type": "code",
   "execution_count": 6,
   "metadata": {},
   "outputs": [
    {
     "name": "stdout",
     "output_type": "stream",
     "text": [
      "Collections - sets  - iterable\n",
      "\t someone\n",
      "\t prakash\n",
      "\t udhay\n"
     ]
    }
   ],
   "source": [
    "print(\"Collections - sets  - iterable\")\n",
    "names = {\"udhay\", \"prakash\", \"someone\"}\n",
    "for each_name in names:\n",
    "    print(\"\\t\", each_name)"
   ]
  },
  {
   "cell_type": "code",
   "execution_count": null,
   "metadata": {},
   "outputs": [],
   "source": [
    "# NOTE: iterating over sets may not give the elements in defined sequence."
   ]
  },
  {
   "cell_type": "code",
   "execution_count": 7,
   "metadata": {},
   "outputs": [
    {
     "name": "stdout",
     "output_type": "stream",
     "text": [
      "\n",
      "Collections - dictionaries  - iterable\n",
      "\tfirst\n",
      "\tsecond\n",
      "\tthird\n"
     ]
    }
   ],
   "source": [
    "print(\"\\nCollections - dictionaries  - iterable\")\n",
    "names = {\"first\": \"udhay\", \"second\": \"prakash\", \"third\": \"someone\"}\n",
    "for each_name in names:\n",
    "    print(\"\\t\" + each_name)"
   ]
  },
  {
   "cell_type": "code",
   "execution_count": 8,
   "metadata": {},
   "outputs": [
    {
     "name": "stdout",
     "output_type": "stream",
     "text": [
      "\n",
      "keys\n",
      "\tfirst\n",
      "\tsecond\n",
      "\tthird\n"
     ]
    }
   ],
   "source": [
    "print(\"\\nkeys\")\n",
    "for each_name in names.keys():\n",
    "    print(\"\\t\" + each_name)"
   ]
  },
  {
   "cell_type": "code",
   "execution_count": 9,
   "metadata": {},
   "outputs": [
    {
     "name": "stdout",
     "output_type": "stream",
     "text": [
      "\n",
      "values\n",
      "\tudhay\n",
      "\tprakash\n",
      "\tsomeone\n"
     ]
    }
   ],
   "source": [
    "print(\"\\nvalues\")\n",
    "for each_name in names.values():\n",
    "    print(\"\\t\" + each_name)"
   ]
  },
  {
   "cell_type": "code",
   "execution_count": 10,
   "metadata": {},
   "outputs": [
    {
     "name": "stdout",
     "output_type": "stream",
     "text": [
      "\t first ====> udhay\n",
      "\t second ====> prakash\n",
      "\t third ====> someone\n"
     ]
    }
   ],
   "source": [
    "for each_key, each_val in names.items():\n",
    "    print(\"\\t\", each_key, \"====>\", each_val)"
   ]
  },
  {
   "cell_type": "code",
   "execution_count": 11,
   "metadata": {},
   "outputs": [
    {
     "name": "stdout",
     "output_type": "stream",
     "text": [
      "12 23 34 50 \n",
      "0 12\n",
      "1 23\n",
      "2 34\n",
      "3 50\n"
     ]
    }
   ],
   "source": [
    "values = [12, 23, 34, 50, ]\n",
    "\n",
    "for num in values:\n",
    "    print(num, end= ' ')\n",
    "print()\n",
    "\n",
    "for index, num in enumerate(values):\n",
    "    print(index, num)"
   ]
  },
  {
   "cell_type": "code",
   "execution_count": 12,
   "metadata": {},
   "outputs": [
    {
     "data": {
      "text/plain": [
       "{'first': 'udhay', 'second': 'prakash', 'third': 'someone'}"
      ]
     },
     "execution_count": 12,
     "metadata": {},
     "output_type": "execute_result"
    }
   ],
   "source": [
    "names"
   ]
  },
  {
   "cell_type": "code",
   "execution_count": 13,
   "metadata": {},
   "outputs": [
    {
     "name": "stdout",
     "output_type": "stream",
     "text": [
      "0 first\n",
      "1 second\n",
      "2 third\n"
     ]
    }
   ],
   "source": [
    "for index, key in enumerate(names):\n",
    "    print(index, key)"
   ]
  },
  {
   "cell_type": "code",
   "execution_count": 14,
   "metadata": {},
   "outputs": [
    {
     "name": "stdout",
     "output_type": "stream",
     "text": [
      "0 ('first', 'udhay')\n",
      "1 ('second', 'prakash')\n",
      "2 ('third', 'someone')\n"
     ]
    }
   ],
   "source": [
    "for index, key in enumerate(names.items()):\n",
    "    print(index, key)"
   ]
  },
  {
   "cell_type": "code",
   "execution_count": 15,
   "metadata": {},
   "outputs": [
    {
     "ename": "ValueError",
     "evalue": "not enough values to unpack (expected 3, got 2)",
     "output_type": "error",
     "traceback": [
      "\u001b[0;31m---------------------------------------------------------------------------\u001b[0m",
      "\u001b[0;31mValueError\u001b[0m                                Traceback (most recent call last)",
      "Cell \u001b[0;32mIn[15], line 1\u001b[0m\n\u001b[0;32m----> 1\u001b[0m \u001b[38;5;28;01mfor\u001b[39;00m index, key, value \u001b[38;5;129;01min\u001b[39;00m \u001b[38;5;28menumerate\u001b[39m(names\u001b[38;5;241m.\u001b[39mitems()):\n\u001b[1;32m      2\u001b[0m     \u001b[38;5;28mprint\u001b[39m(index, key, value)\n",
      "\u001b[0;31mValueError\u001b[0m: not enough values to unpack (expected 3, got 2)"
     ]
    }
   ],
   "source": [
    "for index, key, value in enumerate(names.items()):\n",
    "    print(index, key, value)"
   ]
  },
  {
   "cell_type": "code",
   "execution_count": 16,
   "metadata": {},
   "outputs": [
    {
     "name": "stdout",
     "output_type": "stream",
     "text": [
      "0 first udhay\n",
      "1 second prakash\n",
      "2 third someone\n"
     ]
    }
   ],
   "source": [
    "# 0 ('first', 'udhay')\n",
    "\n",
    "for index, (key, value) in enumerate(names.items()):  # proper unpacking\n",
    "    print(index, key, value)"
   ]
  },
  {
   "cell_type": "code",
   "execution_count": 17,
   "metadata": {},
   "outputs": [
    {
     "name": "stdout",
     "output_type": "stream",
     "text": [
      "0 P\n",
      "1 r\n",
      "2 o\n",
      "3 g\n",
      "4 r\n",
      "5 a\n",
      "6 m\n",
      "\n",
      "(0, 'P')\n",
      "(1, 'r')\n",
      "(2, 'o')\n",
      "(3, 'g')\n",
      "(4, 'r')\n",
      "(5, 'a')\n",
      "(6, 'm')\n"
     ]
    }
   ],
   "source": [
    "\n",
    "my_string = \"Program\"\n",
    "\n",
    "count = 0\n",
    "for ech_chr in my_string:\n",
    "    print(count, ech_chr)\n",
    "    count += 1\n",
    "\n",
    "print()\n",
    "for ech_chr in enumerate(my_string):\n",
    "    print(ech_chr)"
   ]
  },
  {
   "cell_type": "code",
   "execution_count": 18,
   "metadata": {},
   "outputs": [
    {
     "name": "stdout",
     "output_type": "stream",
     "text": [
      "At loop  0, we found P\n",
      "At loop  1, we found r\n",
      "At loop  2, we found o\n",
      "At loop  3, we found g\n",
      "At loop  4, we found r\n",
      "At loop  5, we found a\n",
      "At loop  6, we found m\n",
      "\n",
      "At loop  0, we found P\n",
      "At loop  1, we found r\n",
      "At loop  2, we found o\n",
      "At loop  3, we found g\n",
      "At loop  4, we found r\n",
      "At loop  5, we found a\n",
      "At loop  6, we found m\n"
     ]
    }
   ],
   "source": [
    "for loop_index, ech_chr in enumerate(my_string):\n",
    "    print(f\"At loop {loop_index:2}, we found {ech_chr}\")\n",
    "\n",
    "print()\n",
    "for loop_index, ech_chr in enumerate(my_string, start=0):\n",
    "    print(f\"At loop {loop_index:2}, we found {ech_chr}\")"
   ]
  },
  {
   "cell_type": "code",
   "execution_count": 19,
   "metadata": {},
   "outputs": [
    {
     "name": "stdout",
     "output_type": "stream",
     "text": [
      "At loop  4, we found P\n",
      "At loop  5, we found r\n",
      "At loop  6, we found o\n",
      "At loop  7, we found g\n",
      "At loop  8, we found r\n",
      "At loop  9, we found a\n",
      "At loop 10, we found m\n"
     ]
    }
   ],
   "source": [
    "for loop_index, ech_chr in enumerate(my_string, start=4):\n",
    "    print(f\"At loop {loop_index:2}, we found {ech_chr}\")"
   ]
  },
  {
   "cell_type": "code",
   "execution_count": null,
   "metadata": {},
   "outputs": [],
   "source": [
    "# for loop_index, ech_chr in enumerate(my_string, start=-3.5):\n",
    "#     print(f'At loop {loop_index:2}, we found {ech_chr}')\n",
    "# TypeError: 'float' object cannot be interpreted as an integer"
   ]
  },
  {
   "cell_type": "markdown",
   "metadata": {},
   "source": [
    "all() and any()\n",
    "bool()\n",
    "    int/float\n",
    "        zero     - False\n",
    "        non-zero - True\n",
    "    str\n",
    "        empty str - False\n",
    "        non-empty - True\n",
    "    brace\n",
    "        empty     - False\n",
    "        with ele  - True\n",
    "\n",
    "all() -> True if bool(each element) is True\n",
    "any() -> True if bool(at-least one element) is True"
   ]
  },
  {
   "cell_type": "code",
   "execution_count": 20,
   "metadata": {},
   "outputs": [
    {
     "data": {
      "text/plain": [
       "True"
      ]
     },
     "execution_count": 20,
     "metadata": {},
     "output_type": "execute_result"
    }
   ],
   "source": [
    "bool(1)"
   ]
  },
  {
   "cell_type": "code",
   "execution_count": null,
   "metadata": {},
   "outputs": [],
   "source": [
    "bool(0)"
   ]
  },
  {
   "cell_type": "code",
   "execution_count": 21,
   "metadata": {},
   "outputs": [
    {
     "data": {
      "text/plain": [
       "True"
      ]
     },
     "execution_count": 21,
     "metadata": {},
     "output_type": "execute_result"
    }
   ],
   "source": [
    "bool(-12.12)"
   ]
  },
  {
   "cell_type": "code",
   "execution_count": 22,
   "metadata": {},
   "outputs": [
    {
     "data": {
      "text/plain": [
       "True"
      ]
     },
     "execution_count": 22,
     "metadata": {},
     "output_type": "execute_result"
    }
   ],
   "source": [
    "bool('asad')"
   ]
  },
  {
   "cell_type": "code",
   "execution_count": 23,
   "metadata": {},
   "outputs": [
    {
     "name": "stdout",
     "output_type": "stream",
     "text": [
      "0 False\n",
      "result False\n"
     ]
    }
   ],
   "source": [
    "# all() -> True if bool(ech_element) is True\n",
    "my_list = [1, 2, 3, 4, 6, 0, 6, 7]\n",
    "for i in my_list:\n",
    "    if not bool(i):\n",
    "        print(i, bool(i))\n",
    "        result = False\n",
    "        break\n",
    "else:\n",
    "    print(\"All loop given are ran\")\n",
    "    result = True\n",
    "\n",
    "print('result', result)"
   ]
  },
  {
   "cell_type": "code",
   "execution_count": 24,
   "metadata": {},
   "outputs": [
    {
     "data": {
      "text/plain": [
       "False"
      ]
     },
     "execution_count": 24,
     "metadata": {},
     "output_type": "execute_result"
    }
   ],
   "source": [
    "all(my_list)"
   ]
  },
  {
   "cell_type": "code",
   "execution_count": 25,
   "metadata": {},
   "outputs": [
    {
     "name": "stdout",
     "output_type": "stream",
     "text": [
      "[1, 2, 3, 4, 6, 0, 6, 7] False\n",
      "[1, 2, 3, 4, 6, 0, 6, 7] False\n"
     ]
    }
   ],
   "source": [
    "print(my_list, result)\n",
    "print(my_list, all(my_list))"
   ]
  },
  {
   "cell_type": "code",
   "execution_count": 26,
   "metadata": {},
   "outputs": [
    {
     "name": "stdout",
     "output_type": "stream",
     "text": [
      "\n",
      "1 True\n",
      "[1, 2, 3, 4, 6, 0] True\n",
      "[1, 2, 3, 4, 6, 0] True\n"
     ]
    }
   ],
   "source": [
    "# any() -> True if bool(atleast one element) is True\n",
    "print()\n",
    "my_list = [1, 2, 3, 4, 6, 0]\n",
    "for i in my_list:\n",
    "    if bool(i):\n",
    "        print(i, bool(i))\n",
    "        result = True\n",
    "        break\n",
    "else:\n",
    "    result = False\n",
    "\n",
    "print(my_list, result)\n",
    "print(my_list, any(my_list))"
   ]
  },
  {
   "cell_type": "code",
   "execution_count": 27,
   "metadata": {},
   "outputs": [
    {
     "name": "stdout",
     "output_type": "stream",
     "text": [
      "False\n",
      "True\n"
     ]
    }
   ],
   "source": [
    "print(all([1, 1, 1, 0]))  # False\n",
    "print(any([0, 0, 0, 1]))  # True"
   ]
  },
  {
   "cell_type": "code",
   "execution_count": 28,
   "metadata": {},
   "outputs": [
    {
     "name": "stdout",
     "output_type": "stream",
     "text": [
      "python True\n",
      "pyt hon True\n",
      "bool(\" \") =True\n",
      "bool(\"\")  =False\n"
     ]
    }
   ],
   "source": [
    "print(\"python\", all(\"python\"))  # True\n",
    "print(\"pyt hon\", all(\"pyt hon\"))  # True\n",
    "print(f'{bool(\" \") =}')\n",
    "print(f'{bool(\"\")  =}')"
   ]
  },
  {
   "cell_type": "markdown",
   "metadata": {},
   "source": [
    "Sorting\n",
    "Python uses Timsort algorithm for sorting list.sort()\n",
    "sorted()\n",
    "    - applicable on any iterable object\n",
    "    - create new list object and stores sorted result there\n",
    "    - default sorting is in ascending order\n",
    "reversed()\n",
    "    - results in an lazy object\n",
    "    - reverses the elements in reverse order of ASSIGNMENT"
   ]
  },
  {
   "cell_type": "code",
   "execution_count": 29,
   "metadata": {},
   "outputs": [
    {
     "name": "stdout",
     "output_type": "stream",
     "text": [
      "numbers         : [5, 2, 3, 1, 4]\n"
     ]
    }
   ],
   "source": [
    "numbers = [5, 2, 3, 1, 4]\n",
    "print(f\"numbers         : {numbers}\")"
   ]
  },
  {
   "cell_type": "code",
   "execution_count": 31,
   "metadata": {},
   "outputs": [
    {
     "name": "stdout",
     "output_type": "stream",
     "text": [
      "sorted(numbers) : [1, 2, 3, 4, 5]\n",
      "numbers         : [5, 2, 3, 1, 4]\n"
     ]
    }
   ],
   "source": [
    "print(f\"sorted(numbers) : {sorted(numbers)}\")\n",
    "print(f\"numbers         : {numbers}\")"
   ]
  },
  {
   "cell_type": "code",
   "execution_count": null,
   "metadata": {},
   "outputs": [],
   "source": [
    "# NOTE: sorted() will create new objects. \n",
    "# existing objects is not modified."
   ]
  },
  {
   "cell_type": "code",
   "execution_count": 32,
   "metadata": {},
   "outputs": [
    {
     "name": "stdout",
     "output_type": "stream",
     "text": [
      "word                        :az AZ 10\n",
      "list(word)                  :['a', 'z', ' ', 'A', 'Z', ' ', '1', '0']\n",
      "sorted(word)                :[' ', ' ', '0', '1', 'A', 'Z', 'a', 'z']\n",
      "sorted(word, key=str.lower) :[' ', ' ', '0', '1', 'a', 'A', 'z', 'Z']\n"
     ]
    }
   ],
   "source": [
    "word = \"az AZ 10\"\n",
    "print(f\"word                        :{word}\")\n",
    "print(f\"list(word)                  :{list(word)}\")\n",
    "print(f\"sorted(word)                :{sorted(word)}\")\n",
    "print(f\"sorted(word, key=str.lower) :{sorted(word, key=str.lower)}\")"
   ]
  },
  {
   "cell_type": "code",
   "execution_count": 33,
   "metadata": {},
   "outputs": [
    {
     "name": "stdout",
     "output_type": "stream",
     "text": [
      "['Apple', 'is', 'a', 'fruit']\n",
      "['Apple', 'a', 'fruit', 'is']\n",
      "['a', 'Apple', 'fruit', 'is']\n"
     ]
    }
   ],
   "source": [
    "lst_of_strs = \"Apple is a fruit\".split()\n",
    "print(lst_of_strs)\n",
    "print(sorted(lst_of_strs))\n",
    "print(sorted(lst_of_strs, key=str.lower))"
   ]
  },
  {
   "cell_type": "code",
   "execution_count": 34,
   "metadata": {},
   "outputs": [
    {
     "name": "stdout",
     "output_type": "stream",
     "text": [
      "[1, 2, 3, 4, 5]\n",
      "[1, 2, 3, 4, 5]\n",
      "['A', 'B', 'B', 'D', 'E']\n"
     ]
    }
   ],
   "source": [
    "my_dict = {1: \"D\", 2: \"B\", 3: \"B\", 4: \"E\", 5: \"A\"}\n",
    "print(sorted(my_dict))              # [1, 2, 3, 4, 5]\n",
    "print(sorted(my_dict.keys()))       # [1, 2, 3, 4, 5]\n",
    "print(sorted(my_dict.values()))     # ['A', 'B', 'B', 'D', 'E']"
   ]
  },
  {
   "cell_type": "code",
   "execution_count": 35,
   "metadata": {},
   "outputs": [
    {
     "name": "stdout",
     "output_type": "stream",
     "text": [
      "[(1, 'D'), (2, 'B'), (3, 'B'), (4, 'E'), (5, 'A')]\n",
      "[(1, 'D'), (2, 'B'), (3, 'B'), (4, 'E'), (5, 'A')]\n"
     ]
    }
   ],
   "source": [
    "print(sorted(my_dict.items()))          # [(1, 'D'), (2, 'B'), (3, 'B'), (4, 'E'), (5, 'A')]\n",
    "print(sorted(my_dict.items(), key=lambda x: x[0]))  # by key"
   ]
  },
  {
   "cell_type": "code",
   "execution_count": 36,
   "metadata": {},
   "outputs": [
    {
     "name": "stdout",
     "output_type": "stream",
     "text": [
      "[(5, 'A'), (2, 'B'), (3, 'B'), (1, 'D'), (4, 'E')]\n"
     ]
    }
   ],
   "source": [
    "print(sorted(my_dict.items(), key=lambda x: x[1]))  # by value"
   ]
  },
  {
   "cell_type": "code",
   "execution_count": 37,
   "metadata": {},
   "outputs": [
    {
     "name": "stdout",
     "output_type": "stream",
     "text": [
      "[(4, 'E'), (1, 'D'), (2, 'B'), (3, 'B'), (5, 'A')]\n"
     ]
    }
   ],
   "source": [
    "print(sorted(my_dict.items(), key=lambda x: x[1], reverse=True))  # by value"
   ]
  },
  {
   "cell_type": "code",
   "execution_count": 38,
   "metadata": {},
   "outputs": [
    {
     "name": "stdout",
     "output_type": "stream",
     "text": [
      "[(4, 'E'), (1, 'D'), (3, 'B'), (2, 'B'), (5, 'A')]\n"
     ]
    }
   ],
   "source": [
    "print(sorted(my_dict.items(), key=lambda x: (x[1], x[0]), reverse=True))  # by value and then by key - both dec"
   ]
  },
  {
   "cell_type": "code",
   "execution_count": 39,
   "metadata": {},
   "outputs": [
    {
     "name": "stdout",
     "output_type": "stream",
     "text": [
      "[(5, 'A'), (3, 'B'), (2, 'B'), (1, 'D'), (4, 'E')]\n"
     ]
    }
   ],
   "source": [
    "print(sorted(my_dict.items(), key=lambda x: (x[1], -x[0])))  # by value asc and then key dec"
   ]
  },
  {
   "cell_type": "code",
   "execution_count": 40,
   "metadata": {},
   "outputs": [
    {
     "data": {
      "text/plain": [
       "66"
      ]
     },
     "execution_count": 40,
     "metadata": {},
     "output_type": "execute_result"
    }
   ],
   "source": [
    "ord('B')"
   ]
  },
  {
   "cell_type": "code",
   "execution_count": 41,
   "metadata": {},
   "outputs": [
    {
     "data": {
      "text/plain": [
       "-66"
      ]
     },
     "execution_count": 41,
     "metadata": {},
     "output_type": "execute_result"
    }
   ],
   "source": [
    "- ord('B')"
   ]
  }
 ],
 "metadata": {
  "kernelspec": {
   "display_name": "Python 3",
   "language": "python",
   "name": "python3"
  },
  "language_info": {
   "codemirror_mode": {
    "name": "ipython",
    "version": 3
   },
   "file_extension": ".py",
   "mimetype": "text/x-python",
   "name": "python",
   "nbconvert_exporter": "python",
   "pygments_lexer": "ipython3",
   "version": "3.12.1"
  }
 },
 "nbformat": 4,
 "nbformat_minor": 2
}
