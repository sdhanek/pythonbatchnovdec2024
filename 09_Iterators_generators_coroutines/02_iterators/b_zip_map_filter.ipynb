{
 "cells": [
  {
   "cell_type": "markdown",
   "metadata": {},
   "source": [
    "zip(), map(), filter() result objects\n",
    "- lazy loading  object (or) on-demand loading object\n",
    "- Iterators are disposable objects\n",
    "    - one time use only"
   ]
  },
  {
   "cell_type": "code",
   "execution_count": 1,
   "metadata": {},
   "outputs": [],
   "source": [
    "# iterables\n",
    "alpha = {\"a\", \"e\", \"i\", \"o\", \"u\"}\n",
    "nums = (\"1\", \"2\", \"3\", \"4\")"
   ]
  },
  {
   "cell_type": "code",
   "execution_count": 2,
   "metadata": {},
   "outputs": [
    {
     "name": "stdout",
     "output_type": "stream",
     "text": [
      "pairs: <class 'zip'> <zip object at 0x765fc0163180>\n"
     ]
    }
   ],
   "source": [
    "pairs = zip(alpha, nums)  # zip object at 0x00000165AE6CBEC0>\n",
    "print(f\"pairs: {type(pairs)} {pairs}\")"
   ]
  },
  {
   "cell_type": "code",
   "execution_count": 3,
   "metadata": {},
   "outputs": [
    {
     "name": "stdout",
     "output_type": "stream",
     "text": [
      "('u', '1')\n",
      "('a', '2')\n",
      "('e', '3')\n",
      "('o', '4')\n"
     ]
    }
   ],
   "source": [
    "# Method 1: Iterate over the object\n",
    "for ech_pair in pairs:\n",
    "    print(ech_pair)"
   ]
  },
  {
   "cell_type": "code",
   "execution_count": 4,
   "metadata": {},
   "outputs": [
    {
     "name": "stdout",
     "output_type": "stream",
     "text": [
      "pairs1: <class 'list'> []\n",
      "pairs2: <class 'tuple'> ()\n",
      "pairs3: <class 'set'> set()\n",
      "pairs4: <class 'str'> <zip object at 0x765fc0163180>\n"
     ]
    }
   ],
   "source": [
    "# Method 2: Convert to other iterables\n",
    "pairs1 = list(pairs)\n",
    "print(f\"pairs1: {type(pairs1)} {pairs1}\")\n",
    "\n",
    "pairs2 = tuple(pairs)\n",
    "print(f\"pairs2: {type(pairs2)} {pairs2}\")\n",
    "\n",
    "pairs3 = set(pairs)\n",
    "print(f\"pairs3: {type(pairs3)} {pairs3}\")\n",
    "\n",
    "pairs4 = str(pairs)\n",
    "print(f\"pairs4: {type(pairs4)} {pairs4}\")"
   ]
  },
  {
   "cell_type": "markdown",
   "metadata": {},
   "source": [
    "NOTE: Iterators are disposable objects. can give values only once"
   ]
  },
  {
   "cell_type": "code",
   "execution_count": 5,
   "metadata": {},
   "outputs": [
    {
     "name": "stdout",
     "output_type": "stream",
     "text": [
      "pairs1: <class 'list'> [('u', '1'), ('a', '2'), ('e', '3'), ('o', '4')]\n"
     ]
    }
   ],
   "source": [
    "# re-assign to retrieve values again\n",
    "pairs = zip(alpha, nums)\n",
    "pairs1 = list(pairs)\n",
    "print(f\"pairs1: {type(pairs1)} {pairs1}\")"
   ]
  },
  {
   "cell_type": "code",
   "execution_count": 6,
   "metadata": {},
   "outputs": [
    {
     "name": "stdout",
     "output_type": "stream",
     "text": [
      "pairs2: <class 'tuple'> (('u', '1'), ('a', '2'), ('e', '3'), ('o', '4'))\n"
     ]
    }
   ],
   "source": [
    "pairs = zip(alpha, nums)\n",
    "pairs2 = tuple(pairs)\n",
    "print(f\"pairs2: {type(pairs2)} {pairs2}\")"
   ]
  },
  {
   "cell_type": "code",
   "execution_count": 7,
   "metadata": {},
   "outputs": [
    {
     "name": "stdout",
     "output_type": "stream",
     "text": [
      "pairs3: <class 'set'> {('o', '4'), ('a', '2'), ('e', '3'), ('u', '1')}\n"
     ]
    }
   ],
   "source": [
    "pairs = zip(alpha, nums)\n",
    "pairs3 = set(pairs)\n",
    "print(f\"pairs3: {type(pairs3)} {pairs3}\")"
   ]
  },
  {
   "cell_type": "code",
   "execution_count": 8,
   "metadata": {},
   "outputs": [
    {
     "name": "stdout",
     "output_type": "stream",
     "text": [
      "pairs4: <class 'str'> <zip object at 0x765fc0160a00>\n"
     ]
    }
   ],
   "source": [
    "pairs = zip(alpha, nums)\n",
    "pairs4 = str(pairs)  # <zip object at 0x0000000002606688>\n",
    "print(f\"pairs4: {type(pairs4)} {pairs4}\")"
   ]
  },
  {
   "cell_type": "code",
   "execution_count": 9,
   "metadata": {},
   "outputs": [
    {
     "name": "stdout",
     "output_type": "stream",
     "text": [
      "pairs5: <class 'dict'> {'u': '1', 'a': '2', 'e': '3', 'o': '4'}\n"
     ]
    }
   ],
   "source": [
    "pairs = zip(alpha, nums)\n",
    "pairs5 = dict(pairs)\n",
    "print(f\"pairs5: {type(pairs5)} {pairs5}\")"
   ]
  },
  {
   "cell_type": "markdown",
   "metadata": {},
   "source": [
    "## Assignment: similarly, apply on the map and filter"
   ]
  },
  {
   "cell_type": "code",
   "execution_count": 10,
   "metadata": {},
   "outputs": [
    {
     "name": "stdout",
     "output_type": "stream",
     "text": [
      "squared: <class 'map'> <map object at 0x765fc014dc60>\n",
      "1\n",
      "4\n",
      "9\n",
      "16\n",
      "squared_list: <class 'list'> [1, 4, 9, 16]\n",
      "squared_tuple: <class 'tuple'> (1, 4, 9, 16)\n",
      "squared_set: <class 'set'> {16, 1, 4, 9}\n",
      "squared_str: <class 'str'> <map object at 0x765fc014f4f0>\n"
     ]
    }
   ],
   "source": [
    "# Defining a map object \n",
    "nums = [1, 2, 3, 4]\n",
    "squared = map(lambda x: x**2, nums)  # map object\n",
    "\n",
    "print(f\"squared: {type(squared)} {squared}\")\n",
    "\n",
    "# Method 1: Iterate over the object\n",
    "for num in squared:\n",
    "    print(num)  # Outputs 1, 4, 9, 16\n",
    "\n",
    "# Method 2: Convert to other iterables\n",
    "# Re-assign because map objects are disposable\n",
    "squared = map(lambda x: x**2, nums)\n",
    "\n",
    "squared_list = list(squared)\n",
    "print(f\"squared_list: {type(squared_list)} {squared_list}\")\n",
    "\n",
    "squared = map(lambda x: x**2, nums)\n",
    "squared_tuple = tuple(squared)\n",
    "print(f\"squared_tuple: {type(squared_tuple)} {squared_tuple}\")\n",
    "\n",
    "squared = map(lambda x: x**2, nums)\n",
    "squared_set = set(squared)\n",
    "print(f\"squared_set: {type(squared_set)} {squared_set}\")\n",
    "\n",
    "squared = map(lambda x: x**2, nums)\n",
    "squared_str = str(squared)\n",
    "print(f\"squared_str: {type(squared_str)} {squared_str}\")\n"
   ]
  },
  {
   "cell_type": "code",
   "execution_count": 11,
   "metadata": {},
   "outputs": [
    {
     "name": "stdout",
     "output_type": "stream",
     "text": [
      "even_nums: <class 'filter'> <filter object at 0x765fc014f670>\n",
      "2\n",
      "4\n",
      "even_list: <class 'list'> [2, 4]\n",
      "even_tuple: <class 'tuple'> (2, 4)\n",
      "even_set: <class 'set'> {2, 4}\n",
      "even_str: <class 'str'> <filter object at 0x765fc014f670>\n"
     ]
    }
   ],
   "source": [
    "# Defining a filter object\n",
    "nums = [1, 2, 3, 4, 5]\n",
    "even_nums = filter(lambda x: x % 2 == 0, nums)  # filter object\n",
    "\n",
    "print(f\"even_nums: {type(even_nums)} {even_nums}\")\n",
    "\n",
    "# Method 1: Iterate over the object\n",
    "for num in even_nums:\n",
    "    print(num)  # Outputs 2, 4\n",
    "\n",
    "# Method 2: Convert to other iterables\n",
    "# Re-assign because filter objects are disposable\n",
    "even_nums = filter(lambda x: x % 2 == 0, nums)\n",
    "\n",
    "even_list = list(even_nums)\n",
    "print(f\"even_list: {type(even_list)} {even_list}\")\n",
    "\n",
    "even_nums = filter(lambda x: x % 2 == 0, nums)\n",
    "even_tuple = tuple(even_nums)\n",
    "print(f\"even_tuple: {type(even_tuple)} {even_tuple}\")\n",
    "\n",
    "even_nums = filter(lambda x: x % 2 == 0, nums)\n",
    "even_set = set(even_nums)\n",
    "print(f\"even_set: {type(even_set)} {even_set}\")\n",
    "\n",
    "even_nums = filter(lambda x: x % 2 == 0, nums)\n",
    "even_str = str(even_nums)\n",
    "print(f\"even_str: {type(even_str)} {even_str}\")\n"
   ]
  }
 ],
 "metadata": {
  "kernelspec": {
   "display_name": "Python 3",
   "language": "python",
   "name": "python3"
  },
  "language_info": {
   "codemirror_mode": {
    "name": "ipython",
    "version": 3
   },
   "file_extension": ".py",
   "mimetype": "text/x-python",
   "name": "python",
   "nbconvert_exporter": "python",
   "pygments_lexer": "ipython3",
   "version": "3.12.1"
  }
 },
 "nbformat": 4,
 "nbformat_minor": 2
}
