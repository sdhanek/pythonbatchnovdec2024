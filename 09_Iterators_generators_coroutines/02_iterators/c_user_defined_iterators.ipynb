{
 "cells": [
  {
   "cell_type": "markdown",
   "metadata": {},
   "source": [
    "iter() protocol\n",
    "Iterator objects\n",
    "    - iterator is an immutable, disposable and lazy object\n",
    "    - designed for builtin iterable objects\n",
    "    - can't be indexed\n",
    "    - stores the state\n",
    "    - used for large data handling\n",
    "    - values can be retrieved by\n",
    "        - .next() attribute in python 2.x\n",
    "        - next() function in python 3.x\n",
    "        - applying for loop"
   ]
  },
  {
   "cell_type": "code",
   "execution_count": 1,
   "metadata": {},
   "outputs": [
    {
     "name": "stdout",
     "output_type": "stream",
     "text": [
      "alpha       : <class 'list'> ['a', 'e', 'i', 'o', 'u']\n",
      "len(alpha)  : 5\n"
     ]
    }
   ],
   "source": [
    "alpha = [\"a\", \"e\", \"i\", \"o\", \"u\"]\n",
    "print(f\"alpha       : {type(alpha)} {alpha}\")\n",
    "print(f\"len(alpha)  : {len(alpha)}\")"
   ]
  },
  {
   "cell_type": "code",
   "execution_count": 2,
   "metadata": {},
   "outputs": [
    {
     "name": "stdout",
     "output_type": "stream",
     "text": [
      "alpha[2]    : i\n",
      "alpha[2:5]  : ['i', 'o', 'u']\n"
     ]
    }
   ],
   "source": [
    "# Indexing\n",
    "print(f\"alpha[2]    : {alpha[2]}\")\n",
    "\n",
    "# slicing\n",
    "print(f\"alpha[2:5]  : {alpha[2:5]}\")"
   ]
  },
  {
   "cell_type": "code",
   "execution_count": 3,
   "metadata": {},
   "outputs": [
    {
     "name": "stdout",
     "output_type": "stream",
     "text": [
      "alpha_it       : <class 'list_iterator'> <list_iterator object at 0x765de536b6a0>\n"
     ]
    }
   ],
   "source": [
    "# Creating Iterator from a list --> List Iterator\n",
    "alpha_it = iter(alpha)\n",
    "print(f\"alpha_it       : {type(alpha_it)} {alpha_it}\")\n",
    "# len(alpha_it)        # TypeError: object of type 'list_iterator' has no len()\n",
    "# alpha_it[2]          # TypeError: 'list_iterator' object is not subscriptable\n",
    "# alpha_it[2:5]        # TypeError: 'list_iterator' object is not subscriptable\n",
    "# alpha_it.append(12)  # AttributeError: 'list_iterator' object has no attribute 'append'"
   ]
  },
  {
   "cell_type": "code",
   "execution_count": 4,
   "metadata": {},
   "outputs": [
    {
     "name": "stdout",
     "output_type": "stream",
     "text": [
      "a\n",
      "e\n",
      "i\n",
      "o\n",
      "u\n"
     ]
    }
   ],
   "source": [
    "# Method 1: iterate over the object\n",
    "for ech_ele in alpha_it:\n",
    "    print(ech_ele)"
   ]
  },
  {
   "cell_type": "code",
   "execution_count": 5,
   "metadata": {},
   "outputs": [
    {
     "name": "stdout",
     "output_type": "stream",
     "text": [
      "list(alpha_it) []\n"
     ]
    }
   ],
   "source": [
    "# Method 2: Convert to other iterables\n",
    "print(\"list(alpha_it)\", list(alpha_it))"
   ]
  },
  {
   "cell_type": "code",
   "execution_count": 6,
   "metadata": {},
   "outputs": [
    {
     "name": "stdout",
     "output_type": "stream",
     "text": [
      "list(alpha_it) ['a', 'e', 'i', 'o', 'u']\n",
      "tuple(alpha_it) ('a', 'e', 'i', 'o', 'u')\n",
      "set(alpha_it) {'o', 'a', 'e', 'u', 'i'}\n",
      "str(alpha_it) <list_iterator object at 0x765de536b6a0>\n"
     ]
    }
   ],
   "source": [
    "alpha_it = iter(alpha)\n",
    "print(\"list(alpha_it)\", list(alpha_it))\n",
    "\n",
    "alpha_it = iter(alpha)\n",
    "print(\"tuple(alpha_it)\", tuple(alpha_it))\n",
    "\n",
    "alpha_it = iter(alpha)\n",
    "print(\"set(alpha_it)\", set(alpha_it))\n",
    "\n",
    "alpha_it = iter(alpha)\n",
    "print(\"str(alpha_it)\", str(alpha_it))"
   ]
  },
  {
   "cell_type": "code",
   "execution_count": 7,
   "metadata": {},
   "outputs": [
    {
     "name": "stdout",
     "output_type": "stream",
     "text": [
      "<class 'list'> ['a', 'e', 'i', 'o', 'u']\n",
      "<class 'list_iterator'> <list_iterator object at 0x765de536bd90>\n"
     ]
    }
   ],
   "source": [
    "# list to iterator -> list iterator\n",
    "alpha = [\"a\", \"e\", \"i\", \"o\", \"u\"]\n",
    "print(type(alpha), alpha)\n",
    "\n",
    "\n",
    "alpha_it = iter(alpha)\n",
    "print(type(alpha_it), alpha_it)"
   ]
  },
  {
   "cell_type": "code",
   "execution_count": 8,
   "metadata": {},
   "outputs": [
    {
     "name": "stdout",
     "output_type": "stream",
     "text": [
      "<class 'tuple'> ('a', 'e', 'i', 'o', 'u')\n",
      "<class 'tuple_iterator'> <tuple_iterator object at 0x765de536b310>\n"
     ]
    }
   ],
   "source": [
    "# tuple to iterator -> tuple iterator\n",
    "alpha = (\"a\", \"e\", \"i\", \"o\", \"u\")\n",
    "print(type(alpha), alpha)\n",
    "\n",
    "alpha_it = iter(alpha)\n",
    "print(type(alpha_it), alpha_it)"
   ]
  },
  {
   "cell_type": "code",
   "execution_count": 9,
   "metadata": {},
   "outputs": [
    {
     "name": "stdout",
     "output_type": "stream",
     "text": [
      "<class 'set'> {'a', 'e', 'u', 'o', 'i'}\n",
      "<class 'set_iterator'> <set_iterator object at 0x765de5373280>\n"
     ]
    }
   ],
   "source": [
    "# set to iterator -> set iterator\n",
    "alpha = {\"a\", \"e\", \"i\", \"o\", \"u\"}\n",
    "print(type(alpha), alpha)\n",
    "\n",
    "alpha_it = iter(alpha)\n",
    "print(type(alpha_it), alpha_it)  # set_iterator"
   ]
  },
  {
   "cell_type": "code",
   "execution_count": 11,
   "metadata": {},
   "outputs": [
    {
     "name": "stdout",
     "output_type": "stream",
     "text": [
      "<class 'dict'> {'a': 1, 'e': 2, 'i': 3, 'o': 4}\n",
      "<class 'dict_keyiterator'> <dict_keyiterator object at 0x765de5d33d80>\n"
     ]
    }
   ],
   "source": [
    "alpha = {\"a\": 1, \"e\": 2, \"i\": 3, \"o\": 4}\n",
    "print(type(alpha), alpha)\n",
    "\n",
    "alpha_it = iter(alpha)\n",
    "print(type(alpha_it), alpha_it) "
   ]
  },
  {
   "cell_type": "code",
   "execution_count": 12,
   "metadata": {},
   "outputs": [
    {
     "name": "stdout",
     "output_type": "stream",
     "text": [
      "<class 'dict_keyiterator'> <dict_keyiterator object at 0x765de5d32020>\n",
      "<class 'dict_valueiterator'> <dict_valueiterator object at 0x765de5d33d80>\n",
      "<class 'dict_itemiterator'> <dict_itemiterator object at 0x765de5d32020>\n"
     ]
    }
   ],
   "source": [
    "alpha_it = iter(alpha.keys())\n",
    "print(type(alpha_it), alpha_it)  # dict_keyiterator\n",
    "\n",
    "alpha_it = iter(alpha.values())\n",
    "print(type(alpha_it), alpha_it)  # dict_valueiterator\n",
    "\n",
    "alpha_it = iter(alpha.items())\n",
    "print(type(alpha_it), alpha_it)  # dict_itemiterator"
   ]
  },
  {
   "cell_type": "code",
   "execution_count": 13,
   "metadata": {},
   "outputs": [
    {
     "name": "stdout",
     "output_type": "stream",
     "text": [
      "<class 'str_ascii_iterator'> <str_ascii_iterator object at 0x765de536b340>\n"
     ]
    }
   ],
   "source": [
    "language = \"python\"\n",
    "language_it = iter(language)\n",
    "print(type(language_it), language_it)  # str_iterator"
   ]
  },
  {
   "cell_type": "code",
   "execution_count": 14,
   "metadata": {},
   "outputs": [
    {
     "name": "stdout",
     "output_type": "stream",
     "text": [
      "value foo\n",
      "value bar\n",
      "value baz\n"
     ]
    }
   ],
   "source": [
    "a = [\"foo\", \"bar\", \"baz\"]\n",
    "\n",
    "itr = iter(a)\n",
    "for value in itr:\n",
    "    print(\"value\", value)"
   ]
  },
  {
   "cell_type": "code",
   "execution_count": 15,
   "metadata": {},
   "outputs": [
    {
     "data": {
      "text/plain": [
       "<list_iterator at 0x765de536b310>"
      ]
     },
     "execution_count": 15,
     "metadata": {},
     "output_type": "execute_result"
    }
   ],
   "source": [
    "itr"
   ]
  },
  {
   "cell_type": "code",
   "execution_count": 16,
   "metadata": {},
   "outputs": [
    {
     "data": {
      "text/plain": [
       "[]"
      ]
     },
     "execution_count": 16,
     "metadata": {},
     "output_type": "execute_result"
    }
   ],
   "source": [
    "list(itr)"
   ]
  },
  {
   "cell_type": "code",
   "execution_count": 17,
   "metadata": {},
   "outputs": [
    {
     "name": "stdout",
     "output_type": "stream",
     "text": [
      "\n",
      " <list_iterator object at 0x765de53a01f0>\n"
     ]
    }
   ],
   "source": [
    "itr = iter(a)\n",
    "print(\"\\n\", itr)"
   ]
  },
  {
   "cell_type": "code",
   "execution_count": 18,
   "metadata": {},
   "outputs": [
    {
     "name": "stdout",
     "output_type": "stream",
     "text": [
      "\n",
      "itr.__next__() foo\n",
      "next(itr)      bar\n",
      "next(itr)      baz\n"
     ]
    }
   ],
   "source": [
    "print(\"\\nitr.__next__()\", itr.__next__())\n",
    "print(\"next(itr)     \", next(itr))\n",
    "print(\"next(itr)     \", next(itr))"
   ]
  },
  {
   "cell_type": "code",
   "execution_count": 19,
   "metadata": {},
   "outputs": [
    {
     "name": "stdout",
     "output_type": "stream",
     "text": [
      "StopIteration()\n"
     ]
    }
   ],
   "source": [
    "try:\n",
    "    print(\"next(itr)     \", next(itr))\n",
    "except StopIteration as ex:\n",
    "    print(repr(ex))"
   ]
  },
  {
   "cell_type": "code",
   "execution_count": 20,
   "metadata": {},
   "outputs": [
    {
     "name": "stdout",
     "output_type": "stream",
     "text": [
      "\n",
      "Reassigning\n",
      "next(itr)      foo\n",
      "next(itr)      bar\n",
      "next(itr)      baz\n",
      "StopIteration()\n"
     ]
    }
   ],
   "source": [
    "print(\"\\nReassigning\")\n",
    "\n",
    "itr = iter(a)\n",
    "while True:\n",
    "    try:\n",
    "        print(\"next(itr)     \", next(itr))\n",
    "    except StopIteration as ex:\n",
    "        print(repr(ex))\n",
    "        break"
   ]
  }
 ],
 "metadata": {
  "kernelspec": {
   "display_name": "Python 3",
   "language": "python",
   "name": "python3"
  },
  "language_info": {
   "codemirror_mode": {
    "name": "ipython",
    "version": 3
   },
   "file_extension": ".py",
   "mimetype": "text/x-python",
   "name": "python",
   "nbconvert_exporter": "python",
   "pygments_lexer": "ipython3",
   "version": "3.12.1"
  }
 },
 "nbformat": 4,
 "nbformat_minor": 2
}
