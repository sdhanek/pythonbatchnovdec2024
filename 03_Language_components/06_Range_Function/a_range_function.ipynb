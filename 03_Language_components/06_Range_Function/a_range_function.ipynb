{
 "cells": [
  {
   "cell_type": "markdown",
   "metadata": {},
   "source": []
  },
  {
   "cell_type": "markdown",
   "metadata": {},
   "source": [
    " built-in function\n",
    "- Used for sequence generation\n",
    "- SYNTAX\n",
    "    range(INITIAL_VALUE, FINAL_VALUE, STEP)\n",
    "- Defaults\n",
    "    INITIAL_VALUE = 0\n",
    "    STEP = +1\n",
    "- FINAL_VALUE is mandatory\n",
    "- To get the values,\n",
    "    - either convert to any iterable -list, tuple or set\n",
    "    - or, for loop over that object\n",
    "- Lazy Loading Object"
   ]
  },
  {
   "cell_type": "code",
   "execution_count": 1,
   "metadata": {},
   "outputs": [
    {
     "name": "stdout",
     "output_type": "stream",
     "text": [
      "\u001b[0;31mInit signature:\u001b[0m \u001b[0mrange\u001b[0m\u001b[0;34m(\u001b[0m\u001b[0mself\u001b[0m\u001b[0;34m,\u001b[0m \u001b[0;34m/\u001b[0m\u001b[0;34m,\u001b[0m \u001b[0;34m*\u001b[0m\u001b[0margs\u001b[0m\u001b[0;34m,\u001b[0m \u001b[0;34m**\u001b[0m\u001b[0mkwargs\u001b[0m\u001b[0;34m)\u001b[0m\u001b[0;34m\u001b[0m\u001b[0;34m\u001b[0m\u001b[0m\n",
      "\u001b[0;31mDocstring:\u001b[0m     \n",
      "range(stop) -> range object\n",
      "range(start, stop[, step]) -> range object\n",
      "\n",
      "Return an object that produces a sequence of integers from start (inclusive)\n",
      "to stop (exclusive) by step.  range(i, j) produces i, i+1, i+2, ..., j-1.\n",
      "start defaults to 0, and stop is omitted!  range(4) produces 0, 1, 2, 3.\n",
      "These are exactly the valid indices for a list of 4 elements.\n",
      "When step is given, it specifies the increment (or decrement).\n",
      "\u001b[0;31mType:\u001b[0m           type\n",
      "\u001b[0;31mSubclasses:\u001b[0m     "
     ]
    }
   ],
   "source": [
    "range?"
   ]
  },
  {
   "cell_type": "code",
   "execution_count": 2,
   "metadata": {},
   "outputs": [
    {
     "data": {
      "text/plain": [
       "range(0, 9)"
      ]
     },
     "execution_count": 2,
     "metadata": {},
     "output_type": "execute_result"
    }
   ],
   "source": [
    "range(9)"
   ]
  },
  {
   "cell_type": "code",
   "execution_count": 3,
   "metadata": {},
   "outputs": [
    {
     "name": "stdout",
     "output_type": "stream",
     "text": [
      "<class 'range'> range(0, 9)\n"
     ]
    }
   ],
   "source": [
    "values = range(9)  # range(FINAL_VALUE) => range(0, 9, 1)\n",
    "print(type(values), values)  # <class 'range'> range(0, 9)"
   ]
  },
  {
   "cell_type": "code",
   "execution_count": 4,
   "metadata": {},
   "outputs": [
    {
     "name": "stdout",
     "output_type": "stream",
     "text": [
      "<class 'range'> range(0, 9)\n"
     ]
    }
   ],
   "source": [
    "# range(INITIAL_VALUE, FINAL_VALUE) => range(0, 9, 1)\n",
    "values = range(0, 9)\n",
    "print(type(values), values)  # <class 'range'> range(0,9)"
   ]
  },
  {
   "cell_type": "code",
   "execution_count": 5,
   "metadata": {},
   "outputs": [
    {
     "name": "stdout",
     "output_type": "stream",
     "text": [
      "<class 'range'> range(0, 9)\n"
     ]
    }
   ],
   "source": [
    "# range(INITIAL_VALUE, FINAL_VALUE, STEP) => range(0, 9, 1)\n",
    "values = range(0, 9, 1)\n",
    "print(type(values), values)  # <class 'range'> range(0,9)"
   ]
  },
  {
   "cell_type": "code",
   "execution_count": 6,
   "metadata": {},
   "outputs": [],
   "source": [
    "# Question: range vs xrange\n",
    "\n",
    "# In python2, range will result in a list and xrange is optimized object \n",
    "# In python3, xrange of python2 was renamed as range"
   ]
  },
  {
   "cell_type": "code",
   "execution_count": 7,
   "metadata": {},
   "outputs": [
    {
     "name": "stdout",
     "output_type": "stream",
     "text": [
      "0\n",
      "1\n",
      "2\n",
      "3\n",
      "4\n",
      "5\n",
      "6\n",
      "7\n",
      "8\n"
     ]
    }
   ],
   "source": [
    "for each_ele in values:\n",
    "    print(each_ele)"
   ]
  },
  {
   "cell_type": "code",
   "execution_count": 8,
   "metadata": {},
   "outputs": [
    {
     "name": "stdout",
     "output_type": "stream",
     "text": [
      "list(values)  =[0, 1, 2, 3, 4, 5, 6, 7, 8]\n",
      "tuple(values) =(0, 1, 2, 3, 4, 5, 6, 7, 8)\n",
      "set(values)   ={0, 1, 2, 3, 4, 5, 6, 7, 8}\n"
     ]
    }
   ],
   "source": [
    "print(f\"{list(values)  =}\")\n",
    "print(f\"{tuple(values) =}\")\n",
    "print(f\"{set(values)   =}\")"
   ]
  },
  {
   "cell_type": "code",
   "execution_count": 9,
   "metadata": {},
   "outputs": [
    {
     "name": "stdout",
     "output_type": "stream",
     "text": [
      "[0, 2, 4, 6, 8]\n"
     ]
    }
   ],
   "source": [
    "values2 = range(0, 9, 2)\n",
    "print(list(values2))  #  [0, 2, 4, 6, 8]"
   ]
  },
  {
   "cell_type": "code",
   "execution_count": 10,
   "metadata": {},
   "outputs": [
    {
     "name": "stdout",
     "output_type": "stream",
     "text": [
      "[]\n"
     ]
    }
   ],
   "source": [
    "values2 = range(0, 9, -1)\n",
    "print(list(values2))  # []"
   ]
  },
  {
   "cell_type": "code",
   "execution_count": null,
   "metadata": {},
   "outputs": [],
   "source": [
    "values2 = range(9, -1, -3)\n",
    "print(list(values2))  # [9, 6, 3, 0]"
   ]
  },
  {
   "cell_type": "code",
   "execution_count": 11,
   "metadata": {},
   "outputs": [],
   "source": [
    "# Question\n",
    "# values2 = range(9, -1, -3.0)\n",
    "# TypeError: 'float' object cannot be interpreted as an integer\n",
    "\n",
    "# values2 = range(9.5, -1.5, -3)\n",
    "# TypeError: 'float' object cannot be interpreted as an integer\n",
    "\n",
    "# values2 = range(9.5, -1.5, -3.0)\n",
    "# TypeError: 'float' object cannot be interpreted as an integer"
   ]
  }
 ],
 "metadata": {
  "kernelspec": {
   "display_name": "Python 3",
   "language": "python",
   "name": "python3"
  },
  "language_info": {
   "codemirror_mode": {
    "name": "ipython",
    "version": 3
   },
   "file_extension": ".py",
   "mimetype": "text/x-python",
   "name": "python",
   "nbconvert_exporter": "python",
   "pygments_lexer": "ipython3",
   "version": "3.12.1"
  }
 },
 "nbformat": 4,
 "nbformat_minor": 2
}
