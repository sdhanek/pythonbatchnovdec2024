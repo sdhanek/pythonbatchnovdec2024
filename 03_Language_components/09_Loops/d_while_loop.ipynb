{
 "cells": [
  {
   "cell_type": "markdown",
   "metadata": {},
   "source": [
    "hile loop\n",
    "SYNTAX:\n",
    "    initialization\n",
    "    while loop_condition\n",
    "        logic\n",
    "        increment/decrement\n",
    "\n",
    "NOTE: i++, i--, --i, ++i (unary operations) are not supported in python"
   ]
  },
  {
   "cell_type": "code",
   "execution_count": 1,
   "metadata": {},
   "outputs": [
    {
     "name": "stdout",
     "output_type": "stream",
     "text": [
      "\n",
      "incrementing loop with increment first\n",
      "1 2 3 4 5 "
     ]
    }
   ],
   "source": [
    "print(\"\\nincrementing loop with increment first\")\n",
    "\n",
    "i = 0                   # initialization\n",
    "while i < 5:            # condition\n",
    "    i += 1              # increment/decrement\n",
    "    print(i, end=\" \")   # Logic"
   ]
  },
  {
   "cell_type": "code",
   "execution_count": 2,
   "metadata": {},
   "outputs": [
    {
     "name": "stdout",
     "output_type": "stream",
     "text": [
      "\n",
      "incrementing loop with increment last\n",
      "0 1 2 3 4 "
     ]
    }
   ],
   "source": [
    "print(\"\\nincrementing loop with increment last\")\n",
    "\n",
    "i = 0                   # initialization\n",
    "while i < 5:            # condition - less than\n",
    "    print(i, end=\" \")   # logic\n",
    "    i += 1              # increment/decrement"
   ]
  },
  {
   "cell_type": "code",
   "execution_count": 3,
   "metadata": {},
   "outputs": [
    {
     "name": "stdout",
     "output_type": "stream",
     "text": [
      "0 1 2 3 4 5 "
     ]
    }
   ],
   "source": [
    "i = 0                   # initialization\n",
    "while i <= 5:           # condition - less than or equal\n",
    "    print(i, end=\" \")   # logic\n",
    "    i += 1              # increment/decrement"
   ]
  },
  {
   "cell_type": "code",
   "execution_count": 4,
   "metadata": {},
   "outputs": [
    {
     "name": "stdout",
     "output_type": "stream",
     "text": [
      "\n",
      "\n",
      "decrementing loop with decrement first\n",
      "4 3 2 1 0 "
     ]
    }
   ],
   "source": [
    "print(\"\\n\\ndecrementing loop with decrement first\")\n",
    "j = 5                   # initialization\n",
    "while j > 0:            # condition - greater than\n",
    "    j -= 1              # decrement\n",
    "    print(j, end=\" \")"
   ]
  },
  {
   "cell_type": "code",
   "execution_count": 5,
   "metadata": {},
   "outputs": [],
   "source": [
    "j = 0                   # initialization\n",
    "while j > 0:            # condition - greater than\n",
    "    j -= 1              # decrement\n",
    "    print(j, end=\" \")\n",
    "\n",
    "# NOTE: NOT EVEN INTERING THE LOOP. as comdition is not satisfied"
   ]
  },
  {
   "cell_type": "code",
   "execution_count": 6,
   "metadata": {},
   "outputs": [
    {
     "name": "stdout",
     "output_type": "stream",
     "text": [
      "4 3 2 1 0 "
     ]
    }
   ],
   "source": [
    "j = 5                   # initialization\n",
    "while j > 0:            # condition - greater than\n",
    "    j -= 1              # increment\n",
    "    print(j, end=\" \")"
   ]
  }
 ],
 "metadata": {
  "kernelspec": {
   "display_name": "Python 3",
   "language": "python",
   "name": "python3"
  },
  "language_info": {
   "codemirror_mode": {
    "name": "ipython",
    "version": 3
   },
   "file_extension": ".py",
   "mimetype": "text/x-python",
   "name": "python",
   "nbconvert_exporter": "python",
   "pygments_lexer": "ipython3",
   "version": "3.12.1"
  }
 },
 "nbformat": 4,
 "nbformat_minor": 2
}
