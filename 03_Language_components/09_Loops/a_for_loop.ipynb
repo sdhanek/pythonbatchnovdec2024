{
 "cells": [
  {
   "cell_type": "markdown",
   "metadata": {},
   "source": [
    "for loop\n",
    "Two types of for loops in any language:\n",
    "    1. for (int a = 0; a < 10 ; a ++)       ==> This is NOT VALID in python\n",
    "    2. for a in range(0, 10, 1)             ==> This is the only valid for loop in python\n",
    "\n",
    "NOTE: for loop can be applied only on ITERABLE OBJECT\n",
    "    non-iterable objects - int, float, None, bool(True/False)\n",
    "    iterable objects     - string, range, list, tuple, set, dictionary, iterators, generators"
   ]
  },
  {
   "cell_type": "code",
   "execution_count": null,
   "metadata": {},
   "outputs": [],
   "source": [
    "# int\n",
    "# for i in 12123:\n",
    "#     print(i)\n",
    "# TypeError: 'int' object is not iterable\n",
    "\n",
    "# float\n",
    "# for i in 1213213.123:\n",
    "#     print(i)\n",
    "# TypeError: 'float' object is not iterable\n",
    "\n",
    "# None\n",
    "# for i in None:\n",
    "#     print(i)\n",
    "# TypeError: 'NoneType' object is not iterable\n",
    "\n",
    "# bool - True/False\n",
    "# for i in False:\n",
    "#     print(i)\n",
    "# TypeError: 'bool' object is not iterable"
   ]
  },
  {
   "cell_type": "code",
   "execution_count": 1,
   "metadata": {},
   "outputs": [
    {
     "name": "stdout",
     "output_type": "stream",
     "text": [
      "P, y, t, h, o, n, \n",
      "1 2 3 2 3 2 3 3 \n",
      "1, 2, 3, 1, ., 1, 2, 3, \n",
      "T, r, u, e, \n",
      "N, o, n, e, "
     ]
    }
   ],
   "source": [
    "# strings\n",
    "for i in \"Python\":\n",
    "    # print(i, end='\\n')\n",
    "    print(i, end=\", \")\n",
    "print()\n",
    "\n",
    "for ch in \"12323233\":\n",
    "    print(ch, end=\" \")\n",
    "print()\n",
    "\n",
    "for each in str(1231.123):\n",
    "    print(each, end=\", \")\n",
    "print()\n",
    "\n",
    "for each in str(True):\n",
    "    print(each, end=\", \")\n",
    "print()\n",
    "\n",
    "for each in \"None\":\n",
    "    print(each, end=\", \")"
   ]
  },
  {
   "cell_type": "code",
   "execution_count": 2,
   "metadata": {},
   "outputs": [
    {
     "name": "stdout",
     "output_type": "stream",
     "text": [
      "0 P\n",
      "1 y\n",
      "2 t\n",
      "3 h\n",
      "4 o\n",
      "5 n\n"
     ]
    }
   ],
   "source": [
    "loop_count = 0\n",
    "for each_chr in \"Python\":\n",
    "    print(loop_count, each_chr)\n",
    "    loop_count += 1"
   ]
  },
  {
   "cell_type": "code",
   "execution_count": 3,
   "metadata": {},
   "outputs": [
    {
     "name": "stdout",
     "output_type": "stream",
     "text": [
      "P\n",
      "y\n",
      "t\n",
      "h\n",
      "o\n",
      "n\n",
      "(0, 'P') <class 'tuple'>\n",
      "(1, 'y') <class 'tuple'>\n",
      "(2, 't') <class 'tuple'>\n",
      "(3, 'h') <class 'tuple'>\n",
      "(4, 'o') <class 'tuple'>\n",
      "(5, 'n') <class 'tuple'>\n"
     ]
    }
   ],
   "source": [
    "# enumerate() - builtin function to get the loop index\n",
    "for each_chr in \"Python\":\n",
    "    print(each_chr)\n",
    "\n",
    "for each_pair in enumerate(\"Python\"):\n",
    "    print(each_pair, type(each_pair))"
   ]
  },
  {
   "cell_type": "code",
   "execution_count": 4,
   "metadata": {},
   "outputs": [
    {
     "name": "stdout",
     "output_type": "stream",
     "text": [
      "\n",
      "    type(num1) = <class 'tuple'> num1 = (222, 333)\n",
      "    type(num2) = <class 'int'> num2 = 222\n",
      "    type(num3) = <class 'int'> num3 = 333\n",
      "\n"
     ]
    }
   ],
   "source": [
    "# unpacking\n",
    "num1 = 222, 333  # Asignment operation\n",
    "num2, num3 = 222, 333  # UNpacking\n",
    "\n",
    "print(\n",
    "    f\"\"\"\n",
    "    {type(num1) = } {num1 = }\n",
    "    {type(num2) = } {num2 = }\n",
    "    {type(num3) = } {num3 = }\n",
    "\"\"\"\n",
    ")"
   ]
  },
  {
   "cell_type": "code",
   "execution_count": 5,
   "metadata": {},
   "outputs": [
    {
     "name": "stdout",
     "output_type": "stream",
     "text": [
      "(0, 'P') <class 'tuple'>\n",
      "(1, 'y') <class 'tuple'>\n",
      "(2, 't') <class 'tuple'>\n",
      "(3, 'h') <class 'tuple'>\n",
      "(4, 'o') <class 'tuple'>\n",
      "(5, 'n') <class 'tuple'>\n"
     ]
    }
   ],
   "source": [
    "for each_pair in enumerate(\"Python\"):\n",
    "    print(each_pair, type(each_pair))"
   ]
  },
  {
   "cell_type": "code",
   "execution_count": 6,
   "metadata": {},
   "outputs": [
    {
     "name": "stdout",
     "output_type": "stream",
     "text": [
      "At position 0, character is P\n",
      "At position 1, character is y\n",
      "At position 2, character is t\n",
      "At position 3, character is h\n",
      "At position 4, character is o\n",
      "At position 5, character is n\n"
     ]
    }
   ],
   "source": [
    "for loop_index, each_chr in enumerate(\"Python\"):\n",
    "    # print(loop_index, each_chr)\n",
    "    print(f\"At position {loop_index}, character is {each_chr}\")"
   ]
  },
  {
   "cell_type": "code",
   "execution_count": 7,
   "metadata": {},
   "outputs": [
    {
     "name": "stdout",
     "output_type": "stream",
     "text": [
      "Index: 0, Value: 0\n",
      "Index: 1, Value: 1\n",
      "Index: 2, Value: 2\n",
      "Index: 3, Value: 3\n",
      "Index: 4, Value: 4\n"
     ]
    }
   ],
   "source": [
    "# Assignment: perform for loop & Enumeration on range() object\n",
    "for index, value in enumerate(range(5)):\n",
    "    print(f\"Index: {index}, Value: {value}\")"
   ]
  },
  {
   "cell_type": "code",
   "execution_count": 8,
   "metadata": {},
   "outputs": [
    {
     "name": "stdout",
     "output_type": "stream",
     "text": [
      "Value: 0\n",
      "Value: 1\n",
      "Value: 2\n",
      "Value: 3\n",
      "Value: 4\n"
     ]
    }
   ],
   "source": [
    "for value in range(5):\n",
    "    print(f\"Value: {value}\")"
   ]
  }
 ],
 "metadata": {
  "kernelspec": {
   "display_name": "Python 3",
   "language": "python",
   "name": "python3"
  },
  "language_info": {
   "codemirror_mode": {
    "name": "ipython",
    "version": 3
   },
   "file_extension": ".py",
   "mimetype": "text/x-python",
   "name": "python",
   "nbconvert_exporter": "python",
   "pygments_lexer": "ipython3",
   "version": "3.12.1"
  }
 },
 "nbformat": 4,
 "nbformat_minor": 2
}
