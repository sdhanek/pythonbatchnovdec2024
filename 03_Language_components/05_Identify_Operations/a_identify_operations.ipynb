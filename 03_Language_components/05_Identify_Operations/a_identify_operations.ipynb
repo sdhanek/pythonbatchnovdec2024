{
 "cells": [
  {
   "cell_type": "markdown",
   "metadata": {},
   "source": [
    "Identity Operations\n",
    "Object\n",
    "    - value(s)\n",
    "    - type(s)\n",
    "    - address location where it is stored - id()\n",
    "\n",
    "\n",
    "=  Assignment operator\n",
    "\n",
    "== Value-level Equivalence  -  ( value and type) check\n",
    "is object-level Equivalence - (address location, value and type) check"
   ]
  },
  {
   "cell_type": "code",
   "execution_count": 1,
   "metadata": {},
   "outputs": [
    {
     "data": {
      "text/plain": [
       "True"
      ]
     },
     "execution_count": 1,
     "metadata": {},
     "output_type": "execute_result"
    }
   ],
   "source": [
    "4 == 4"
   ]
  },
  {
   "cell_type": "code",
   "execution_count": 2,
   "metadata": {},
   "outputs": [
    {
     "data": {
      "text/plain": [
       "True"
      ]
     },
     "execution_count": 2,
     "metadata": {},
     "output_type": "execute_result"
    }
   ],
   "source": [
    "'4' == '4'"
   ]
  },
  {
   "cell_type": "code",
   "execution_count": 3,
   "metadata": {},
   "outputs": [
    {
     "data": {
      "text/plain": [
       "False"
      ]
     },
     "execution_count": 3,
     "metadata": {},
     "output_type": "execute_result"
    }
   ],
   "source": [
    "4 == '4'"
   ]
  },
  {
   "cell_type": "code",
   "execution_count": 5,
   "metadata": {},
   "outputs": [],
   "source": [
    "num1 = 100\n",
    "num2 = 200"
   ]
  },
  {
   "cell_type": "code",
   "execution_count": 6,
   "metadata": {},
   "outputs": [
    {
     "name": "stdout",
     "output_type": "stream",
     "text": [
      "num1 == num2 = False\n",
      "num1 is num2 = False\n",
      "id(num1) = 107082489795592 \t id(num2) =107082489798792\n"
     ]
    }
   ],
   "source": [
    "print(f\"{num1 == num2 = }\")\n",
    "print(f\"{num1 is num2 = }\")\n",
    "print(f\"{id(num1) = } \\t {id(num2) =}\")"
   ]
  },
  {
   "cell_type": "code",
   "execution_count": 7,
   "metadata": {},
   "outputs": [],
   "source": [
    "num1 = 200"
   ]
  },
  {
   "cell_type": "code",
   "execution_count": 8,
   "metadata": {},
   "outputs": [
    {
     "data": {
      "text/plain": [
       "200"
      ]
     },
     "execution_count": 8,
     "metadata": {},
     "output_type": "execute_result"
    }
   ],
   "source": [
    "num1"
   ]
  },
  {
   "cell_type": "code",
   "execution_count": 10,
   "metadata": {},
   "outputs": [
    {
     "data": {
      "text/plain": [
       "200"
      ]
     },
     "execution_count": 10,
     "metadata": {},
     "output_type": "execute_result"
    }
   ],
   "source": [
    "num2"
   ]
  },
  {
   "cell_type": "code",
   "execution_count": 11,
   "metadata": {},
   "outputs": [
    {
     "name": "stdout",
     "output_type": "stream",
     "text": [
      "num1 = 200\n",
      "num2 = 200\n",
      "num1 == num2 = True\n",
      "num1 is num2 = True\n",
      "id(num1) = 107082489798792 \t id(num2) =107082489798792\n"
     ]
    }
   ],
   "source": [
    "print(f\"{num1 = }\")\n",
    "print(f\"{num2 = }\")\n",
    "print(f\"{num1 == num2 = }\")\n",
    "print(f\"{num1 is num2 = }\")\n",
    "print(f\"{id(num1) = } \\t {id(num2) =}\")"
   ]
  },
  {
   "cell_type": "code",
   "execution_count": 12,
   "metadata": {},
   "outputs": [
    {
     "name": "stdout",
     "output_type": "stream",
     "text": [
      "num3 =[1, 2, 3] \t num4 =[1, 2, 3]\n",
      "num3 == num4 = True\n",
      "num3 is num4 = False\n",
      "id(num3) = 124286429499584 \t id(num4) =124286429596800\n"
     ]
    }
   ],
   "source": [
    "num3 = [1, 2, 3] # mutable\n",
    "num4 = [1, 2, 3]\n",
    "print(f\"{num3 =} \\t {num4 =}\")\n",
    "print(f\"{num3 == num4 = }\")\n",
    "print(f\"{num3 is num4 = }\")\n",
    "print(f\"{id(num3) = } \\t {id(num4) =}\")"
   ]
  },
  {
   "cell_type": "code",
   "execution_count": 13,
   "metadata": {},
   "outputs": [
    {
     "name": "stdout",
     "output_type": "stream",
     "text": [
      "num3 =(1, 2, 3) \t num4 =(1, 2, 3)\n",
      "num3 == num4 = True\n",
      "num3 is num4 = False\n",
      "id(num3) = 124286453171712 \t id(num4) =124286429603520\n"
     ]
    }
   ],
   "source": [
    "num3 = (1, 2, 3)  # immutable\n",
    "num4 = (1, 2, 3)\n",
    "print(f\"{num3 =} \\t {num4 =}\")\n",
    "print(f\"{num3 == num4 = }\")\n",
    "print(f\"{num3 is num4 = }\")\n",
    "print(f\"{id(num3) = } \\t {id(num4) =}\")"
   ]
  },
  {
   "cell_type": "markdown",
   "metadata": {},
   "source": [
    "Dual Memory management Strategy\n",
    "In Interactive mode,\n",
    "    For integer,\n",
    "        -5 to 256      -> no new object created\n",
    "        outside bounds -> new object is created for each variable\n",
    "Python preallocates small integers in a range of -5 to 256.\n",
    "This allocation happens during initialization and since we cannot update integers (immutability) these preallocated integers are singletons and are directly referenced instead of reallocating.\n",
    "This means every time we use/creates a small integer, python instead of reallocating just returns the reference of preallocated one."
   ]
  },
  {
   "cell_type": "code",
   "execution_count": 14,
   "metadata": {},
   "outputs": [],
   "source": [
    "num1 = 255\n",
    "num2 = 255"
   ]
  },
  {
   "cell_type": "code",
   "execution_count": 15,
   "metadata": {},
   "outputs": [
    {
     "data": {
      "text/plain": [
       "True"
      ]
     },
     "execution_count": 15,
     "metadata": {},
     "output_type": "execute_result"
    }
   ],
   "source": [
    "num1 is num2"
   ]
  },
  {
   "cell_type": "code",
   "execution_count": 16,
   "metadata": {},
   "outputs": [],
   "source": [
    "num1 =257\n",
    "num2 =257"
   ]
  },
  {
   "cell_type": "code",
   "execution_count": 17,
   "metadata": {},
   "outputs": [
    {
     "data": {
      "text/plain": [
       "False"
      ]
     },
     "execution_count": 17,
     "metadata": {},
     "output_type": "execute_result"
    }
   ],
   "source": [
    "num1 is num2 # breakway"
   ]
  }
 ],
 "metadata": {
  "kernelspec": {
   "display_name": "Python 3",
   "language": "python",
   "name": "python3"
  },
  "language_info": {
   "codemirror_mode": {
    "name": "ipython",
    "version": 3
   },
   "file_extension": ".py",
   "mimetype": "text/x-python",
   "name": "python",
   "nbconvert_exporter": "python",
   "pygments_lexer": "ipython3",
   "version": "3.12.1"
  }
 },
 "nbformat": 4,
 "nbformat_minor": 2
}
