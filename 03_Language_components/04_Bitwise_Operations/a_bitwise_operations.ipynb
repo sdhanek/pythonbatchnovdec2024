{
 "cells": [
  {
   "cell_type": "markdown",
   "metadata": {},
   "source": [
    "Bitwise Operations "
   ]
  },
  {
   "cell_type": "markdown",
   "metadata": {},
   "source": [
    "&   binary AND    -> If all are 1, result is 1\n",
    "|   binary OR     -> If all are 0, only then result is 0\n",
    "^   binary XOR    -> If total count of 1's are odd, it results in 1, else 0\n",
    "~   binary 1's complement\n",
    "<<  binary Left Shift\n",
    ">>  binary right shift\n",
    "\n",
    "\n",
    "\n",
    "    126 64 32 16  8 4  2  1\n",
    "60 -   0  0  1  1  1 1  0  0\n",
    "13 -   0  0  0  0  1 1  0  1\n",
    "----------------------------\n",
    "&  -   0  0  0  0  1 1  0  0 = (8 * 1 + 4 * 1) = 12\n",
    "|  -   0  0  1  1  1 1  0  1 = (32 + 16 + 8 + 4 + 1) = 61\n",
    "^  -   0  0  1  1  0 0  0  1 = (32 + 16 + 1) = 49"
   ]
  },
  {
   "cell_type": "code",
   "execution_count": 1,
   "metadata": {},
   "outputs": [
    {
     "name": "stdout",
     "output_type": "stream",
     "text": [
      "num1= 60 0b111100\n",
      "num2= 13 0b1101\n"
     ]
    }
   ],
   "source": [
    "num1 = 60\n",
    "num2 = 13\n",
    "\n",
    "print(\"num1=\", num1, bin(num1))  # 0b111100\n",
    "print(\"num2=\", num2, bin(num2))  # 0b1101"
   ]
  },
  {
   "cell_type": "code",
   "execution_count": 3,
   "metadata": {},
   "outputs": [
    {
     "name": "stdout",
     "output_type": "stream",
     "text": [
      "Line 1 - Value of num3 is  12\n"
     ]
    }
   ],
   "source": [
    "\n",
    "\n",
    "num3 = num1 & num2  # 12 = 0000 1100\n",
    "print(\"Line 1 - Value of num3 is \", num3)"
   ]
  },
  {
   "cell_type": "code",
   "execution_count": null,
   "metadata": {},
   "outputs": [],
   "source": []
  },
  {
   "cell_type": "code",
   "execution_count": 4,
   "metadata": {},
   "outputs": [
    {
     "name": "stdout",
     "output_type": "stream",
     "text": [
      "Line 2 - Value of num3 is  61\n"
     ]
    }
   ],
   "source": [
    "num3 = num1 | num2  # 61 = 0011 1101\n",
    "print(\"Line 2 - Value of num3 is \", num3)"
   ]
  },
  {
   "cell_type": "code",
   "execution_count": 5,
   "metadata": {},
   "outputs": [
    {
     "name": "stdout",
     "output_type": "stream",
     "text": [
      "Line 4 - Value of num3 is  -61\n"
     ]
    }
   ],
   "source": [
    "# Assignment \n",
    "num3 = ~num1  # -61 = 1100 0011\n",
    "print(\"Line 4 - Value of num3 is \", num3)"
   ]
  },
  {
   "cell_type": "code",
   "execution_count": 6,
   "metadata": {},
   "outputs": [
    {
     "name": "stdout",
     "output_type": "stream",
     "text": [
      "Line 5 - Value of num3 is  240\n",
      "Line 6 - Value of num3 is  15\n"
     ]
    }
   ],
   "source": [
    "num3 = num1 << 2  # 240 = 1111 0000\n",
    "print(\"Line 5 - Value of num3 is \", num3)\n",
    "\n",
    "num3 = num1 >> 2  # 15 = 0000 1111\n",
    "print(\"Line 6 - Value of num3 is \", num3)"
   ]
  },
  {
   "cell_type": "code",
   "execution_count": null,
   "metadata": {},
   "outputs": [],
   "source": [
    "# NOTE:\n",
    "# A left shift by n bits is equivalent to multiplication by pow(2, n) without overflow check.\n",
    "# A right shift by n bits is equivalent to division by pow(2, n) without overflow check."
   ]
  }
 ],
 "metadata": {
  "kernelspec": {
   "display_name": "Python 3",
   "language": "python",
   "name": "python3"
  },
  "language_info": {
   "codemirror_mode": {
    "name": "ipython",
    "version": 3
   },
   "file_extension": ".py",
   "mimetype": "text/x-python",
   "name": "python",
   "nbconvert_exporter": "python",
   "pygments_lexer": "ipython3",
   "version": "3.12.1"
  }
 },
 "nbformat": 4,
 "nbformat_minor": 2
}
