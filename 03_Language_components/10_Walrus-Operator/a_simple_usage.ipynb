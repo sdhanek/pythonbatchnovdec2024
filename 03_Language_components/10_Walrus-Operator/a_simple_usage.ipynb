{
 "cells": [
  {
   "cell_type": "markdown",
   "metadata": {},
   "source": [
    "Assignment Expression (OR) Walrus Operator\n",
    "Introducted in python 3.8\n",
    "\n",
    "PEP 572 describes all the details of assignment expressions\n",
    "\n",
    "In simple words, It will combine assignment + some expression"
   ]
  },
  {
   "cell_type": "code",
   "execution_count": 1,
   "metadata": {},
   "outputs": [
    {
     "name": "stdout",
     "output_type": "stream",
     "text": [
      "value1 =  100\n"
     ]
    }
   ],
   "source": [
    "value1 = 100\n",
    "print(\"value1 = \", value1)"
   ]
  },
  {
   "cell_type": "code",
   "execution_count": 2,
   "metadata": {},
   "outputs": [
    {
     "name": "stdout",
     "output_type": "stream",
     "text": [
      "value2 = 200\n"
     ]
    }
   ],
   "source": [
    "print(\"value2 =\", value2:= 200)"
   ]
  },
  {
   "cell_type": "code",
   "execution_count": 3,
   "metadata": {},
   "outputs": [
    {
     "name": "stdout",
     "output_type": "stream",
     "text": [
      "Num is ODD\n"
     ]
    }
   ],
   "source": [
    "num1 = 123\n",
    "if num1 % 2:\n",
    "    print(\"Num is ODD\")"
   ]
  },
  {
   "cell_type": "code",
   "execution_count": 4,
   "metadata": {},
   "outputs": [
    {
     "name": "stdout",
     "output_type": "stream",
     "text": [
      "Num is ODD\n"
     ]
    }
   ],
   "source": [
    "if (num1 := 123) % 2:\n",
    "    print(\"Num is ODD\")"
   ]
  }
 ],
 "metadata": {
  "kernelspec": {
   "display_name": "Python 3",
   "language": "python",
   "name": "python3"
  },
  "language_info": {
   "codemirror_mode": {
    "name": "ipython",
    "version": 3
   },
   "file_extension": ".py",
   "mimetype": "text/x-python",
   "name": "python",
   "nbconvert_exporter": "python",
   "pygments_lexer": "ipython3",
   "version": "3.12.1"
  }
 },
 "nbformat": 4,
 "nbformat_minor": 2
}
