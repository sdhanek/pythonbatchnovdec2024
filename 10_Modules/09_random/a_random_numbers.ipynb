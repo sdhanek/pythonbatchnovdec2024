{
 "cells": [
  {
   "cell_type": "markdown",
   "metadata": {},
   "source": [
    "random module\n",
    "Python random module, uses pseudo-random generator (PRNG)\n",
    "called the Mersenne Twister.\n",
    "\n",
    "NOTE: random module is good enough for many purposes, including simulations,\n",
    "numerical analysis, and games, but it's definitely not good enough for\n",
    "cryptographic use.\n",
    "\n",
    "In Python3, 'secret' module is used for cryptographic purpose."
   ]
  },
  {
   "cell_type": "code",
   "execution_count": 1,
   "metadata": {},
   "outputs": [],
   "source": [
    "import random"
   ]
  },
  {
   "cell_type": "code",
   "execution_count": 2,
   "metadata": {},
   "outputs": [
    {
     "data": {
      "text/plain": [
       "['BPF',\n",
       " 'LOG4',\n",
       " 'NV_MAGICCONST',\n",
       " 'RECIP_BPF',\n",
       " 'Random',\n",
       " 'SG_MAGICCONST',\n",
       " 'SystemRandom',\n",
       " 'TWOPI',\n",
       " '_ONE',\n",
       " '_Sequence',\n",
       " '__all__',\n",
       " '__builtins__',\n",
       " '__cached__',\n",
       " '__doc__',\n",
       " '__file__',\n",
       " '__loader__',\n",
       " '__name__',\n",
       " '__package__',\n",
       " '__spec__',\n",
       " '_accumulate',\n",
       " '_acos',\n",
       " '_bisect',\n",
       " '_ceil',\n",
       " '_cos',\n",
       " '_e',\n",
       " '_exp',\n",
       " '_fabs',\n",
       " '_floor',\n",
       " '_index',\n",
       " '_inst',\n",
       " '_isfinite',\n",
       " '_lgamma',\n",
       " '_log',\n",
       " '_log2',\n",
       " '_os',\n",
       " '_pi',\n",
       " '_random',\n",
       " '_repeat',\n",
       " '_sha512',\n",
       " '_sin',\n",
       " '_sqrt',\n",
       " '_test',\n",
       " '_test_generator',\n",
       " '_urandom',\n",
       " '_warn',\n",
       " 'betavariate',\n",
       " 'binomialvariate',\n",
       " 'choice',\n",
       " 'choices',\n",
       " 'expovariate',\n",
       " 'gammavariate',\n",
       " 'gauss',\n",
       " 'getrandbits',\n",
       " 'getstate',\n",
       " 'lognormvariate',\n",
       " 'normalvariate',\n",
       " 'paretovariate',\n",
       " 'randbytes',\n",
       " 'randint',\n",
       " 'random',\n",
       " 'randrange',\n",
       " 'sample',\n",
       " 'seed',\n",
       " 'setstate',\n",
       " 'shuffle',\n",
       " 'triangular',\n",
       " 'uniform',\n",
       " 'vonmisesvariate',\n",
       " 'weibullvariate']"
      ]
     },
     "execution_count": 2,
     "metadata": {},
     "output_type": "execute_result"
    }
   ],
   "source": [
    "dir(random)"
   ]
  },
  {
   "cell_type": "code",
   "execution_count": 3,
   "metadata": {},
   "outputs": [
    {
     "name": "stdout",
     "output_type": "stream",
     "text": [
      "random.random() * 100: 7.902302221518454\n",
      "random.random() * 100: 31.941234191952116\n"
     ]
    }
   ],
   "source": [
    "# Generate a large pseudo-random number\n",
    "print(\"random.random() * 100:\", random.random() * 100)\n",
    "print(\"random.random() * 100:\", random.random() * 100)"
   ]
  },
  {
   "cell_type": "code",
   "execution_count": 4,
   "metadata": {},
   "outputs": [],
   "source": [
    "# if we set the seed, we guarantee that we will get the same answer\n",
    "random.seed(18485)\n",
    "# NOTE: only supported seed types are: None,int, float, str, bytes, and bytearray"
   ]
  },
  {
   "cell_type": "code",
   "execution_count": 5,
   "metadata": {},
   "outputs": [
    {
     "name": "stdout",
     "output_type": "stream",
     "text": [
      "0.6797936184081204\n",
      "0.9122712611873796\n",
      "0.12926723301605425\n"
     ]
    }
   ],
   "source": [
    "print(random.random())  # should give 0.6797936184081204\n",
    "print(random.random())  # should give 0.9122712611873796\n",
    "print(random.random())  # should give 0.12926723301605425"
   ]
  },
  {
   "cell_type": "code",
   "execution_count": 6,
   "metadata": {},
   "outputs": [
    {
     "name": "stdout",
     "output_type": "stream",
     "text": [
      "[0.7725766895236029, 0.850635131875668, 0.11481894112205038]\n"
     ]
    }
   ],
   "source": [
    "random.seed(\"slartibartfast\")\n",
    "s = [random.random() for i in range(3)]\n",
    "print(s)  # should give [0.7725766895236029, 0.850635131875668, 0.11481894112205038]"
   ]
  },
  {
   "cell_type": "code",
   "execution_count": 7,
   "metadata": {},
   "outputs": [
    {
     "name": "stdout",
     "output_type": "stream",
     "text": [
      "os.urandom(1024) b'}R\\xf6\\xd0\\x17\\xf7X{\\x8dFl\\xfe7\\x1c\\xb4sU\\xa7xL\\xfe\\x99\\xc1\\xfbQ\\xa19\\xc0\\xed?\\x9e\\x7fj\\t2v\\x97\\xe3\\x11w\\xeb\\x80\\xee\\x86\\xfb\\xd005X\\xb5\\xa8|Ba\\x8b\\xe7\\xea\\xe7\\xfbH\\xc8\\xee\\xf52\\xed\\xd8\\xc9\\xfe\\x8ch\\x0e\\xac\\xdd\\x01%\\xd5ifVxJ9z\\xdb\\'\\x96BKi\\x06\\xb8z\\xac\\x9a\\x1a\\xb5*\\xb6\\xfa\\xa7\\xf4\\xd4\\xc5\\xab\\xf4\\xb1\\x15\\xc4\\xfa\\x88j\\xf8\\xb1\\xe2\\x07\\x81\\x0c\\xf1\\x00=\\xa1\\x19.\\xf2\\x97\\xb2c\\xab\\x91\\xb1\\xd7\\xc9\\xf3\\x99Urm\\x00G\\xf6\\x06\\xc62\\x8d\\xfb~j:\\xa3\\xda\\xef\\xf4\\xd0\\xb1Q\\x8b\\x10\\x13\\x84z\\x0c\\x11o\\x03\\xa7\\xd9\\xba;\\x9fJ\\xfa\\xac\\xfb\\xb9\\xbd\\xd8\\xbc\\xc1\\xcc\\x0bH\\xa5#)\\xafV\\xb2\\x8c\\xdd\\x9f\\xee\\xcf\\xde\\xffya!e\\x8dh:\\x89\\xfa\\x8e\\x9a\\x04\\xe9\\xa3\\xcd\\x0b\\xa3\\xb8\\x80)\\xa8\\xdc\\xbe\\xbd\\xef\\xc82\\xac\\rth\\x18\\xda\\xbf\\xd02\\x9f\\xa2\\xf1\\xe8\\xb0$c\\xaayH\\x82m\\xd1v\\xec\\xaa\\x10Y\\xac\\x8b\\xcd\\x81\\x8b\\x8eU\\x0c\\xaa\\xf5\\xb6\\x8dW\\xf6\\x98\\\\\\r\\xf4\\xdaZ{\\xe5&\\x1c\\xe0\\xd3\\xf4r\\x06k7\\xd5Y\\x18f\\xb3#\\tsa\\x08j\\xeflm\\x94\\x13T\\xd2\\x8fmdG\\xa1\\xb3\\xf6}\\xd1\\xea\\x90z\\x0c\\t\\xa0\\xb2C\\xaa\\xb2\\xcf\\x9e\\xbcp\\x0f)n7(\\x1b\\x00\\x1c\\n\\x90n\\xabb||\\xffm\\x1b\\xb2\\xdea9\\x8ar~\\x8f\\r\\xf6\\xe9L\\xc2g\\xd4\\xad\\x11\\xcd!\\xf9\\xfab:\\xecl\\xfb{\\xaf\\xe6\\x04\\xe3\\xdb\\xdcm_\\xb9\\x1d|(\\x93\\x84\\xc6\\x8d\\xfa\\xf5\\xf7\\xb7\\xc9\\x81\\xb1\\x90\\xabqrM\\xa4\\xcb\\xd3\\xe9\\xd9\\xc4\\xf886_\\x7f(H\\xa5\\xe3\\xf7\\xf9\\xf8[O\\xb8U\\xc06\\x0bT\\x1a\\xebfcL\\xc6>\\xa4\\x7f\\xa7\\xd9(k\\xadQ\\x94>h\\xf7\\xd1@\\xf6\\x10\\x11\\x0f\\x95@=B\\xb7\\xd2s\\xf7\\xb1dUW^\\xde3\\xfa\\x0c\\xa5r\\x03q\\x8bC=\\xc3\\x9aq\\xbed^\\xbaeL.:\\xdd\\xe3\\x9b\\x11U\\xc6\\xc6&\\xe5\\x0b\\xe80N\\xa7\\xff\\xa3\\x14\\xfd3\\x90\\xa9iK\\xd8\\x0ei\\x80\\xd8\\xbb\\xbd\\x87\\xdc\\xf5\\xdb:\\xca\\xa1(\\x93\\xf7\\x100\\xfa\\x08\\xaf\\xe5\\x93\\xefG\\xc4G\\xa60\\x9d\\x8b\\x18\\xfe\\x91\\xf5\\xeep$~ \\xc0o.T\\xcd\\xb9i\\x0ea\\x04\\x06\\xcf\\x80\\x896\\xed\\xc5\\x98\\xb0\\xe9N\\xb6\\xc3\\x0f]\\xce\\xbd\\xb5\\xd6\\xcc\\xa9D\\x1f\\x99E\\xbd\\x8f\\x8b/\\xd5\\x1cx)kk\\x07\\xfa\\x99\\xd1#PG\\x7fi\\xeb\\xc4\\xdd\\x01El-U\\xe65\\xfc\\xe1\\x97\\xd5|\\xcde\\xfaB\\xf7\\xf0\\x14C/v\\x92?\\xf9\\x9c\\xc4\\xa6g\\x01\\xbaGo\\x0c\\xd7\\xf3\\xec\\x04\\x0b,\\x8b\\x00Oq\\x06\\xd60=I\\xa6\\xb9V\\t\\xd5\\x05\\xa8I\\xd4h\\x9a\\xcc\\xca\\xea\\xb6L\\x85\\x9eb\\x87\\x1f\\xb6.\\xe0K`t\\xeb\\xdb\\xc6^\\x88\\x15\\xb1a\\x89\\xfb\\x9c|?\\x0bWRe\\xe5\\xec\\xe3\\x93h\\xd0\\xbc>O\\x8d\\x9a\\x0eH\\xba\\xa4\\t\\'\\x91\\x08\\xcf\\xc6\\xbd\\x0b\\x89\\x94\\xb3eA\\xde=\\xb9\\xad\\x8cR\\x0b\\x0e\\xe5DA\\xb3\\r\\x14_c$BI\\xec\\xa3\\xe4\\xed\\xd2.\\xfb\\xfe_\\x8b\\x8dy\\x85\\xa4~\\xb7\\x99\\x80\\xcd&N\\xea;\\xad_\\xa6\\xa29\\xfc\\x15\\xdf\\xb1q\\x17\\x86\\xa6\\xa0Gj\\x9bV\\xb6KB\\xf6&\\xfbd\\xd3?\\xea\\xdf8/\\x08\\xd5\\xb4\\xaf\\xc5y-A\\xd7\\x8e\\x04ts\\n\\x0c\\xff\\xb6\\xbb.\\x01\\x92\\xf6\\x185^]1\\x9d\\xcc\\x9a\\xb5n\\x7f\\x05c~9\\xab/_\\xe7\\xea\\xbd;8Zco\\x8c\\xe7\\xc0\\x92\\x80\\xb1\\xad\\xfdq=\\x03\\xff\\x034k\\x93|\\xb1\\xc5~:\\x11\\xf23;\\xcd\\xcb\\x15\\xf8\\xb0?g\\x89_J\\x04\\xc1\\x97\\x8c\\x94\\x82g\\xec\\x96 \\x94\\x88\\x18\\x19\\'m\\xea\\r\\x9f1\\xa70\\x16\\xfe\\xda\\x0c\\xa1n\\xb6\\x88J r\\x98\\x1e;\\x9f\\xc8@^0\\x14Q\\xa9\\xf6e\\x95)H\\x1d<m:\\xa1`\\x88\"\\xed\\xac\\x19\\xea\\x9d\\x06\\xd7v\\xd7<\\x18\\x9d\\xb5\\xeb\\n\\n\\x02D\\xa5\\x14\\xd6=\\x071\\xef\\x08-\\xb7M\\xed\\x1e\\xa1/\\x0c\\xc2A#\\x7f\\x06\\x7fA\\x93\\x84\\x12\\x84\\x8f\\x98\\xfc\\n$\\x87R\\x07V`\\x16\\xce\\x10\\x1fv\\xbf\\xd3\\xd0\\x94C\\x07\\x8b\\x1a\\x1f\\xb4\\xd3\\xdd,\\xaf^\\xab\\x93\\t\\xfb\\x9fA\\x9a\\xf6@o\\x1e\\x1c\\xd9O`'\n"
     ]
    }
   ],
   "source": [
    "import os\n",
    "\n",
    "print(\"os.urandom(1024)\", os.urandom(1024))\n",
    "random.seed(os.urandom(1024))"
   ]
  },
  {
   "cell_type": "markdown",
   "metadata": {},
   "source": [
    "tossing_coin"
   ]
  },
  {
   "cell_type": "code",
   "execution_count": 8,
   "metadata": {},
   "outputs": [],
   "source": [
    "outcomes = {\n",
    "    \"heads\": 0,\n",
    "    \"tails\": 0,\n",
    "}\n",
    "sides = list(outcomes.keys())  # ['heads', 'tails']"
   ]
  },
  {
   "cell_type": "code",
   "execution_count": 9,
   "metadata": {},
   "outputs": [
    {
     "data": {
      "text/plain": [
       "'heads'"
      ]
     },
     "execution_count": 9,
     "metadata": {},
     "output_type": "execute_result"
    }
   ],
   "source": [
    "random.choice(sides)"
   ]
  },
  {
   "cell_type": "code",
   "execution_count": 10,
   "metadata": {},
   "outputs": [
    {
     "data": {
      "text/plain": [
       "['heads']"
      ]
     },
     "execution_count": 10,
     "metadata": {},
     "output_type": "execute_result"
    }
   ],
   "source": [
    "random.sample(sides, 1)"
   ]
  },
  {
   "cell_type": "code",
   "execution_count": 12,
   "metadata": {},
   "outputs": [
    {
     "name": "stdout",
     "output_type": "stream",
     "text": [
      "In 10000 tosses,\n",
      "\tHeads: 9908\n",
      "\tTails: 10092\n"
     ]
    }
   ],
   "source": [
    "for i in range(10000):\n",
    "    outcome = random.choice(sides)\n",
    "    outcomes[outcome] += 1\n",
    "\n",
    "print(\"In 10000 tosses,\")\n",
    "print(\"\\tHeads:\", outcomes[\"heads\"])\n",
    "print(\"\\tTails:\", outcomes[\"tails\"])"
   ]
  },
  {
   "cell_type": "markdown",
   "metadata": {},
   "source": [
    "random_name_generator"
   ]
  },
  {
   "cell_type": "code",
   "execution_count": 13,
   "metadata": {},
   "outputs": [
    {
     "name": "stdout",
     "output_type": "stream",
     "text": [
      "Mike Jones\n",
      "Mike Smith\n",
      "Tom Taylor\n",
      "Mike Taylor\n",
      "Tyler Brighton\n"
     ]
    }
   ],
   "source": [
    "import random\n",
    "\n",
    "\n",
    "def random_name_generator(first, second, count):\n",
    "    _names = []\n",
    "    for _ in range(count):\n",
    "        fst_name = random.choice(first)\n",
    "        lst_name = random.choice(second)\n",
    "        name = f\"{fst_name} {lst_name}\"\n",
    "        _names.append(name)\n",
    "    return _names\n",
    "\n",
    "\n",
    "def random_name_generator(first, second, count):\n",
    "    _names = set()\n",
    "    while len(_names) < count:\n",
    "        fst_name = random.choice(first)\n",
    "        lst_name = random.choice(second)\n",
    "        name = f\"{fst_name} {lst_name}\"\n",
    "        _names.add(name)\n",
    "    return _names\n",
    "\n",
    "\n",
    "first_names = [\"Drew\", \"Mike\", \"Landon\", \"Jeremy\", \"Tyler\", \"Tom\", \"Avery\"]\n",
    "last_names = [\"Smith\", \"Jones\", \"Brighton\", \"Taylor\"]\n",
    "names = random_name_generator(first_names, last_names, 5)\n",
    "print(\"\\n\".join(names))"
   ]
  },
  {
   "cell_type": "markdown",
   "metadata": {},
   "source": []
  },
  {
   "cell_type": "markdown",
   "metadata": {},
   "source": [
    "# Assignment:\n",
    "# In runtime, take the gender name as input, and generate random name.\n",
    "# HINT: Take a dataset of female first names, and another with male first names\n",
    "# one dataset with last names"
   ]
  },
  {
   "cell_type": "code",
   "execution_count": 15,
   "metadata": {},
   "outputs": [
    {
     "name": "stdout",
     "output_type": "stream",
     "text": [
      "Generated Random Name: Lohitha kanuri\n"
     ]
    }
   ],
   "source": [
    "import random\n",
    "\n",
    "# Sample datasets of names\n",
    "male_first_names = [\"Raja\", \"Rahul\", \"Rohit\", \"Lohith\", \"Rishi\"]\n",
    "female_first_names = [\"Neelima\", \"Sindhu\", \"Hyma\", \"Lohitha\", \"Yashu\"]\n",
    "last_names = [\"kanuri\", \"Dhanekula\", \"Kasturi\", \"konneru\", \"kurra\"]\n",
    "\n",
    "def generate_random_name():\n",
    "    # Take gender input from the user\n",
    "    gender = input(\"Enter the gender (male/female): \").strip().lower()\n",
    "\n",
    "    # Validate input and pick a first name based on gender\n",
    "    if gender == \"male\":\n",
    "        first_name = random.choice(male_first_names)\n",
    "    elif gender == \"female\":\n",
    "        first_name = random.choice(female_first_names)\n",
    "    else:\n",
    "        print(\"Invalid gender input! Please enter 'male' or 'female'.\")\n",
    "        return\n",
    "\n",
    "    # Pick a random last name\n",
    "    last_name = random.choice(last_names)\n",
    "\n",
    "    # Generate the full name\n",
    "    full_name = f\"{first_name} {last_name}\"\n",
    "    print(f\"Generated Random Name: {full_name}\")\n",
    "\n",
    "# Call the function\n",
    "generate_random_name()\n"
   ]
  }
 ],
 "metadata": {
  "kernelspec": {
   "display_name": ".venv",
   "language": "python",
   "name": "python3"
  },
  "language_info": {
   "codemirror_mode": {
    "name": "ipython",
    "version": 3
   },
   "file_extension": ".py",
   "mimetype": "text/x-python",
   "name": "python",
   "nbconvert_exporter": "python",
   "pygments_lexer": "ipython3",
   "version": "3.12.1"
  }
 },
 "nbformat": 4,
 "nbformat_minor": 2
}
