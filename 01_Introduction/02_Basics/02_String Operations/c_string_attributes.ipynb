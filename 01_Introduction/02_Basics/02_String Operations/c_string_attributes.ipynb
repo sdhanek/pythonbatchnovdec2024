{
 "cells": [
  {
   "cell_type": "code",
   "execution_count": null,
   "metadata": {},
   "outputs": [],
   "source": []
  },
  {
   "cell_type": "markdown",
   "metadata": {},
   "source": [
    "### String Attributes \n",
    "\n",
    "Objects\n",
    "    1. Pen\n",
    "        -usage: writing, drawing, ....\n",
    "        \n",
    "    2. Mobile\n",
    "        -usage: communication, messaging, watch videos,\n",
    "                playing\n",
    "language = \"Python Programming\"\n",
    "print(\"language       = \", language)\n",
    "print(\"type(language) = \", type(language))\n",
    "\n",
    "print(\"len(language)  = \", len(language))\n",
    "print(\"id(language)   = \", id(language))  # address location\n",
    "language       =  Python Programming\n",
    "type(language) =  <class 'str'>\n",
    "len(language)  =  18\n",
    "id(language)   =  124277162398320\n"
   ]
  }
 ],
 "metadata": {
  "language_info": {
   "name": "python"
  }
 },
 "nbformat": 4,
 "nbformat_minor": 2
}
