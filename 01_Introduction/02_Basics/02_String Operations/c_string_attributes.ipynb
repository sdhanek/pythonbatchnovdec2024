{
 "cells": [
  {
   "cell_type": "code",
   "execution_count": null,
   "metadata": {},
   "outputs": [],
   "source": []
  },
  {
   "cell_type": "markdown",
   "metadata": {},
   "source": [
    "### String Attributes \n",
    "\n",
    "Objects\n",
    "    1. Pen\n",
    "        -usage: writing, drawing, ....\n",
    "        \n",
    "    2. Mobile\n",
    "        -usage: communication, messaging, watch videos,\n",
    "                playing\n",
    "language = \"Python Programming\"\n",
    "print(\"language       = \", language)\n",
    "print(\"type(language) = \", type(language))\n",
    "\n",
    "print(\"len(language)  = \", len(language))\n",
    "print(\"id(language)   = \", id(language))  # address location\n",
    "language       =  Python Programming\n",
    "type(language) =  <class 'str'>\n",
    "len(language)  =  18\n",
    "id(language)   =  124277162398320\n"
   ]
  },
  {
   "cell_type": "code",
   "execution_count": 1,
   "metadata": {},
   "outputs": [
    {
     "name": "stdout",
     "output_type": "stream",
     "text": [
      "language       =  Python Programming\n",
      "type(language) =  <class 'str'>\n",
      "len(language)  =  18\n",
      "id(language)   =  126951895704304\n"
     ]
    }
   ],
   "source": [
    "language = \"Python Programming\"\n",
    "print(\"language       = \", language)\n",
    "print(\"type(language) = \", type(language))\n",
    "\n",
    "print(\"len(language)  = \", len(language))\n",
    "print(\"id(language)   = \", id(language))  # address location"
   ]
  },
  {
   "cell_type": "code",
   "execution_count": 2,
   "metadata": {},
   "outputs": [
    {
     "name": "stdout",
     "output_type": "stream",
     "text": [
      "language             : Python Programming\n",
      "language.capitalize(): Python programming\n",
      "language.title()     : Python Programming\n",
      "language.upper()     : PYTHON PROGRAMMING\n",
      "language.lower()     : python programming\n",
      "language.swapcase()  : pYTHON pROGRAMMING\n"
     ]
    }
   ],
   "source": [
    "print(\"language             :\", language)\n",
    "print(\"language.capitalize():\", language.capitalize())\n",
    "print(\"language.title()     :\", language.title())\n",
    "print(\"language.upper()     :\", language.upper())\n",
    "print(\"language.lower()     :\", language.lower())\n",
    "print(\"language.swapcase()  :\", language.swapcase())"
   ]
  },
  {
   "cell_type": "code",
   "execution_count": 3,
   "metadata": {},
   "outputs": [
    {
     "name": "stdout",
     "output_type": "stream",
     "text": [
      "'der fluß'.lower()   : der fluß\n",
      "'der fluß'.casefold(): der fluss\n",
      "'der fluss'.lower()  : der fluss\n",
      "'der fluss'.casefold(): der fluss\n"
     ]
    }
   ],
   "source": [
    "print(\"'der fluß'.lower()   :\", \"der fluß\".lower())\n",
    "print(\"'der fluß'.casefold():\", \"der fluß\".casefold())\n",
    "print(\"'der fluss'.lower()  :\", \"der fluss\".lower())\n",
    "print(\"'der fluss'.casefold():\", \"der fluss\".casefold())"
   ]
  },
  {
   "cell_type": "code",
   "execution_count": 4,
   "metadata": {},
   "outputs": [
    {
     "name": "stdout",
     "output_type": "stream",
     "text": [
      "True\n"
     ]
    }
   ],
   "source": [
    "# Assignment : identify few examples in diffenrent languages for casefold attribute usecase\n",
    "\n",
    "str1 = \"straße\"\n",
    "str2 = \"strasse\"\n",
    "\n",
    "print(str1.casefold() == str2.casefold())  # Output: True\n"
   ]
  },
  {
   "cell_type": "code",
   "execution_count": 1,
   "metadata": {},
   "outputs": [
    {
     "name": "stdout",
     "output_type": "stream",
     "text": [
      "True\n",
      "False\n",
      "False\n",
      "True\n",
      "True\n",
      "True\n"
     ]
    }
   ],
   "source": [
    "# assignment : str.isdigit vs str.isnumeric\n",
    "\n",
    "a = \"124\" \n",
    "b = \"Ⅳ\"    \n",
    "c = \"½\"    \n",
    "\n",
    "# Using isdigit()\n",
    "print(a.isdigit()) \n",
    "print(b.isdigit())  \n",
    "print(c.isdigit()) \n",
    "\n",
    "# Using isnumeric()\n",
    "print(a.isnumeric())\n",
    "print(b.isnumeric()) \n",
    "print(c.isnumeric())"
   ]
  },
  {
   "cell_type": "code",
   "execution_count": null,
   "metadata": {},
   "outputs": [
    {
     "name": "stdout",
     "output_type": "stream",
     "text": [
      "('Python ', 'P', 'rogramming')\n"
     ]
    }
   ],
   "source": [
    "\n",
    "# assignment: modify the partition attribute to specific index positions \n",
    "txt = \"Python Programming\"\n",
    "\n",
    "part1 = txt[:7]\n",
    "part2 = txt[7:8]\n",
    "part3 = txt[8:]\n",
    "\n",
    "result = (part1, part2, part3)\n",
    "\n",
    "print(result)"
   ]
  },
  {
   "cell_type": "code",
   "execution_count": 1,
   "metadata": {},
   "outputs": [
    {
     "data": {
      "text/plain": [
       "['1', '2', '0', '1', '2', '0', '1', '3', '0', '1', '2', '0', '1']"
      ]
     },
     "execution_count": 1,
     "metadata": {},
     "output_type": "execute_result"
    }
   ],
   "source": [
    "# How to convert a string to a list\n",
    "\n",
    "list(\"1201201301201\")"
   ]
  },
  {
   "cell_type": "code",
   "execution_count": 2,
   "metadata": {},
   "outputs": [
    {
     "data": {
      "text/plain": [
       "('1', '2', '0', '1', '2', '0', '1', '3', '0', '1', '2', '0', '1')"
      ]
     },
     "execution_count": 2,
     "metadata": {},
     "output_type": "execute_result"
    }
   ],
   "source": [
    "tuple(\"1201201301201\")"
   ]
  }
 ],
 "metadata": {
  "kernelspec": {
   "display_name": "Python 3",
   "language": "python",
   "name": "python3"
  },
  "language_info": {
   "codemirror_mode": {
    "name": "ipython",
    "version": 3
   },
   "file_extension": ".py",
   "mimetype": "text/x-python",
   "name": "python",
   "nbconvert_exporter": "python",
   "pygments_lexer": "ipython3",
   "version": "3.12.1"
  }
 },
 "nbformat": 4,
 "nbformat_minor": 2
}
