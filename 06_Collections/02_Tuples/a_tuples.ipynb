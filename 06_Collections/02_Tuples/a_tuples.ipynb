{
 "cells": [
  {
   "cell_type": "markdown",
   "metadata": {},
   "source": [
    "Tuple"
   ]
  },
  {
   "cell_type": "code",
   "execution_count": 4,
   "metadata": {},
   "outputs": [
    {
     "name": "stdout",
     "output_type": "stream",
     "text": [
      "type(mylist) <class 'list'>\n",
      "len(mylist) 5\n",
      "\n",
      "type(mytuple) <class 'tuple'>\n",
      "len(mytuple) 5\n",
      "(12, 34.8, 500000, [6, 8], (5,))\n"
     ]
    }
   ],
   "source": [
    "mylist = [12, 34.8, 500000, [6, 8], (5,)]\n",
    "print(\"type(mylist)\", type(mylist))\n",
    "print(\"len(mylist)\", len(mylist))\n",
    "\n",
    "\n",
    "mytuple = (12, 34.8, 500000, [6, 8], (5,))\n",
    "print(\"\\ntype(mytuple)\", type(mytuple))\n",
    "print(\"len(mytuple)\", len(mytuple))\n",
    "print(mytuple)"
   ]
  },
  {
   "cell_type": "code",
   "execution_count": 5,
   "metadata": {},
   "outputs": [
    {
     "name": "stdout",
     "output_type": "stream",
     "text": [
      "<class 'float'> 99.9\n",
      "<class 'float'> 465.8857142857143\n"
     ]
    }
   ],
   "source": [
    "result = (99.9)\n",
    "print(type(result), result)\n",
    "\n",
    "result = (99.9 + 232 / 322 * 23) * 4\n",
    "print(type(result), result)"
   ]
  },
  {
   "cell_type": "code",
   "execution_count": 6,
   "metadata": {},
   "outputs": [
    {
     "name": "stdout",
     "output_type": "stream",
     "text": [
      "type(another_tuple) <class 'float'>\n"
     ]
    },
    {
     "ename": "TypeError",
     "evalue": "object of type 'float' has no len()",
     "output_type": "error",
     "traceback": [
      "\u001b[0;31m---------------------------------------------------------------------------\u001b[0m",
      "\u001b[0;31mTypeError\u001b[0m                                 Traceback (most recent call last)",
      "Cell \u001b[0;32mIn[6], line 3\u001b[0m\n\u001b[1;32m      1\u001b[0m another_tuple \u001b[38;5;241m=\u001b[39m (\u001b[38;5;241m99.9\u001b[39m)\n\u001b[1;32m      2\u001b[0m \u001b[38;5;28mprint\u001b[39m(\u001b[38;5;124m\"\u001b[39m\u001b[38;5;124mtype(another_tuple)\u001b[39m\u001b[38;5;124m\"\u001b[39m, \u001b[38;5;28mtype\u001b[39m(another_tuple))\n\u001b[0;32m----> 3\u001b[0m \u001b[38;5;28mprint\u001b[39m(\u001b[38;5;124m\"\u001b[39m\u001b[38;5;124mlen(another_tuple) \u001b[39m\u001b[38;5;124m\"\u001b[39m, \u001b[38;5;28;43mlen\u001b[39;49m\u001b[43m(\u001b[49m\u001b[43manother_tuple\u001b[49m\u001b[43m)\u001b[49m)\n",
      "\u001b[0;31mTypeError\u001b[0m: object of type 'float' has no len()"
     ]
    }
   ],
   "source": [
    "another_tuple = (99.9)\n",
    "print(\"type(another_tuple)\", type(another_tuple))\n",
    "print(\"len(another_tuple) \", len(another_tuple))"
   ]
  },
  {
   "cell_type": "code",
   "execution_count": 7,
   "metadata": {},
   "outputs": [
    {
     "name": "stdout",
     "output_type": "stream",
     "text": [
      "type(another_tuple) <class 'tuple'>\n",
      "len(another_tuple)  1\n"
     ]
    }
   ],
   "source": [
    "another_tuple = (99.9,)\n",
    "print(\"type(another_tuple)\", type(another_tuple))\n",
    "print(\"len(another_tuple) \", len(another_tuple))"
   ]
  },
  {
   "cell_type": "code",
   "execution_count": null,
   "metadata": {},
   "outputs": [],
   "source": [
    "# NOTE: For tuple with single element, place comma at the end\n",
    "# to recognize it as tuple; else recognizes as individual elemen"
   ]
  },
  {
   "cell_type": "code",
   "execution_count": 8,
   "metadata": {},
   "outputs": [
    {
     "name": "stdout",
     "output_type": "stream",
     "text": [
      "type(empty_tuple): <class 'tuple'>\n",
      "len(empty_tuple) : 0\n"
     ]
    }
   ],
   "source": [
    "empty_tuple = ()  # tuple()\n",
    "print(\"type(empty_tuple):\", type(empty_tuple))\n",
    "print(\"len(empty_tuple) :\", len(empty_tuple))"
   ]
  },
  {
   "cell_type": "code",
   "execution_count": 9,
   "metadata": {},
   "outputs": [
    {
     "name": "stdout",
     "output_type": "stream",
     "text": [
      "type(mytuple)    : <class 'tuple'>\n",
      "len(mytuple)     : 3\n",
      "(1, 2, 3)\n"
     ]
    }
   ],
   "source": [
    "mytuple = 1, 2, 3\n",
    "print(\"type(mytuple)    :\", type(mytuple))\n",
    "print(\"len(mytuple)     :\", len(mytuple))\n",
    "print(mytuple)"
   ]
  },
  {
   "cell_type": "code",
   "execution_count": 10,
   "metadata": {},
   "outputs": [
    {
     "name": "stdout",
     "output_type": "stream",
     "text": [
      "type(mytuple)    : <class 'tuple'>\n",
      "len(mytuple)     : 1\n",
      "(1,)\n"
     ]
    }
   ],
   "source": [
    "mytuple = 1,\n",
    "print(\"type(mytuple)    :\", type(mytuple))\n",
    "print(\"len(mytuple)     :\", len(mytuple))\n",
    "print(mytuple)"
   ]
  },
  {
   "cell_type": "markdown",
   "metadata": {},
   "source": [
    "Attributes"
   ]
  },
  {
   "cell_type": "code",
   "execution_count": 11,
   "metadata": {},
   "outputs": [
    {
     "name": "stdout",
     "output_type": "stream",
     "text": [
      "['__add__', '__class__', '__class_getitem__', '__contains__', '__delattr__', '__dir__', '__doc__', '__eq__', '__format__', '__ge__', '__getattribute__', '__getitem__', '__getnewargs__', '__getstate__', '__gt__', '__hash__', '__init__', '__init_subclass__', '__iter__', '__le__', '__len__', '__lt__', '__mul__', '__ne__', '__new__', '__reduce__', '__reduce_ex__', '__repr__', '__rmul__', '__setattr__', '__sizeof__', '__str__', '__subclasshook__', 'count', 'index']\n"
     ]
    }
   ],
   "source": [
    "mytuple = (12, 5, 6, 8, (5,))\n",
    "print(dir(mytuple))"
   ]
  },
  {
   "cell_type": "code",
   "execution_count": 13,
   "metadata": {},
   "outputs": [
    {
     "name": "stdout",
     "output_type": "stream",
     "text": [
      "len(mytuple)           = 5\n",
      "mytuple.__len__()      = 5\n"
     ]
    }
   ],
   "source": [
    "print(\"len(mytuple)           =\", len(mytuple))\n",
    "print(\"mytuple.__len__()      =\", mytuple.__len__())\n",
    "assert len(mytuple) == mytuple.__len__()"
   ]
  },
  {
   "cell_type": "code",
   "execution_count": 14,
   "metadata": {},
   "outputs": [
    {
     "name": "stdout",
     "output_type": "stream",
     "text": [
      "str(mytuple)           = (12, 5, 6, 8, (5,))\n",
      "type(str(mytuple))     = <class 'str'>\n",
      "mytuple.__str__()      = (12, 5, 6, 8, (5,))\n",
      "type(mytuple.__str__())= <class 'str'>\n"
     ]
    }
   ],
   "source": [
    "print(\"str(mytuple)           =\", str(mytuple))\n",
    "print(\"type(str(mytuple))     =\", type(str(mytuple)))\n",
    "print(\"mytuple.__str__()      =\", mytuple.__str__())\n",
    "print(\"type(mytuple.__str__())=\", type(mytuple.__str__()))\n",
    "assert str(mytuple) == mytuple.__str__()"
   ]
  },
  {
   "cell_type": "code",
   "execution_count": 15,
   "metadata": {},
   "outputs": [
    {
     "name": "stdout",
     "output_type": "stream",
     "text": [
      "\n",
      "mytuple * 3            = (12, 5, 6, 8, (5,), 12, 5, 6, 8, (5,), 12, 5, 6, 8, (5,))\n",
      "mytuple                = (12, 5, 6, 8, (5,))\n",
      "mytuple.__mul__(3)     = (12, 5, 6, 8, (5,), 12, 5, 6, 8, (5,), 12, 5, 6, 8, (5,))\n",
      "mytuple                = (12, 5, 6, 8, (5,))\n"
     ]
    }
   ],
   "source": [
    "# Tuple repetition operation - original object not modified\n",
    "print()\n",
    "print(\"mytuple * 3            =\", mytuple * 3)\n",
    "print(\"mytuple                =\", mytuple)\n",
    "print(\"mytuple.__mul__(3)     =\", mytuple.__mul__(3))\n",
    "print(\"mytuple                =\", mytuple)"
   ]
  },
  {
   "cell_type": "code",
   "execution_count": 16,
   "metadata": {},
   "outputs": [
    {
     "ename": "AttributeError",
     "evalue": "'tuple' object has no attribute '__imul__'",
     "output_type": "error",
     "traceback": [
      "\u001b[0;31m---------------------------------------------------------------------------\u001b[0m",
      "\u001b[0;31mAttributeError\u001b[0m                            Traceback (most recent call last)",
      "Cell \u001b[0;32mIn[16], line 1\u001b[0m\n\u001b[0;32m----> 1\u001b[0m \u001b[43mmytuple\u001b[49m\u001b[38;5;241;43m.\u001b[39;49m\u001b[38;5;21;43m__imul__\u001b[39;49m(\u001b[38;5;241m3\u001b[39m)\n",
      "\u001b[0;31mAttributeError\u001b[0m: 'tuple' object has no attribute '__imul__'"
     ]
    }
   ],
   "source": [
    "mytuple.__imul__(3)"
   ]
  },
  {
   "cell_type": "markdown",
   "metadata": {},
   "source": [
    "Tuple operations"
   ]
  },
  {
   "cell_type": "code",
   "execution_count": 17,
   "metadata": {},
   "outputs": [
    {
     "name": "stdout",
     "output_type": "stream",
     "text": [
      "result   : (9, 99, 99)\n",
      "result   : ((9, 99, 99),)\n"
     ]
    }
   ],
   "source": [
    "# Tuple concatenation\n",
    "\n",
    "# Python is strictly type language\n",
    "#   - operation is possible with same/similar types only\n",
    "result = (9, 99) + (99,)\n",
    "print(\"result   :\", result)\n",
    " \n",
    "result = ((9, 99) + (99,),)   # + is having more priority than , \n",
    "print(\"result   :\", result)"
   ]
  },
  {
   "cell_type": "code",
   "execution_count": 18,
   "metadata": {},
   "outputs": [
    {
     "ename": "SyntaxError",
     "evalue": "invalid syntax (3965477775.py, line 1)",
     "output_type": "error",
     "traceback": [
      "\u001b[0;36m  Cell \u001b[0;32mIn[18], line 1\u001b[0;36m\u001b[0m\n\u001b[0;31m    result = (9, 99) + (99,),,\u001b[0m\n\u001b[0m                             ^\u001b[0m\n\u001b[0;31mSyntaxError\u001b[0m\u001b[0;31m:\u001b[0m invalid syntax\n"
     ]
    }
   ],
   "source": [
    "result = (9, 99) + (99,),,"
   ]
  },
  {
   "cell_type": "code",
   "execution_count": 19,
   "metadata": {},
   "outputs": [
    {
     "name": "stdout",
     "output_type": "stream",
     "text": [
      "result   : ((9, 99, (99,)),)\n"
     ]
    }
   ],
   "source": [
    "result = (9, 99) + ((99,),),\n",
    "print(\"result   :\", result)"
   ]
  },
  {
   "cell_type": "code",
   "execution_count": 20,
   "metadata": {},
   "outputs": [
    {
     "ename": "TypeError",
     "evalue": "can only concatenate tuple (not \"list\") to tuple",
     "output_type": "error",
     "traceback": [
      "\u001b[0;31m---------------------------------------------------------------------------\u001b[0m",
      "\u001b[0;31mTypeError\u001b[0m                                 Traceback (most recent call last)",
      "Cell \u001b[0;32mIn[20], line 1\u001b[0m\n\u001b[0;32m----> 1\u001b[0m result \u001b[38;5;241m=\u001b[39m \u001b[43m(\u001b[49m\u001b[38;5;241;43m9\u001b[39;49m\u001b[43m,\u001b[49m\u001b[43m \u001b[49m\u001b[38;5;241;43m99\u001b[39;49m\u001b[43m)\u001b[49m\u001b[43m \u001b[49m\u001b[38;5;241;43m+\u001b[39;49m\u001b[43m \u001b[49m\u001b[43m[\u001b[49m\u001b[38;5;241;43m11\u001b[39;49m\u001b[43m,\u001b[49m\u001b[43m \u001b[49m\u001b[38;5;241;43m1\u001b[39;49m\u001b[43m]\u001b[49m\n",
      "\u001b[0;31mTypeError\u001b[0m: can only concatenate tuple (not \"list\") to tuple"
     ]
    }
   ],
   "source": [
    "result = (9, 99) + [11, 1]"
   ]
  },
  {
   "cell_type": "code",
   "execution_count": 21,
   "metadata": {},
   "outputs": [
    {
     "name": "stdout",
     "output_type": "stream",
     "text": [
      "result   : (9, 99, 11, 1)\n",
      "result   : [9, 99, 11, 1]\n"
     ]
    }
   ],
   "source": [
    "result = (9, 99) + tuple([11, 1])\n",
    "print(\"result   :\", result)\n",
    "\n",
    "result = list((9, 99)) + [11, 1]\n",
    "print(\"result   :\", result)"
   ]
  },
  {
   "cell_type": "code",
   "execution_count": 22,
   "metadata": {},
   "outputs": [
    {
     "name": "stdout",
     "output_type": "stream",
     "text": [
      "(1,) * 3      =(1, 1, 1)\n",
      "(1, 2) * 3    =(1, 2, 1, 2, 1, 2)\n",
      "(1, (2,)) * 3 =(1, (2,), 1, (2,), 1, (2,))\n"
     ]
    }
   ],
   "source": [
    "# Tuple repetition\n",
    "print(f\"{(1,) * 3      =}\")\n",
    "print(f\"{(1, 2) * 3    =}\")\n",
    "print(f\"{(1, (2,)) * 3 =}\")"
   ]
  },
  {
   "cell_type": "code",
   "execution_count": 23,
   "metadata": {},
   "outputs": [],
   "source": [
    "# Assignment\n",
    "# 1. Prove that tuple concatenation is not commutative: t1 + t2 != t2 + t1\n",
    "# 2. Prove that tuple repetition is commutative       : t1 * 3 == 3 * t1"
   ]
  },
  {
   "cell_type": "code",
   "execution_count": 24,
   "metadata": {},
   "outputs": [
    {
     "name": "stdout",
     "output_type": "stream",
     "text": [
      "t1 + t2: (1, 2, 3, 4)\n",
      "t2 + t1: (3, 4, 1, 2)\n",
      "Is t1 + t2 == t2 + t1? False\n"
     ]
    }
   ],
   "source": [
    "# 1. Prove that tuple concatenation is not commutative: t1 + t2 != t2 + t1\n",
    "t1 = (1, 2)\n",
    "t2 = (3, 4)\n",
    "\n",
    "result1 = t1 + t2  \n",
    "result2 = t2 + t1  \n",
    "\n",
    "print(\"t1 + t2:\", result1) \n",
    "print(\"t2 + t1:\", result2)  \n",
    "print(\"Is t1 + t2 == t2 + t1?\", result1 == result2) \n"
   ]
  },
  {
   "cell_type": "code",
   "execution_count": 25,
   "metadata": {},
   "outputs": [],
   "source": [
    "# 2. Prove that tuple repetition is commutative       : t1 * 3 == 3 * t1"
   ]
  },
  {
   "cell_type": "code",
   "execution_count": 26,
   "metadata": {},
   "outputs": [
    {
     "name": "stdout",
     "output_type": "stream",
     "text": [
      "t1 * 3: (1, 2, 1, 2, 1, 2)\n",
      "3 * t1: (1, 2, 1, 2, 1, 2)\n",
      "Is t1 * 3 == 3 * t1? True\n"
     ]
    }
   ],
   "source": [
    "t1 = (1, 2)\n",
    "\n",
    "result1 = t1 * 3  \n",
    "result2 = 3 * t1 \n",
    "\n",
    "print(\"t1 * 3:\", result1) \n",
    "print(\"3 * t1:\", result2)  \n",
    "print(\"Is t1 * 3 == 3 * t1?\", result1 == result2) \n"
   ]
  },
  {
   "cell_type": "markdown",
   "metadata": {},
   "source": [
    "Immutability\n",
    "- Tuple doesnt support in-object changes"
   ]
  },
  {
   "cell_type": "code",
   "execution_count": 27,
   "metadata": {},
   "outputs": [
    {
     "name": "stdout",
     "output_type": "stream",
     "text": [
      "mytuple (1, 2, 3) 127746449948864\n"
     ]
    }
   ],
   "source": [
    "mytuple = (1, 2, 3)\n",
    "print(\"mytuple\", mytuple, id(mytuple))"
   ]
  },
  {
   "cell_type": "code",
   "execution_count": 28,
   "metadata": {},
   "outputs": [
    {
     "name": "stdout",
     "output_type": "stream",
     "text": [
      "mytuple[2] =3\n"
     ]
    }
   ],
   "source": [
    "#  Indexing\n",
    "print(f\"{mytuple[2] =}\")"
   ]
  },
  {
   "cell_type": "code",
   "execution_count": 29,
   "metadata": {},
   "outputs": [
    {
     "name": "stdout",
     "output_type": "stream",
     "text": [
      "'tuple' object does not support item assignment\n",
      "tuple objects are not editable\n"
     ]
    }
   ],
   "source": [
    "# updating an element in tuple\n",
    "try:\n",
    "    mytuple[2] = \"2.2222\"\n",
    "except TypeError as ex:\n",
    "    print(ex)\n",
    "    print(\"tuple objects are not editable\")"
   ]
  },
  {
   "cell_type": "code",
   "execution_count": 30,
   "metadata": {},
   "outputs": [
    {
     "name": "stdout",
     "output_type": "stream",
     "text": [
      "\n",
      "overwriting (re-assigning)\n",
      "mytuple (1, '2.2222', 3) 127746450005824\n"
     ]
    }
   ],
   "source": [
    "# Overwriting\n",
    "print(\"\\noverwriting (re-assigning)\")\n",
    "mytuple = (1, \"2.2222\", 3)\n",
    "print(\"mytuple\", mytuple, id(mytuple))"
   ]
  },
  {
   "cell_type": "markdown",
   "metadata": {},
   "source": [
    "Named Tuples\n",
    "Named Tuples can be:\n",
    "    1. access by index - like normal tuples\n",
    "    2. access by keyname - like dictionaries\n",
    "    3. using getattr()"
   ]
  },
  {
   "cell_type": "code",
   "execution_count": 31,
   "metadata": {},
   "outputs": [
    {
     "name": "stdout",
     "output_type": "stream",
     "text": [
      "type(student_details)=<class 'tuple'>\n",
      "student_details      =('Arjun', 26, '23/07/1992')\n",
      "Student Name: Arjun\n",
      "Student Age : 26\n",
      "Student DOB : 23/07/1992\n"
     ]
    }
   ],
   "source": [
    "student_details = (\"Arjun\", 26, \"23/07/1992\")\n",
    "#                    0      1         2\n",
    "print(f\"{type(student_details)=}\")\n",
    "print(f\"{student_details      =}\")\n",
    "\n",
    "# Accessing Values - using index\n",
    "print(\"Student Name:\", student_details[0])\n",
    "print(\"Student Age :\", student_details[1])\n",
    "print(\"Student DOB :\", student_details[2])"
   ]
  },
  {
   "cell_type": "code",
   "execution_count": 32,
   "metadata": {},
   "outputs": [
    {
     "name": "stdout",
     "output_type": "stream",
     "text": [
      "['ChainMap', 'Counter', 'OrderedDict', 'UserDict', 'UserList', 'UserString', '_Link', '_OrderedDictItemsView', '_OrderedDictKeysView', '_OrderedDictValuesView', '__all__', '__builtins__', '__cached__', '__doc__', '__file__', '__loader__', '__name__', '__package__', '__path__', '__spec__', '_chain', '_collections_abc', '_count_elements', '_deque_iterator', '_eq', '_iskeyword', '_itemgetter', '_proxy', '_recursive_repr', '_repeat', '_starmap', '_sys', '_tuplegetter', 'abc', 'defaultdict', 'deque', 'namedtuple']\n"
     ]
    }
   ],
   "source": [
    "import collections\n",
    "\n",
    "print(dir(collections))"
   ]
  },
  {
   "cell_type": "code",
   "execution_count": 33,
   "metadata": {},
   "outputs": [
    {
     "data": {
      "text/plain": [
       "__main__.Students"
      ]
     },
     "execution_count": 33,
     "metadata": {},
     "output_type": "execute_result"
    }
   ],
   "source": [
    "# Step 1: created Named Tuple object\n",
    "Students = collections.namedtuple(\"Students\", (\"name\", \"age\", \"dob\"))\n",
    "Students"
   ]
  },
  {
   "cell_type": "code",
   "execution_count": 34,
   "metadata": {},
   "outputs": [
    {
     "data": {
      "text/plain": [
       "Students(name='Arjun', age=26, dob='23/07/1992')"
      ]
     },
     "execution_count": 34,
     "metadata": {},
     "output_type": "execute_result"
    }
   ],
   "source": [
    "Students(\"Arjun\", 26, \"23/07/1992\")"
   ]
  },
  {
   "cell_type": "code",
   "execution_count": 35,
   "metadata": {},
   "outputs": [],
   "source": [
    "# Step 2: create tuples using that object\n",
    "student_details2 = Students(\"Arjun\", 26, \"23/07/1992\")"
   ]
  },
  {
   "cell_type": "code",
   "execution_count": 36,
   "metadata": {},
   "outputs": [
    {
     "data": {
      "text/plain": [
       "__main__.Students"
      ]
     },
     "execution_count": 36,
     "metadata": {},
     "output_type": "execute_result"
    }
   ],
   "source": [
    "type(student_details2)"
   ]
  },
  {
   "cell_type": "code",
   "execution_count": 37,
   "metadata": {},
   "outputs": [
    {
     "name": "stdout",
     "output_type": "stream",
     "text": [
      "\n",
      "Student Name: Arjun\n",
      "Student Age : 26\n",
      "Student DOB : 23/07/1992\n",
      "\n",
      "Student Name: Arjun\n",
      "Student Age : 26\n",
      "Student DOB : 23/07/1992\n"
     ]
    }
   ],
   "source": [
    "# Accessing Values - using index\n",
    "print()\n",
    "print(\"Student Name:\", student_details2[0])\n",
    "print(\"Student Age :\", student_details2[1])\n",
    "print(\"Student DOB :\", student_details2[2])\n",
    "\n",
    "# Accssing Values - using position names\n",
    "print()\n",
    "print(\"Student Name:\", student_details2.name)\n",
    "print(\"Student Age :\", student_details2.age)\n",
    "print(\"Student DOB :\", student_details2.dob)"
   ]
  },
  {
   "cell_type": "code",
   "execution_count": 38,
   "metadata": {},
   "outputs": [
    {
     "data": {
      "text/plain": [
       "['__add__',\n",
       " '__class__',\n",
       " '__class_getitem__',\n",
       " '__contains__',\n",
       " '__delattr__',\n",
       " '__dir__',\n",
       " '__doc__',\n",
       " '__eq__',\n",
       " '__format__',\n",
       " '__ge__',\n",
       " '__getattribute__',\n",
       " '__getitem__',\n",
       " '__getnewargs__',\n",
       " '__getstate__',\n",
       " '__gt__',\n",
       " '__hash__',\n",
       " '__init__',\n",
       " '__init_subclass__',\n",
       " '__iter__',\n",
       " '__le__',\n",
       " '__len__',\n",
       " '__lt__',\n",
       " '__match_args__',\n",
       " '__module__',\n",
       " '__mul__',\n",
       " '__ne__',\n",
       " '__new__',\n",
       " '__reduce__',\n",
       " '__reduce_ex__',\n",
       " '__repr__',\n",
       " '__rmul__',\n",
       " '__setattr__',\n",
       " '__sizeof__',\n",
       " '__slots__',\n",
       " '__str__',\n",
       " '__subclasshook__',\n",
       " '_asdict',\n",
       " '_field_defaults',\n",
       " '_fields',\n",
       " '_make',\n",
       " '_replace',\n",
       " 'age',\n",
       " 'count',\n",
       " 'dob',\n",
       " 'index',\n",
       " 'name']"
      ]
     },
     "execution_count": 38,
     "metadata": {},
     "output_type": "execute_result"
    }
   ],
   "source": [
    "dir(student_details2)"
   ]
  },
  {
   "cell_type": "code",
   "execution_count": 39,
   "metadata": {},
   "outputs": [
    {
     "name": "stdout",
     "output_type": "stream",
     "text": [
      "getattr(student_details2, 'name') ='Arjun'\n"
     ]
    }
   ],
   "source": [
    "print(f\"{getattr(student_details2, 'name') =}\")\n",
    "assert student_details2.name == getattr(student_details2, \"name\")\n",
    "assert student_details2.age == getattr(student_details2, \"age\")\n",
    "assert student_details2.dob == getattr(student_details2, \"dob\")"
   ]
  },
  {
   "cell_type": "code",
   "execution_count": 40,
   "metadata": {},
   "outputs": [
    {
     "ename": "IndexError",
     "evalue": "tuple index out of range",
     "output_type": "error",
     "traceback": [
      "\u001b[0;31m---------------------------------------------------------------------------\u001b[0m",
      "\u001b[0;31mIndexError\u001b[0m                                Traceback (most recent call last)",
      "Cell \u001b[0;32mIn[40], line 1\u001b[0m\n\u001b[0;32m----> 1\u001b[0m \u001b[43mstudent_details2\u001b[49m\u001b[43m[\u001b[49m\u001b[38;5;241;43m4\u001b[39;49m\u001b[43m]\u001b[49m\n",
      "\u001b[0;31mIndexError\u001b[0m: tuple index out of range"
     ]
    }
   ],
   "source": [
    "student_details2[4]"
   ]
  },
  {
   "cell_type": "code",
   "execution_count": 41,
   "metadata": {},
   "outputs": [],
   "source": [
    "if len(student_details2) >= 5:\n",
    "    print(student_details2[4])"
   ]
  },
  {
   "cell_type": "code",
   "execution_count": 42,
   "metadata": {},
   "outputs": [
    {
     "ename": "AttributeError",
     "evalue": "'Students' object has no attribute 'full_name'",
     "output_type": "error",
     "traceback": [
      "\u001b[0;31m---------------------------------------------------------------------------\u001b[0m",
      "\u001b[0;31mAttributeError\u001b[0m                            Traceback (most recent call last)",
      "Cell \u001b[0;32mIn[42], line 1\u001b[0m\n\u001b[0;32m----> 1\u001b[0m \u001b[43mstudent_details2\u001b[49m\u001b[38;5;241;43m.\u001b[39;49m\u001b[43mfull_name\u001b[49m\n",
      "\u001b[0;31mAttributeError\u001b[0m: 'Students' object has no attribute 'full_name'"
     ]
    }
   ],
   "source": [
    "student_details2.full_name"
   ]
  },
  {
   "cell_type": "code",
   "execution_count": 43,
   "metadata": {},
   "outputs": [
    {
     "name": "stdout",
     "output_type": "stream",
     "text": [
      "'full_name' in dir(student_details2) = False\n",
      "hasattr(student_details2, 'full_name') =False\n"
     ]
    }
   ],
   "source": [
    "print(f\"{'full_name' in dir(student_details2) = }\")\n",
    "print(f\"{hasattr(student_details2, 'full_name') =}\")"
   ]
  },
  {
   "cell_type": "code",
   "execution_count": 44,
   "metadata": {},
   "outputs": [
    {
     "name": "stdout",
     "output_type": "stream",
     "text": [
      "getattr(student_details2, 'dob') ='23/07/1992'\n"
     ]
    }
   ],
   "source": [
    "if hasattr(student_details2, \"full_name\"):\n",
    "    getattr(student_details2, \"full_name\")\n",
    "\n",
    "if hasattr(student_details2, \"dob\"):\n",
    "    print(f\"{getattr(student_details2, 'dob') =}\")"
   ]
  },
  {
   "cell_type": "code",
   "execution_count": null,
   "metadata": {},
   "outputs": [],
   "source": [
    "# Named Tuples are also immutable\n",
    "# student_details2[1] = 45            # TypeError: 'Students' object does not support item assignment\n",
    "# student_details2.age = 45           # AttributeError: can't set attribute\n",
    "# setattr(student_details2, 'age', 45)  # AttributeError: can't set attribute"
   ]
  },
  {
   "cell_type": "markdown",
   "metadata": {},
   "source": [
    "Unpacking\n",
    "- works when same no. of variables and values are present on both sides"
   ]
  },
  {
   "cell_type": "code",
   "execution_count": 45,
   "metadata": {},
   "outputs": [
    {
     "name": "stdout",
     "output_type": "stream",
     "text": [
      "num1 = 12  num2 = 34\n"
     ]
    }
   ],
   "source": [
    "num1 = 12\n",
    "num2 = 34\n",
    "print(f\"num1 = {num1}  num2 = {num2}\")"
   ]
  },
  {
   "cell_type": "code",
   "execution_count": 46,
   "metadata": {},
   "outputs": [
    {
     "name": "stdout",
     "output_type": "stream",
     "text": [
      "num1 = 12  num2 = 34\n"
     ]
    }
   ],
   "source": [
    "# unpacking\n",
    "num1, num2 = 12, 34\n",
    "print(f\"num1 = {num1}  num2 = {num2}\")"
   ]
  },
  {
   "cell_type": "code",
   "execution_count": 47,
   "metadata": {},
   "outputs": [
    {
     "name": "stdout",
     "output_type": "stream",
     "text": [
      "p1 = 99  p2 = 88 p3 = 66 p4 = 77 p5 = 44\n"
     ]
    }
   ],
   "source": [
    "p1, p2, p3, p4, p5 = 99, 88, 66, 77, 44\n",
    "print(f\"p1 = {p1}  p2 = {p2} p3 = {p3} p4 = {p4} p5 = {p5}\")"
   ]
  },
  {
   "cell_type": "code",
   "execution_count": 48,
   "metadata": {},
   "outputs": [
    {
     "name": "stdout",
     "output_type": "stream",
     "text": [
      "too many values to unpack (expected 4)\n"
     ]
    }
   ],
   "source": [
    "try:\n",
    "    p1, p2, p3, p4 = 99, 88, 66, 77, 44\n",
    "except ValueError as ex:\n",
    "    print(ex)"
   ]
  },
  {
   "cell_type": "code",
   "execution_count": 49,
   "metadata": {},
   "outputs": [
    {
     "name": "stdout",
     "output_type": "stream",
     "text": [
      "p=(99, 88, 66, 77, 44) type(p)=<class 'tuple'>\n"
     ]
    }
   ],
   "source": [
    "p = 99, 88, 66, 77, 44\n",
    "print(f\"p={p} type(p)={type(p)}\")"
   ]
  },
  {
   "cell_type": "markdown",
   "metadata": {},
   "source": [
    "flexible unpacking"
   ]
  },
  {
   "cell_type": "code",
   "execution_count": 50,
   "metadata": {},
   "outputs": [
    {
     "ename": "ValueError",
     "evalue": "too many values to unpack (expected 2)",
     "output_type": "error",
     "traceback": [
      "\u001b[0;31m---------------------------------------------------------------------------\u001b[0m",
      "\u001b[0;31mValueError\u001b[0m                                Traceback (most recent call last)",
      "Cell \u001b[0;32mIn[50], line 1\u001b[0m\n\u001b[0;32m----> 1\u001b[0m n1, n2 \u001b[38;5;241m=\u001b[39m \u001b[38;5;241m1\u001b[39m, \u001b[38;5;241m2\u001b[39m, \u001b[38;5;241m3\u001b[39m, \u001b[38;5;241m4\u001b[39m, \u001b[38;5;241m5\u001b[39m\n",
      "\u001b[0;31mValueError\u001b[0m: too many values to unpack (expected 2)"
     ]
    }
   ],
   "source": [
    "n1, n2 = 1, 2, 3, 4, 5"
   ]
  },
  {
   "cell_type": "code",
   "execution_count": 51,
   "metadata": {},
   "outputs": [
    {
     "name": "stdout",
     "output_type": "stream",
     "text": [
      "n1=1 \n",
      "n2=[2, 3, 4, 5]\n"
     ]
    }
   ],
   "source": [
    "n1, *n2 = 1, 2, 3, 4, 5\n",
    "print(f\"n1={n1} \\nn2={n2}\")"
   ]
  },
  {
   "cell_type": "code",
   "execution_count": 52,
   "metadata": {},
   "outputs": [
    {
     "name": "stdout",
     "output_type": "stream",
     "text": [
      "n1=1 \n",
      "n2=[2, 3, 4] \n",
      "n3=5\n"
     ]
    }
   ],
   "source": [
    "n1, *n2, n3 = 1, 2, 3, 4, 5\n",
    "print(f\"n1={n1} \\nn2={n2} \\nn3={n3}\")  # n2 is of type list"
   ]
  }
 ],
 "metadata": {
  "kernelspec": {
   "display_name": "Python 3",
   "language": "python",
   "name": "python3"
  },
  "language_info": {
   "codemirror_mode": {
    "name": "ipython",
    "version": 3
   },
   "file_extension": ".py",
   "mimetype": "text/x-python",
   "name": "python",
   "nbconvert_exporter": "python",
   "pygments_lexer": "ipython3",
   "version": "3.12.1"
  }
 },
 "nbformat": 4,
 "nbformat_minor": 2
}
