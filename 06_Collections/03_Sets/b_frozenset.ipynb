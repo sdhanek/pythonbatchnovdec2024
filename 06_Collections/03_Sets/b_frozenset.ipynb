{
 "cells": [
  {
   "cell_type": "markdown",
   "metadata": {},
   "source": [
    "Immutability"
   ]
  },
  {
   "cell_type": "code",
   "execution_count": 1,
   "metadata": {},
   "outputs": [
    {
     "name": "stdout",
     "output_type": "stream",
     "text": [
      "127508790893856 <class 'set'> {33, 11, 22}\n"
     ]
    }
   ],
   "source": [
    "ordinary_set = {11, 22, 33, 22}\n",
    "print(f\"{id(ordinary_set)} {type(ordinary_set)} {ordinary_set}\")"
   ]
  },
  {
   "cell_type": "code",
   "execution_count": 2,
   "metadata": {},
   "outputs": [
    {
     "name": "stdout",
     "output_type": "stream",
     "text": [
      "127508790893856 <class 'set'> {99, 33, 11, 22}\n"
     ]
    }
   ],
   "source": [
    "# As indexing is not possible, same goes with\n",
    "#  substitution\n",
    "\n",
    "ordinary_set.add(99)\n",
    "print(f\"{id(ordinary_set)} {type(ordinary_set)} {ordinary_set}\")"
   ]
  },
  {
   "cell_type": "code",
   "execution_count": null,
   "metadata": {},
   "outputs": [],
   "source": [
    "# Conclusion - In object changes are possible - so, mutable object"
   ]
  },
  {
   "cell_type": "code",
   "execution_count": 3,
   "metadata": {},
   "outputs": [
    {
     "name": "stdout",
     "output_type": "stream",
     "text": [
      "\n",
      " Frozenset is immutable\n",
      "127508790895872 <class 'frozenset'> frozenset({33, 11, 22})\n"
     ]
    }
   ],
   "source": [
    "print(\"\\n Frozenset is immutable\")\n",
    "fz_set = frozenset({11, 22, 33, 22})\n",
    "print(f\"{id(fz_set)} {type(fz_set)} {fz_set}\")"
   ]
  },
  {
   "cell_type": "code",
   "execution_count": 4,
   "metadata": {},
   "outputs": [
    {
     "name": "stdout",
     "output_type": "stream",
     "text": [
      "frozenset dont have set editable attributes\n"
     ]
    }
   ],
   "source": [
    "try:\n",
    "    fz_set.add(99)\n",
    "except AttributeError:\n",
    "    print(\"frozenset dont have set editable attributes\")"
   ]
  },
  {
   "cell_type": "code",
   "execution_count": 5,
   "metadata": {},
   "outputs": [
    {
     "name": "stdout",
     "output_type": "stream",
     "text": [
      "['__and__', '__class__', '__class_getitem__', '__contains__', '__delattr__', '__dir__', '__doc__', '__eq__', '__format__', '__ge__', '__getattribute__', '__getstate__', '__gt__', '__hash__', '__iand__', '__init__', '__init_subclass__', '__ior__', '__isub__', '__iter__', '__ixor__', '__le__', '__len__', '__lt__', '__ne__', '__new__', '__or__', '__rand__', '__reduce__', '__reduce_ex__', '__repr__', '__ror__', '__rsub__', '__rxor__', '__setattr__', '__sizeof__', '__str__', '__sub__', '__subclasshook__', '__xor__', 'add', 'clear', 'copy', 'difference', 'difference_update', 'discard', 'intersection', 'intersection_update', 'isdisjoint', 'issubset', 'issuperset', 'pop', 'remove', 'symmetric_difference', 'symmetric_difference_update', 'union', 'update']\n",
      "\n",
      "['__and__', '__class__', '__class_getitem__', '__contains__', '__delattr__', '__dir__', '__doc__', '__eq__', '__format__', '__ge__', '__getattribute__', '__getstate__', '__gt__', '__hash__', '__init__', '__init_subclass__', '__iter__', '__le__', '__len__', '__lt__', '__ne__', '__new__', '__or__', '__rand__', '__reduce__', '__reduce_ex__', '__repr__', '__ror__', '__rsub__', '__rxor__', '__setattr__', '__sizeof__', '__str__', '__sub__', '__subclasshook__', '__xor__', 'copy', 'difference', 'intersection', 'isdisjoint', 'issubset', 'issuperset', 'symmetric_difference', 'union']\n"
     ]
    }
   ],
   "source": [
    "print(dir(ordinary_set))\n",
    "print()\n",
    "print(dir(fz_set))"
   ]
  },
  {
   "cell_type": "markdown",
   "metadata": {},
   "source": [
    "# Assignment: is set.copy(), a soft copy or deepcopy?\n",
    "set.copy() is a (soft copy).\n",
    "It creates a new set with references to the same objects (if the set contains mutable-like objects such as frozensets)."
   ]
  },
  {
   "cell_type": "code",
   "execution_count": 6,
   "metadata": {},
   "outputs": [
    {
     "name": "stdout",
     "output_type": "stream",
     "text": [
      "sets cant be stored in sets - As sets are mutable \n"
     ]
    }
   ],
   "source": [
    "try:\n",
    "    new_set = {1, 2, {2, 3}}\n",
    "except TypeError:\n",
    "    print(\"sets cant be stored in sets - As sets are mutable \")"
   ]
  },
  {
   "cell_type": "code",
   "execution_count": 7,
   "metadata": {},
   "outputs": [
    {
     "name": "stdout",
     "output_type": "stream",
     "text": [
      "new_set ={1, 2, frozenset({2, 3})}\n"
     ]
    }
   ],
   "source": [
    "new_set = {1, 2, frozenset({2, 3})}\n",
    "print(f\"{new_set =}\")\n",
    "# NOTE: frozenset can be stored in sets - As frozenset is immutable"
   ]
  },
  {
   "cell_type": "markdown",
   "metadata": {},
   "source": [
    "hashability and hash() function"
   ]
  },
  {
   "cell_type": "code",
   "execution_count": 8,
   "metadata": {},
   "outputs": [
    {
     "name": "stdout",
     "output_type": "stream",
     "text": [
      "hash(123) =123\n"
     ]
    }
   ],
   "source": [
    "print(f\"{hash(123) =}\")\n",
    "assert (123).__hash__() == hash(123)"
   ]
  },
  {
   "cell_type": "code",
   "execution_count": 9,
   "metadata": {},
   "outputs": [],
   "source": [
    "# my_set = {1, 2, [3, 4]}  # TypeError: unhashable type: 'list'\n",
    "# my_set = {1, 2, {3, 4}}  # TypeError: unhashable type: 'set'\n",
    "# my_set = {1, 2, {3:4}}    # TypeError: unhashable type: 'dict'"
   ]
  },
  {
   "cell_type": "code",
   "execution_count": 10,
   "metadata": {},
   "outputs": [
    {
     "name": "stdout",
     "output_type": "stream",
     "text": [
      "my_set ={-0.98798, 1, (23+3j), None, False, (1, 2), frozenset({3, 4})}\n"
     ]
    }
   ],
   "source": [
    "my_set = {1, 2, frozenset({3, 4})}\n",
    "my_set = {1, 2, tuple({3, 4})}\n",
    "my_set = {1, -0.98798, 23 + 3j, False, None, (1, 2), frozenset((3, 4))}\n",
    "print(f\"{my_set =}\")"
   ]
  },
  {
   "cell_type": "code",
   "execution_count": 11,
   "metadata": {},
   "outputs": [
    {
     "name": "stdout",
     "output_type": "stream",
     "text": [
      "<class 'int'>  1 1\n",
      "<class 'float'>  -2278126776242945280 -0.98798\n",
      "<class 'complex'>  3000032 (23+3j)\n",
      "<class 'bool'>  0 False\n",
      "<class 'NoneType'>  4238894112 None\n",
      "<class 'tuple'>  -3550055125485641917 (1, 2)\n",
      "<class 'frozenset'>  -8296090686598762464 frozenset({3, 4})\n",
      "\t [1, 2] unhashable type: 'list'\n",
      "\t {2, 3} unhashable type: 'set'\n",
      "\t {2: 3} unhashable type: 'dict'\n"
     ]
    }
   ],
   "source": [
    "data = [\n",
    "    1,\n",
    "    -0.98798,\n",
    "    23 + 3j,\n",
    "    False,\n",
    "    None,\n",
    "    (1, 2),\n",
    "    frozenset((3, 4)),\n",
    "    [1, 2],\n",
    "    {2, 3},\n",
    "    {2: 3},\n",
    "]\n",
    "for each_data in data:\n",
    "    try:\n",
    "        print(f\"{type(each_data)}  {hash(each_data)} {each_data}\")\n",
    "    except TypeError as ex:\n",
    "        print('\\t', each_data, ex)"
   ]
  },
  {
   "cell_type": "code",
   "execution_count": 12,
   "metadata": {},
   "outputs": [
    {
     "name": "stdout",
     "output_type": "stream",
     "text": [
      "hash(123)              = 123\n",
      "hash(-0.2323)          = -535647331040341120\n",
      "hash(2 + 3j)           = 3000011\n",
      "hash(True)             = 1\n",
      "hash(None)             = 4238894112\n",
      "hash((3,4))            = 1079245023883434373\n",
      "hash(frozenset((3,4))) = -8296090686598762464\n"
     ]
    }
   ],
   "source": [
    "# Immutable object\n",
    "print(f\"{hash(123)              = }\")\n",
    "print(f\"{hash(-0.2323)          = }\")\n",
    "print(f\"{hash(2 + 3j)           = }\")\n",
    "print(f\"{hash(True)             = }\")\n",
    "print(f\"{hash(None)             = }\")\n",
    "\n",
    "print(f\"{hash((3,4))            = }\")\n",
    "\n",
    "print(f\"{hash(frozenset((3,4))) = }\")"
   ]
  },
  {
   "cell_type": "code",
   "execution_count": 13,
   "metadata": {},
   "outputs": [
    {
     "name": "stdout",
     "output_type": "stream",
     "text": [
      "hash(123)              = 123\n",
      "hash(-0.2323)          = -535647331040341120\n",
      "hash(2 + 3j)           = 3000011\n",
      "hash(True)             = 1\n",
      "hash(None)             = 4238894112\n",
      "hash((3,4))            = 1079245023883434373\n",
      "hash(frozenset((3,4))) = -8296090686598762464\n"
     ]
    }
   ],
   "source": [
    "# Immutable object\n",
    "print(f\"{hash(123)              = }\")\n",
    "print(f\"{hash(-0.2323)          = }\")\n",
    "print(f\"{hash(2 + 3j)           = }\")\n",
    "print(f\"{hash(True)             = }\")\n",
    "print(f\"{hash(None)             = }\")\n",
    "\n",
    "print(f\"{hash((3,4))            = }\")\n",
    "\n",
    "print(f\"{hash(frozenset((3,4))) = }\")"
   ]
  },
  {
   "cell_type": "code",
   "execution_count": 14,
   "metadata": {},
   "outputs": [
    {
     "name": "stdout",
     "output_type": "stream",
     "text": [
      "[1, 2] unhashable type: 'list'\n",
      "{3, 4} unhashable type: 'set'\n",
      "{'a': 1} unhashable type: 'dict'\n"
     ]
    }
   ],
   "source": [
    "# Mutable Objects\n",
    "for each_obj in [[1, 2], {3, 4}, {\"a\": 1}]:\n",
    "    try:\n",
    "        hash(each_obj)\n",
    "    except TypeError as ex:\n",
    "        print(each_obj, ex)\n",
    "\n",
    "# Conclusion\n",
    "# 1. hash can be created for immutable objects only\n",
    "# so, immutable objects are also called hashable objects"
   ]
  },
  {
   "cell_type": "code",
   "execution_count": 15,
   "metadata": {},
   "outputs": [
    {
     "ename": "TypeError",
     "evalue": "unhashable type: 'list'",
     "output_type": "error",
     "traceback": [
      "\u001b[0;31m---------------------------------------------------------------------------\u001b[0m",
      "\u001b[0;31mTypeError\u001b[0m                                 Traceback (most recent call last)",
      "Cell \u001b[0;32mIn[15], line 3\u001b[0m\n\u001b[1;32m      1\u001b[0m numbers \u001b[38;5;241m=\u001b[39m (\u001b[38;5;241m1\u001b[39m, \u001b[38;5;241m2\u001b[39m, \u001b[38;5;241m3\u001b[39m, \u001b[38;5;241m4\u001b[39m, \u001b[38;5;241m5\u001b[39m, \u001b[38;5;241m6\u001b[39m, (\u001b[38;5;241m7\u001b[39m, \u001b[38;5;241m8\u001b[39m, (\u001b[38;5;241m9\u001b[39m, [\u001b[38;5;241m10\u001b[39m])))\n\u001b[0;32m----> 3\u001b[0m \u001b[38;5;28;43mhash\u001b[39;49m\u001b[43m(\u001b[49m\u001b[43mnumbers\u001b[49m\u001b[43m)\u001b[49m\n",
      "\u001b[0;31mTypeError\u001b[0m: unhashable type: 'list'"
     ]
    }
   ],
   "source": [
    "numbers = (1, 2, 3, 4, 5, 6, (7, 8, (9, [10])))\n",
    "\n",
    "hash(numbers)"
   ]
  }
 ],
 "metadata": {
  "kernelspec": {
   "display_name": "Python 3",
   "language": "python",
   "name": "python3"
  },
  "language_info": {
   "codemirror_mode": {
    "name": "ipython",
    "version": 3
   },
   "file_extension": ".py",
   "mimetype": "text/x-python",
   "name": "python",
   "nbconvert_exporter": "python",
   "pygments_lexer": "ipython3",
   "version": "3.12.1"
  }
 },
 "nbformat": 4,
 "nbformat_minor": 2
}
