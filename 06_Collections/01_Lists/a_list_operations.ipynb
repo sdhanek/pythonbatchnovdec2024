{
 "cells": [
  {
   "cell_type": "markdown",
   "metadata": {},
   "source": [
    "Lists\n",
    "    List is representing using [].\n",
    "    Lists can store any no.of different data types together.\n",
    "    List can be classified as single-dimensional and multi-dimensional.\n",
    "    List is a mutable object, which means elements in list can be changed.\n",
    "    It can store asymmetric data types"
   ]
  },
  {
   "cell_type": "code",
   "execution_count": 5,
   "metadata": {},
   "outputs": [
    {
     "name": "stdout",
     "output_type": "stream",
     "text": [
      "<class 'list'> empty_list = []\n",
      "len(empty_list) =0\n"
     ]
    }
   ],
   "source": [
    "empty_list = []\n",
    "\n",
    "print(f\"{type(empty_list)} {empty_list = }\")\n",
    "print(f\"{len(empty_list) =}\")"
   ]
  },
  {
   "cell_type": "code",
   "execution_count": 6,
   "metadata": {},
   "outputs": [
    {
     "name": "stdout",
     "output_type": "stream",
     "text": [
      "\n",
      "<class 'list'> numbers =[12, 334, 23, 2, -323]\n",
      "len(numbers) =5\n"
     ]
    }
   ],
   "source": [
    "# Homogenous list\n",
    "numbers = [12, 334, 23, 2, -323]\n",
    "print(f\"\\n{type(numbers)} {numbers =}\")\n",
    "print(f\"{len(numbers) =}\")"
   ]
  },
  {
   "cell_type": "code",
   "execution_count": 7,
   "metadata": {},
   "outputs": [
    {
     "name": "stdout",
     "output_type": "stream",
     "text": [
      "\n",
      "<class 'list'> numbers =[12, 3.4, -4e-05, 434243432432, 'abc', True, 13.166666666666666, '4 + 55 / 6']\n",
      "len(numbers) =8\n"
     ]
    }
   ],
   "source": [
    "# non-homogenous\n",
    "numbers = [12, 3.4, -0.00004, 434243432432, \"abc\", True, 4 + 55 / 6, \"4 + 55 / 6\"]\n",
    "print(f\"\\n{type(numbers)} {numbers =}\")\n",
    "print(f\"{len(numbers) =}\")"
   ]
  },
  {
   "cell_type": "code",
   "execution_count": 8,
   "metadata": {},
   "outputs": [
    {
     "name": "stdout",
     "output_type": "stream",
     "text": [
      "\n",
      "<class 'list'> ml =[1, 2, 3, 4.3, 5, [6, 7, 8, (9, 10)]]\n",
      "len(ml) =6\n"
     ]
    }
   ],
   "source": [
    "# multi-dimensional lists\n",
    "ml = [1, 2, 3, 4.3, 5, [6, 7, 8, (9, 10)]]\n",
    "#     0  1  2   3   4  -------5---------\n",
    "#                       0  1  2   --3--\n",
    "#                                 0   1\n",
    "\n",
    "print(f\"\\n{type(ml)} {ml =}\")\n",
    "print(f\"{len(ml) =}\")"
   ]
  },
  {
   "cell_type": "code",
   "execution_count": 9,
   "metadata": {},
   "outputs": [
    {
     "name": "stdout",
     "output_type": "stream",
     "text": [
      "<class 'float'> ml[3] =4.3\n",
      "<class 'int'> ml[4] =5\n"
     ]
    }
   ],
   "source": [
    "print(f\"{type(ml[3])} {ml[3] =}\")\n",
    "print(f\"{type(ml[4])} {ml[4] =}\")"
   ]
  },
  {
   "cell_type": "code",
   "execution_count": 10,
   "metadata": {},
   "outputs": [
    {
     "name": "stdout",
     "output_type": "stream",
     "text": [
      "\n",
      "<class 'list'> ml[5] =[6, 7, 8, (9, 10)]\n",
      "<class 'int'> ml[5][1] =7\n",
      "<class 'tuple'> ml[5][3] =(9, 10)\n"
     ]
    }
   ],
   "source": [
    "print(f\"\\n{type(ml[5])} {ml[5] =}\")\n",
    "print(f\"{type(ml[5][1])} {ml[5][1] =}\")\n",
    "print(f\"{type(ml[5][3])} {ml[5][3] =}\")"
   ]
  },
  {
   "cell_type": "code",
   "execution_count": 11,
   "metadata": {},
   "outputs": [
    {
     "data": {
      "text/plain": [
       "[6, 7, 8, (9, 10)]"
      ]
     },
     "execution_count": 11,
     "metadata": {},
     "output_type": "execute_result"
    }
   ],
   "source": [
    "ml = [1, 2, 3, 4.3, 5, [6, 7, 8, (9, 10)]]\n",
    "#     0  1  2   3   4  -------5---------\n",
    "#                       0  1  2   --3--\n",
    "#                                 0   1\n",
    "\n",
    "ml[5]"
   ]
  },
  {
   "cell_type": "code",
   "execution_count": 12,
   "metadata": {},
   "outputs": [
    {
     "data": {
      "text/plain": [
       "(9, 10)"
      ]
     },
     "execution_count": 12,
     "metadata": {},
     "output_type": "execute_result"
    }
   ],
   "source": [
    "ml[5][3]"
   ]
  },
  {
   "cell_type": "code",
   "execution_count": 13,
   "metadata": {},
   "outputs": [
    {
     "data": {
      "text/plain": [
       "9"
      ]
     },
     "execution_count": 13,
     "metadata": {},
     "output_type": "execute_result"
    }
   ],
   "source": [
    "ml[5][3][0]"
   ]
  },
  {
   "cell_type": "code",
   "execution_count": 14,
   "metadata": {},
   "outputs": [
    {
     "data": {
      "text/plain": [
       "[1, 2, 3, 4.3, 5, [6, 7, 8, (9, 10)]]"
      ]
     },
     "execution_count": 14,
     "metadata": {},
     "output_type": "execute_result"
    }
   ],
   "source": [
    "# forward vs reverse indexing\n",
    "# [1, 2, 3, 4.3, 5, [6,  7,  8, (9, 10)]]\n",
    "# -6 -5  -4  -3  -2  ------- -1 -------  - reverse indexing\n",
    "#                   -4  -3  -2  -- -1 --\n",
    "#                               -2  -1\n",
    "\n",
    "# 0  1  2   3   4  -------5--------- - forward indexing\n",
    "\n",
    "\n",
    "ml"
   ]
  },
  {
   "cell_type": "code",
   "execution_count": 15,
   "metadata": {},
   "outputs": [
    {
     "data": {
      "text/plain": [
       "9"
      ]
     },
     "execution_count": 15,
     "metadata": {},
     "output_type": "execute_result"
    }
   ],
   "source": [
    "ml[-1][-1][-2]"
   ]
  },
  {
   "cell_type": "code",
   "execution_count": 16,
   "metadata": {},
   "outputs": [
    {
     "name": "stdout",
     "output_type": "stream",
     "text": [
      "True\n"
     ]
    }
   ],
   "source": [
    "print(ml[-5] == ml[1])\n",
    "assert ml[-5] == ml[1]"
   ]
  },
  {
   "cell_type": "code",
   "execution_count": 17,
   "metadata": {},
   "outputs": [
    {
     "name": "stdout",
     "output_type": "stream",
     "text": [
      "\n",
      "ml[1:4]       [2, 3, 4.3]\n",
      "ml[1:4:2]     [2, 4.3]\n"
     ]
    }
   ],
   "source": [
    "# Slicing - last value in boundary will not be included\n",
    "# [start_index, final_index, step]\n",
    "# default start_index = 0 ; final_index = len(list); step = 1\n",
    "print(\"\\nml[1:4]      \", ml[1:4])\n",
    "print(\"ml[1:4:2]    \", ml[1:4:2])"
   ]
  },
  {
   "cell_type": "markdown",
   "metadata": {},
   "source": [
    "mutability\n",
    "Mutable objects: List, set, dict\n",
    "immutable objects: int, float, str, bool, None, tuple, frozenset, iterator"
   ]
  },
  {
   "cell_type": "code",
   "execution_count": 18,
   "metadata": {},
   "outputs": [
    {
     "name": "stdout",
     "output_type": "stream",
     "text": [
      "num1 =1234 <class 'int'> id(num1)=139785866953200\n"
     ]
    }
   ],
   "source": [
    "num1 = 1234\n",
    "print(f\"{num1 =} {type(num1)} {id(num1)=}\")  "
   ]
  },
  {
   "cell_type": "code",
   "execution_count": 19,
   "metadata": {},
   "outputs": [
    {
     "name": "stdout",
     "output_type": "stream",
     "text": [
      "num1 =1234 <class 'int'> id(num1)=139785866953232\n"
     ]
    }
   ],
   "source": [
    "num1 = 1234\n",
    "print(f\"{num1 =} {type(num1)} {id(num1)=}\")  "
   ]
  },
  {
   "cell_type": "code",
   "execution_count": 20,
   "metadata": {},
   "outputs": [
    {
     "name": "stdout",
     "output_type": "stream",
     "text": [
      "\n",
      "String is a immutable object ===\n",
      "name         :Raj Sekhar\n",
      "name[0:3]    :Raj\n"
     ]
    }
   ],
   "source": [
    "print(\"\\nString is a immutable object ===\")\n",
    "name = \"Raj Sekhar\"\n",
    "print(f\"name         :{name}\")\n",
    "print(f\"name[0:3]    :{name[0:3]}\")"
   ]
  },
  {
   "cell_type": "code",
   "execution_count": 21,
   "metadata": {},
   "outputs": [
    {
     "name": "stdout",
     "output_type": "stream",
     "text": [
      "id(name) = 139785866915760\n",
      "id(name) = 139785866915632\n"
     ]
    }
   ],
   "source": [
    "print(f'{id(name) = }')\n",
    "name = \"Tej Sekhar\"      # OVERwriting\n",
    "print(f'{id(name) = }')"
   ]
  },
  {
   "cell_type": "code",
   "execution_count": 22,
   "metadata": {},
   "outputs": [
    {
     "name": "stdout",
     "output_type": "stream",
     "text": [
      "\n",
      "List is a mutable object =======\n",
      "ml            [1, 2, 3, 4.3, 5, [6, 7, 8, (9, 10)]]\n",
      "type(ml)      <class 'list'>\n",
      "id(ml)        139785866910592\n"
     ]
    }
   ],
   "source": [
    "# multi-dimensional lists\n",
    "ml = [1, 2, 3, 4.3, 5, [6, 7, 8, (9, 10)]]\n",
    "#     0  1  2   3   4  --------5--------\n",
    "#                       0  1  2   --3--\n",
    "#                                 0   1\n",
    "print()\n",
    "print(\"List is a mutable object =======\")\n",
    "print(\"ml           \", ml)          # value\n",
    "print(\"type(ml)     \", type(ml))    # data type\n",
    "print(\"id(ml)       \", id(ml))      # address location - 124128827219584"
   ]
  },
  {
   "cell_type": "code",
   "execution_count": 23,
   "metadata": {},
   "outputs": [
    {
     "data": {
      "text/plain": [
       "4.3"
      ]
     },
     "execution_count": 23,
     "metadata": {},
     "output_type": "execute_result"
    }
   ],
   "source": [
    "ml[3]"
   ]
  },
  {
   "cell_type": "code",
   "execution_count": 17,
   "metadata": {},
   "outputs": [],
   "source": [
    "ml[3] = 3.4"
   ]
  },
  {
   "cell_type": "code",
   "execution_count": 24,
   "metadata": {},
   "outputs": [
    {
     "name": "stdout",
     "output_type": "stream",
     "text": [
      "id(ml)        139785866910592\n"
     ]
    }
   ],
   "source": [
    "print(\"id(ml)       \", id(ml))      # address location - 124128827219584"
   ]
  },
  {
   "cell_type": "code",
   "execution_count": 25,
   "metadata": {},
   "outputs": [],
   "source": [
    "# NOTE: address is not changed. but value is updated -- INplace change DONE"
   ]
  },
  {
   "cell_type": "markdown",
   "metadata": {},
   "source": [
    "List Attributes"
   ]
  },
  {
   "cell_type": "code",
   "execution_count": 26,
   "metadata": {},
   "outputs": [
    {
     "name": "stdout",
     "output_type": "stream",
     "text": [
      "type(numbers)    = <class 'list'>\n",
      "dir(numbers)     = ['__add__', '__class__', '__class_getitem__', '__contains__', '__delattr__', '__delitem__', '__dir__', '__doc__', '__eq__', '__format__', '__ge__', '__getattribute__', '__getitem__', '__getstate__', '__gt__', '__hash__', '__iadd__', '__imul__', '__init__', '__init_subclass__', '__iter__', '__le__', '__len__', '__lt__', '__mul__', '__ne__', '__new__', '__reduce__', '__reduce_ex__', '__repr__', '__reversed__', '__rmul__', '__setattr__', '__setitem__', '__sizeof__', '__str__', '__subclasshook__', 'append', 'clear', 'copy', 'count', 'extend', 'index', 'insert', 'pop', 'remove', 'reverse', 'sort']\n"
     ]
    }
   ],
   "source": [
    "numbers = [88, 99, 666]\n",
    "\n",
    "print(\"type(numbers)    =\", type(numbers))\n",
    "print(\"dir(numbers)     =\", dir(numbers))\n"
   ]
  },
  {
   "cell_type": "code",
   "execution_count": 27,
   "metadata": {},
   "outputs": [
    {
     "name": "stdout",
     "output_type": "stream",
     "text": [
      "len(numbers)            = 3\n",
      "numbers.__len__()       = 3\n"
     ]
    }
   ],
   "source": [
    "print(\"len(numbers)            =\", len(numbers))\n",
    "print(\"numbers.__len__()       =\", numbers.__len__())\n",
    "assert len(numbers) == numbers.__len__()\n"
   ]
  },
  {
   "cell_type": "code",
   "execution_count": 28,
   "metadata": {},
   "outputs": [
    {
     "name": "stdout",
     "output_type": "stream",
     "text": [
      "str(numbers)           = [88, 99, 666]\n",
      "type(str(numbers))     = <class 'str'>\n",
      "numbers.__str__()      = [88, 99, 666]\n",
      "type(numbers.__str__())= <class 'str'>\n"
     ]
    }
   ],
   "source": [
    "print(\"str(numbers)           =\", str(numbers))\n",
    "print(\"type(str(numbers))     =\", type(str(numbers)))\n",
    "print(\"numbers.__str__()      =\", numbers.__str__())\n",
    "print(\"type(numbers.__str__())=\", type(numbers.__str__()))\n",
    "assert str(numbers) == numbers.__str__()"
   ]
  },
  {
   "cell_type": "code",
   "execution_count": 29,
   "metadata": {},
   "outputs": [
    {
     "name": "stdout",
     "output_type": "stream",
     "text": [
      "numbers * 3         = [88, 99, 666, 88, 99, 666, 88, 99, 666]\n",
      "numbers             = [88, 99, 666]\n",
      "numbers.__mul__(3)  = [88, 99, 666, 88, 99, 666, 88, 99, 666]\n",
      "numbers             = [88, 99, 666]\n"
     ]
    }
   ],
   "source": [
    "# List Repetion operation\n",
    "print(\"numbers * 3         =\", numbers * 3)  # original object not modified\n",
    "print(\"numbers             =\", numbers)\n",
    "# original object not modified\n",
    "print(\"numbers.__mul__(3)  =\", numbers.__mul__(3))\n",
    "print(\"numbers             =\", numbers)\n",
    "assert numbers * 3 == numbers.__mul__(3)"
   ]
  },
  {
   "cell_type": "code",
   "execution_count": 30,
   "metadata": {},
   "outputs": [
    {
     "name": "stdout",
     "output_type": "stream",
     "text": [
      "id(numbers)          = 139785866854208\n",
      "id(numbers)          = 139785866844352\n",
      "id(numbers)          = 139785866846528\n"
     ]
    }
   ],
   "source": [
    "print(\"id(numbers)          =\", id(numbers))\n",
    "# object overwriting\n",
    "numbers = [88, 99, 666]\n",
    "print(\"id(numbers)          =\", id(numbers))\n",
    "numbers = [88, 99, 666]\n",
    "print(\"id(numbers)          =\", id(numbers))"
   ]
  },
  {
   "cell_type": "code",
   "execution_count": 25,
   "metadata": {},
   "outputs": [],
   "source": [
    "# NOTE: overwriting will everytime change the address of the object, in datastcurure\n",
    "\n",
    "# Assignment: try checking the overwriting address change in all data types"
   ]
  },
  {
   "cell_type": "code",
   "execution_count": 31,
   "metadata": {},
   "outputs": [
    {
     "name": "stdout",
     "output_type": "stream",
     "text": [
      "Data Type: Integer\n",
      "Initial Address: 97880194206600\n",
      "Address After Overwriting: 97880194208744\n",
      "--------------------------------------------------\n",
      "Data Type: Float\n",
      "Initial Address: 139785882694896\n",
      "Address After Overwriting: 139786435018512\n",
      "--------------------------------------------------\n",
      "Data Type: String\n",
      "Initial Address: 139785872305264\n",
      "Address After Overwriting: 139785872303488\n",
      "--------------------------------------------------\n",
      "Data Type: List\n",
      "Initial Address: 139785866934464\n",
      "Address After Overwriting: 139785866934656\n",
      "--------------------------------------------------\n",
      "Data Type: Tuple\n",
      "Initial Address: 139785866894976\n",
      "Address After Overwriting: 139785866891968\n",
      "--------------------------------------------------\n",
      "Data Type: Dictionary\n",
      "Initial Address: 139785866924992\n",
      "Address After Overwriting: 139785866925312\n",
      "--------------------------------------------------\n",
      "Data Type: Set\n",
      "Initial Address: 139785868580832\n",
      "Address After Overwriting: 139785868583296\n",
      "--------------------------------------------------\n",
      "Data Type: Boolean\n",
      "Initial Address: 97880193168288\n",
      "Address After Overwriting: 97880193168320\n",
      "--------------------------------------------------\n",
      "Data Type: NoneType\n",
      "Initial Address: 97880193261280\n",
      "Address After Overwriting: 97880193261280\n",
      "--------------------------------------------------\n"
     ]
    }
   ],
   "source": [
    "# Checking the address changes during overwriting for different Data Types\n",
    "def check_address_change(data_type, initial_value, new_value):\n",
    "    print(f\"Data Type: {data_type}\")\n",
    "    obj = initial_value\n",
    "    print(f\"Initial Address: {id(obj)}\")\n",
    "    obj = new_value\n",
    "    print(f\"Address After Overwriting: {id(obj)}\")\n",
    "    print(\"-\" * 50)\n",
    "\n",
    "# Integer\n",
    "check_address_change(\"Integer\", 32, 99)\n",
    "\n",
    "# Float\n",
    "check_address_change(\"Float\", 3.14, 6.28)\n",
    "\n",
    "# String\n",
    "check_address_change(\"String\", \"Hello\", \"World\")\n",
    "\n",
    "# List\n",
    "check_address_change(\"List\", [1, 2, 3], [4, 5, 6])\n",
    "\n",
    "# Tuple\n",
    "check_address_change(\"Tuple\", (1, 2, 3), (4, 5, 6))\n",
    "\n",
    "# Dictionary\n",
    "check_address_change(\"Dictionary\", {\"a\": 1, \"b\": 2}, {\"x\": 10, \"y\": 20})\n",
    "\n",
    "# Set\n",
    "check_address_change(\"Set\", {1, 2, 3}, {4, 5, 6})\n",
    "\n",
    "# Boolean\n",
    "check_address_change(\"Boolean\", True, False)\n",
    "\n",
    "# NoneType\n",
    "check_address_change(\"NoneType\", None, None)\n"
   ]
  },
  {
   "cell_type": "code",
   "execution_count": 32,
   "metadata": {},
   "outputs": [
    {
     "name": "stdout",
     "output_type": "stream",
     "text": [
      "id(number)          = 139785866954160\n",
      "id(number)          = 139785866952976\n"
     ]
    }
   ],
   "source": [
    "number = 123312\n",
    "print(\"id(number)          =\", id(number))\n",
    "number = 99999\n",
    "print(\"id(number)          =\", id(number))"
   ]
  },
  {
   "cell_type": "code",
   "execution_count": 33,
   "metadata": {},
   "outputs": [],
   "source": [
    "# list concatenation\n",
    "alphabets = [\"b\", \"c\"]"
   ]
  },
  {
   "cell_type": "code",
   "execution_count": 34,
   "metadata": {},
   "outputs": [
    {
     "data": {
      "text/plain": [
       "[88, 99, 666]"
      ]
     },
     "execution_count": 34,
     "metadata": {},
     "output_type": "execute_result"
    }
   ],
   "source": [
    "numbers"
   ]
  },
  {
   "cell_type": "code",
   "execution_count": 35,
   "metadata": {},
   "outputs": [
    {
     "data": {
      "text/plain": [
       "[88, 99, 666, 'b', 'c']"
      ]
     },
     "execution_count": 35,
     "metadata": {},
     "output_type": "execute_result"
    }
   ],
   "source": [
    "numbers + alphabets"
   ]
  },
  {
   "cell_type": "code",
   "execution_count": 36,
   "metadata": {},
   "outputs": [],
   "source": [
    "# NOTE: list concatenation will create new object;\n",
    "# original objects are not changed"
   ]
  },
  {
   "cell_type": "code",
   "execution_count": 37,
   "metadata": {},
   "outputs": [
    {
     "data": {
      "text/plain": [
       "[88, 99, 666, 'b', 'c']"
      ]
     },
     "execution_count": 37,
     "metadata": {},
     "output_type": "execute_result"
    }
   ],
   "source": [
    "numbers.__add__(alphabets)"
   ]
  },
  {
   "cell_type": "code",
   "execution_count": 38,
   "metadata": {},
   "outputs": [
    {
     "data": {
      "text/plain": [
       "[88, 99, 666, 'b', 'c']"
      ]
     },
     "execution_count": 38,
     "metadata": {},
     "output_type": "execute_result"
    }
   ],
   "source": [
    "numbers.__iadd__(alphabets)  # numbers += alphabets"
   ]
  },
  {
   "cell_type": "code",
   "execution_count": 39,
   "metadata": {},
   "outputs": [
    {
     "name": "stdout",
     "output_type": "stream",
     "text": [
      "numbers.__contains__(12) = False\n",
      "12 in numbers            = False\n",
      "numbers.__contains__('b') = True\n",
      "'b' in numbers            = True\n"
     ]
    }
   ],
   "source": [
    "# Membership check -in\n",
    "\n",
    "print(\"numbers.__contains__(12) =\", numbers.__contains__(12))\n",
    "print(\"12 in numbers            =\", 12 in numbers)\n",
    "\n",
    "print(\"numbers.__contains__('b') =\", numbers.__contains__(\"b\"))\n",
    "print(\"'b' in numbers            =\", \"b\" in numbers)"
   ]
  },
  {
   "cell_type": "code",
   "execution_count": 40,
   "metadata": {},
   "outputs": [
    {
     "data": {
      "text/plain": [
       "104"
      ]
     },
     "execution_count": 40,
     "metadata": {},
     "output_type": "execute_result"
    }
   ],
   "source": [
    "numbers.__sizeof__()"
   ]
  },
  {
   "cell_type": "code",
   "execution_count": 41,
   "metadata": {},
   "outputs": [
    {
     "name": "stdout",
     "output_type": "stream",
     "text": [
      "numbers.__sizeof__()  =104\n",
      "sys.getsizeof(numbers)=120\n"
     ]
    }
   ],
   "source": [
    "print(f\"{numbers.__sizeof__()  =}\")  # bytes\n",
    "\n",
    "import sys\n",
    "print(f\"{sys.getsizeof(numbers)=}\")  # bytes - object + c header\n",
    "# python favours - Jython(java), Cpython(c), Ironthon(.net)"
   ]
  },
  {
   "cell_type": "code",
   "execution_count": 42,
   "metadata": {},
   "outputs": [
    {
     "data": {
      "text/plain": [
       "'Built-in mutable sequence.\\n\\nIf no argument is given, the constructor creates a new empty list.\\nThe argument must be an iterable if specified.'"
      ]
     },
     "execution_count": 42,
     "metadata": {},
     "output_type": "execute_result"
    }
   ],
   "source": [
    "numbers.__doc__"
   ]
  },
  {
   "cell_type": "code",
   "execution_count": 43,
   "metadata": {},
   "outputs": [
    {
     "name": "stdout",
     "output_type": "stream",
     "text": [
      "Built-in mutable sequence.\n",
      "\n",
      "If no argument is given, the constructor creates a new empty list.\n",
      "The argument must be an iterable if specified.\n"
     ]
    }
   ],
   "source": [
    "print(numbers.__doc__)"
   ]
  },
  {
   "cell_type": "code",
   "execution_count": 44,
   "metadata": {},
   "outputs": [
    {
     "name": "stdout",
     "output_type": "stream",
     "text": [
      "Help on list object:\n",
      "\n",
      "class list(object)\n",
      " |  list(iterable=(), /)\n",
      " |\n",
      " |  Built-in mutable sequence.\n",
      " |\n",
      " |  If no argument is given, the constructor creates a new empty list.\n",
      " |  The argument must be an iterable if specified.\n",
      " |\n",
      " |  Methods defined here:\n",
      " |\n",
      " |  __add__(self, value, /)\n",
      " |      Return self+value.\n",
      " |\n",
      " |  __contains__(self, key, /)\n",
      " |      Return bool(key in self).\n",
      " |\n",
      " |  __delitem__(self, key, /)\n",
      " |      Delete self[key].\n",
      " |\n",
      " |  __eq__(self, value, /)\n",
      " |      Return self==value.\n",
      " |\n",
      " |  __ge__(self, value, /)\n",
      " |      Return self>=value.\n",
      " |\n",
      " |  __getattribute__(self, name, /)\n",
      " |      Return getattr(self, name).\n",
      " |\n",
      " |  __getitem__(self, index, /)\n",
      " |      Return self[index].\n",
      " |\n",
      " |  __gt__(self, value, /)\n",
      " |      Return self>value.\n",
      " |\n",
      " |  __iadd__(self, value, /)\n",
      " |      Implement self+=value.\n",
      " |\n",
      " |  __imul__(self, value, /)\n",
      " |      Implement self*=value.\n",
      " |\n",
      " |  __init__(self, /, *args, **kwargs)\n",
      " |      Initialize self.  See help(type(self)) for accurate signature.\n",
      " |\n",
      " |  __iter__(self, /)\n",
      " |      Implement iter(self).\n",
      " |\n",
      " |  __le__(self, value, /)\n",
      " |      Return self<=value.\n",
      " |\n",
      " |  __len__(self, /)\n",
      " |      Return len(self).\n",
      " |\n",
      " |  __lt__(self, value, /)\n",
      " |      Return self<value.\n",
      " |\n",
      " |  __mul__(self, value, /)\n",
      " |      Return self*value.\n",
      " |\n",
      " |  __ne__(self, value, /)\n",
      " |      Return self!=value.\n",
      " |\n",
      " |  __repr__(self, /)\n",
      " |      Return repr(self).\n",
      " |\n",
      " |  __reversed__(self, /)\n",
      " |      Return a reverse iterator over the list.\n",
      " |\n",
      " |  __rmul__(self, value, /)\n",
      " |      Return value*self.\n",
      " |\n",
      " |  __setitem__(self, key, value, /)\n",
      " |      Set self[key] to value.\n",
      " |\n",
      " |  __sizeof__(self, /)\n",
      " |      Return the size of the list in memory, in bytes.\n",
      " |\n",
      " |  append(self, object, /)\n",
      " |      Append object to the end of the list.\n",
      " |\n",
      " |  clear(self, /)\n",
      " |      Remove all items from list.\n",
      " |\n",
      " |  copy(self, /)\n",
      " |      Return a shallow copy of the list.\n",
      " |\n",
      " |  count(self, value, /)\n",
      " |      Return number of occurrences of value.\n",
      " |\n",
      " |  extend(self, iterable, /)\n",
      " |      Extend list by appending elements from the iterable.\n",
      " |\n",
      " |  index(self, value, start=0, stop=9223372036854775807, /)\n",
      " |      Return first index of value.\n",
      " |\n",
      " |      Raises ValueError if the value is not present.\n",
      " |\n",
      " |  insert(self, index, object, /)\n",
      " |      Insert object before index.\n",
      " |\n",
      " |  pop(self, index=-1, /)\n",
      " |      Remove and return item at index (default last).\n",
      " |\n",
      " |      Raises IndexError if list is empty or index is out of range.\n",
      " |\n",
      " |  remove(self, value, /)\n",
      " |      Remove first occurrence of value.\n",
      " |\n",
      " |      Raises ValueError if the value is not present.\n",
      " |\n",
      " |  reverse(self, /)\n",
      " |      Reverse *IN PLACE*.\n",
      " |\n",
      " |  sort(self, /, *, key=None, reverse=False)\n",
      " |      Sort the list in ascending order and return None.\n",
      " |\n",
      " |      The sort is in-place (i.e. the list itself is modified) and stable (i.e. the\n",
      " |      order of two equal elements is maintained).\n",
      " |\n",
      " |      If a key function is given, apply it once to each list item and sort them,\n",
      " |      ascending or descending, according to their function values.\n",
      " |\n",
      " |      The reverse flag can be set to sort in descending order.\n",
      " |\n",
      " |  ----------------------------------------------------------------------\n",
      " |  Class methods defined here:\n",
      " |\n",
      " |  __class_getitem__(...) from builtins.type\n",
      " |      See PEP 585\n",
      " |\n",
      " |  ----------------------------------------------------------------------\n",
      " |  Static methods defined here:\n",
      " |\n",
      " |  __new__(*args, **kwargs) from builtins.type\n",
      " |      Create and return a new object.  See help(type) for accurate signature.\n",
      " |\n",
      " |  ----------------------------------------------------------------------\n",
      " |  Data and other attributes defined here:\n",
      " |\n",
      " |  __hash__ = None\n",
      "\n"
     ]
    }
   ],
   "source": [
    "help(numbers)"
   ]
  },
  {
   "cell_type": "code",
   "execution_count": 45,
   "metadata": {},
   "outputs": [
    {
     "data": {
      "text/plain": [
       "['__add__',\n",
       " '__class__',\n",
       " '__class_getitem__',\n",
       " '__contains__',\n",
       " '__delattr__',\n",
       " '__delitem__',\n",
       " '__dir__',\n",
       " '__doc__',\n",
       " '__eq__',\n",
       " '__format__',\n",
       " '__ge__',\n",
       " '__getattribute__',\n",
       " '__getitem__',\n",
       " '__getstate__',\n",
       " '__gt__',\n",
       " '__hash__',\n",
       " '__iadd__',\n",
       " '__imul__',\n",
       " '__init__',\n",
       " '__init_subclass__',\n",
       " '__iter__',\n",
       " '__le__',\n",
       " '__len__',\n",
       " '__lt__',\n",
       " '__mul__',\n",
       " '__ne__',\n",
       " '__new__',\n",
       " '__reduce__',\n",
       " '__reduce_ex__',\n",
       " '__repr__',\n",
       " '__reversed__',\n",
       " '__rmul__',\n",
       " '__setattr__',\n",
       " '__setitem__',\n",
       " '__sizeof__',\n",
       " '__str__',\n",
       " '__subclasshook__',\n",
       " 'append',\n",
       " 'clear',\n",
       " 'copy',\n",
       " 'count',\n",
       " 'extend',\n",
       " 'index',\n",
       " 'insert',\n",
       " 'pop',\n",
       " 'remove',\n",
       " 'reverse',\n",
       " 'sort']"
      ]
     },
     "execution_count": 45,
     "metadata": {},
     "output_type": "execute_result"
    }
   ],
   "source": [
    "mylist = [11, 22, 33]\n",
    "\n",
    "dir(mylist)"
   ]
  },
  {
   "cell_type": "code",
   "execution_count": 46,
   "metadata": {},
   "outputs": [
    {
     "name": "stdout",
     "output_type": "stream",
     "text": [
      "append, clear, copy, count, extend, index, insert, pop, remove, reverse, sort, "
     ]
    }
   ],
   "source": [
    "for attribute in dir(mylist):\n",
    "    if not attribute.startswith('__'):\n",
    "        print(attribute, end= ', ')"
   ]
  },
  {
   "cell_type": "markdown",
   "metadata": {},
   "source": [
    "Question: append vs Extend vs insert"
   ]
  },
  {
   "cell_type": "code",
   "execution_count": null,
   "metadata": {},
   "outputs": [],
   "source": [
    "mylist = [11, 22, 33]\n",
    "mylist"
   ]
  },
  {
   "cell_type": "code",
   "execution_count": 47,
   "metadata": {},
   "outputs": [
    {
     "data": {
      "text/plain": [
       "<function list.append(object, /)>"
      ]
     },
     "execution_count": 47,
     "metadata": {},
     "output_type": "execute_result"
    }
   ],
   "source": [
    "mylist.append"
   ]
  },
  {
   "cell_type": "code",
   "execution_count": 48,
   "metadata": {},
   "outputs": [],
   "source": [
    "mylist.append(44)"
   ]
  },
  {
   "cell_type": "code",
   "execution_count": 49,
   "metadata": {},
   "outputs": [
    {
     "data": {
      "text/plain": [
       "[11, 22, 33, 44, None]"
      ]
     },
     "execution_count": 49,
     "metadata": {},
     "output_type": "execute_result"
    }
   ],
   "source": [
    "mylist.append(None)\n",
    "\n",
    "mylist"
   ]
  },
  {
   "cell_type": "code",
   "execution_count": 50,
   "metadata": {},
   "outputs": [
    {
     "data": {
      "text/plain": [
       "[11, 22, 33, 44, None, [55, 66]]"
      ]
     },
     "execution_count": 50,
     "metadata": {},
     "output_type": "execute_result"
    }
   ],
   "source": [
    "mylist.append([55, 66])\n",
    "\n",
    "mylist"
   ]
  },
  {
   "cell_type": "code",
   "execution_count": 51,
   "metadata": {},
   "outputs": [
    {
     "ename": "TypeError",
     "evalue": "'int' object is not iterable",
     "output_type": "error",
     "traceback": [
      "\u001b[0;31m---------------------------------------------------------------------------\u001b[0m",
      "\u001b[0;31mTypeError\u001b[0m                                 Traceback (most recent call last)",
      "Cell \u001b[0;32mIn[51], line 1\u001b[0m\n\u001b[0;32m----> 1\u001b[0m \u001b[43mmylist\u001b[49m\u001b[38;5;241;43m.\u001b[39;49m\u001b[43mextend\u001b[49m\u001b[43m(\u001b[49m\u001b[38;5;241;43m77\u001b[39;49m\u001b[43m)\u001b[49m\n",
      "\u001b[0;31mTypeError\u001b[0m: 'int' object is not iterable"
     ]
    }
   ],
   "source": [
    "mylist.extend(77)"
   ]
  },
  {
   "cell_type": "code",
   "execution_count": 52,
   "metadata": {},
   "outputs": [
    {
     "data": {
      "text/plain": [
       "[11, 22, 33, 44, None, [55, 66], 77]"
      ]
     },
     "execution_count": 52,
     "metadata": {},
     "output_type": "execute_result"
    }
   ],
   "source": [
    "# iterables - string, collections(list, tuple, set, dict), range, iterator, generator\n",
    "\n",
    "mylist.extend([77])\n",
    "\n",
    "mylist"
   ]
  },
  {
   "cell_type": "code",
   "execution_count": 53,
   "metadata": {},
   "outputs": [],
   "source": [
    "mylist.extend((88, 99))"
   ]
  },
  {
   "cell_type": "code",
   "execution_count": 54,
   "metadata": {},
   "outputs": [
    {
     "data": {
      "text/plain": [
       "[11, 22, 33, 44, None, [55, 66], 77, 88, 99]"
      ]
     },
     "execution_count": 54,
     "metadata": {},
     "output_type": "execute_result"
    }
   ],
   "source": [
    "mylist"
   ]
  },
  {
   "cell_type": "code",
   "execution_count": 55,
   "metadata": {},
   "outputs": [
    {
     "data": {
      "text/plain": [
       "[11, 22, 33, 44, None, [55, 66], 77, 88, 99, 111, (222, 333)]"
      ]
     },
     "execution_count": 55,
     "metadata": {},
     "output_type": "execute_result"
    }
   ],
   "source": [
    "mylist.extend([111, (222, 333)])\n",
    "\n",
    "mylist"
   ]
  },
  {
   "cell_type": "code",
   "execution_count": null,
   "metadata": {},
   "outputs": [],
   "source": [
    "# NOTE: Both list.append and list.extend CAN add at the end of list only\n",
    "# 1. list.append - can take single element, or an iterable. Adds as it is\n",
    "# 2. list.extend will take only iterable. Adds to same dimension"
   ]
  },
  {
   "cell_type": "code",
   "execution_count": 56,
   "metadata": {},
   "outputs": [
    {
     "data": {
      "text/plain": [
       "[11, 22, 33]"
      ]
     },
     "execution_count": 56,
     "metadata": {},
     "output_type": "execute_result"
    }
   ],
   "source": [
    "mylist = [11, 22, 33]\n",
    "mylist"
   ]
  },
  {
   "cell_type": "code",
   "execution_count": 57,
   "metadata": {},
   "outputs": [
    {
     "name": "stdout",
     "output_type": "stream",
     "text": [
      "After mylist.insert(0, 'a'):\n",
      "\t ['a', 11, 22, 33]\n"
     ]
    }
   ],
   "source": [
    "mylist.insert(0, \"a\")\n",
    "print(\"After mylist.insert(0, 'a'):\\n\\t\", mylist)"
   ]
  },
  {
   "cell_type": "code",
   "execution_count": 58,
   "metadata": {},
   "outputs": [
    {
     "name": "stdout",
     "output_type": "stream",
     "text": [
      "After mylist.insert(3, 'b'):\n",
      "\t ['a', 11, 22, 'b', 33]\n"
     ]
    }
   ],
   "source": [
    "mylist.insert(3, \"b\")\n",
    "print(\"After mylist.insert(3, 'b'):\\n\\t\", mylist)"
   ]
  },
  {
   "cell_type": "code",
   "execution_count": 59,
   "metadata": {},
   "outputs": [
    {
     "name": "stdout",
     "output_type": "stream",
     "text": [
      "After mylist.insert(3, ['c', 'd']):\n",
      "\t ['a', 11, 22, ['c', 'd'], 'b', 33]\n"
     ]
    }
   ],
   "source": [
    "mylist.insert(3, [\"c\", \"d\"])\n",
    "print(\"After mylist.insert(3, ['c', 'd']):\\n\\t\", mylist)"
   ]
  },
  {
   "cell_type": "code",
   "execution_count": 60,
   "metadata": {},
   "outputs": [
    {
     "name": "stdout",
     "output_type": "stream",
     "text": [
      "After mylist.insert(-1, 'eeeeee'):\n",
      "\t ['a', 11, 22, ['c', 'd'], 'b', 'eeeeee', 33]\n"
     ]
    }
   ],
   "source": [
    "# Question: How to make list.insert to work like list.append\n",
    "mylist.insert(-1, \"eeeeee\")\n",
    "print(\"After mylist.insert(-1, 'eeeeee'):\\n\\t\", mylist)"
   ]
  },
  {
   "cell_type": "markdown",
   "metadata": {},
   "source": [
    "Question: list.pop() vs list.remove()"
   ]
  },
  {
   "cell_type": "code",
   "execution_count": 61,
   "metadata": {},
   "outputs": [
    {
     "name": "stdout",
     "output_type": "stream",
     "text": [
      "mylist.pop() =33\n",
      "mylist       =['a', 11, 22, ['c', 'd'], 'b', 'eeeeee']\n",
      "\n"
     ]
    }
   ],
   "source": [
    "print(f\"{mylist.pop() =}\")\n",
    "print(f\"{mylist       =}\\n\")"
   ]
  },
  {
   "cell_type": "code",
   "execution_count": 62,
   "metadata": {},
   "outputs": [
    {
     "name": "stdout",
     "output_type": "stream",
     "text": [
      "mylist.pop() ='eeeeee'\n",
      "mylist       =['a', 11, 22, ['c', 'd'], 'b']\n",
      "\n"
     ]
    }
   ],
   "source": [
    "print(f\"{mylist.pop() =}\")\n",
    "print(f\"{mylist       =}\\n\")"
   ]
  },
  {
   "cell_type": "code",
   "execution_count": 63,
   "metadata": {},
   "outputs": [
    {
     "name": "stdout",
     "output_type": "stream",
     "text": [
      "mylist.pop() =(12, [323, 3])\n",
      "mylist       =['a', 11, 22, 'god', 'b']\n",
      "\n"
     ]
    }
   ],
   "source": [
    "mylist = [\"a\", 11, 22, \"god\", \"b\", (12, [323, 3])]\n",
    "print(f\"{mylist.pop() =}\")\n",
    "print(f\"{mylist       =}\\n\")"
   ]
  },
  {
   "cell_type": "code",
   "execution_count": 64,
   "metadata": {},
   "outputs": [
    {
     "name": "stdout",
     "output_type": "stream",
     "text": [
      "mylist.pop(3) ='god'\n",
      "mylist       =['a', 11, 22, 'b', (12, [323, 3])]\n",
      "\n"
     ]
    }
   ],
   "source": [
    "mylist = [\"a\", 11, 22, \"god\", \"b\", (12, [323, 3])]\n",
    "print(f\"{mylist.pop(3) =}\")   # index 3 is removed\n",
    "print(f\"{mylist       =}\\n\")"
   ]
  },
  {
   "cell_type": "code",
   "execution_count": 65,
   "metadata": {},
   "outputs": [
    {
     "name": "stdout",
     "output_type": "stream",
     "text": [
      "mylist.remove(11) =None\n",
      "mylist       =['a', 22, 'god', 'b', (12, [323, 3])]\n",
      "\n"
     ]
    }
   ],
   "source": [
    "# To remove a specific element\n",
    "\n",
    "mylist = [\"a\", 11, 22, \"god\", \"b\", (12, [323, 3])]\n",
    "\n",
    "print(f\"{mylist.remove(11) =}\")  # None\n",
    "print(f\"{mylist       =}\\n\")  # ['a', 22,  'god', 'b']"
   ]
  },
  {
   "cell_type": "code",
   "execution_count": 66,
   "metadata": {},
   "outputs": [],
   "source": [
    "# Assignment - how to remove the last occurence of a element in the list"
   ]
  },
  {
   "cell_type": "code",
   "execution_count": 67,
   "metadata": {},
   "outputs": [
    {
     "name": "stdout",
     "output_type": "stream",
     "text": [
      "Updated list: [[22], 11, 22, 33, 22, 33]\n"
     ]
    }
   ],
   "source": [
    "# Original list\n",
    "mylist = [[22], 11, 22, 33, 22, 22, 33]\n",
    "\n",
    "# Element to remove\n",
    "element_to_remove = 22\n",
    "\n",
    "# Remove the last occurrence of the element\n",
    "if element_to_remove in mylist:\n",
    "    index = len(mylist) - 1 - mylist[::-1].index(element_to_remove)\n",
    "    mylist.pop(index)\n",
    "\n",
    "# Print the updated list\n",
    "print(f\"Updated list: {mylist}\")\n"
   ]
  },
  {
   "cell_type": "code",
   "execution_count": 68,
   "metadata": {},
   "outputs": [
    {
     "ename": "ValueError",
     "evalue": "list.remove(x): x not in list",
     "output_type": "error",
     "traceback": [
      "\u001b[0;31m---------------------------------------------------------------------------\u001b[0m",
      "\u001b[0;31mValueError\u001b[0m                                Traceback (most recent call last)",
      "Cell \u001b[0;32mIn[68], line 1\u001b[0m\n\u001b[0;32m----> 1\u001b[0m \u001b[43mmylist\u001b[49m\u001b[38;5;241;43m.\u001b[39;49m\u001b[43mremove\u001b[49m\u001b[43m(\u001b[49m\u001b[38;5;124;43m'\u001b[39;49m\u001b[38;5;124;43mq\u001b[39;49m\u001b[38;5;124;43m'\u001b[39;49m\u001b[43m)\u001b[49m\n",
      "\u001b[0;31mValueError\u001b[0m: list.remove(x): x not in list"
     ]
    }
   ],
   "source": [
    "mylist.remove('q')"
   ]
  },
  {
   "cell_type": "code",
   "execution_count": 69,
   "metadata": {},
   "outputs": [
    {
     "name": "stdout",
     "output_type": "stream",
     "text": [
      "mylist       =['a', 'b', 'c', 'd', 'e', 'f']\n",
      "mylist[3]    ='d'\n",
      "After del mylist[3]   = ['a', 'b', 'c', 'e', 'f']\n"
     ]
    }
   ],
   "source": [
    "# del - can remove an element or some indexed positions\n",
    "mylist = [\"a\", \"b\", \"c\", \"d\", \"e\", \"f\"]\n",
    "print(f\"{mylist       =}\")\n",
    "print(f\"{mylist[3]    =}\")\n",
    "del mylist[3]\n",
    "print(\"After del mylist[3]   =\", mylist)"
   ]
  },
  {
   "cell_type": "code",
   "execution_count": 70,
   "metadata": {},
   "outputs": [
    {
     "name": "stdout",
     "output_type": "stream",
     "text": [
      "mylist[0::2]          =['a', 'c', 'f']\n",
      "After del mylist[0::2]: ['b', 'e']\n"
     ]
    }
   ],
   "source": [
    "print(f\"{mylist[0::2]          =}\")\n",
    "del mylist[0::2]\n",
    "print(\"After del mylist[0::2]:\", mylist)"
   ]
  },
  {
   "cell_type": "code",
   "execution_count": 71,
   "metadata": {},
   "outputs": [
    {
     "name": "stdout",
     "output_type": "stream",
     "text": [
      "After mylist.clear()  : []\n"
     ]
    }
   ],
   "source": [
    "# Question: list.clear vs del list\n",
    "mylist.clear()\n",
    "print(\"After mylist.clear()  :\", mylist)"
   ]
  },
  {
   "cell_type": "code",
   "execution_count": 72,
   "metadata": {},
   "outputs": [],
   "source": [
    "del mylist"
   ]
  },
  {
   "cell_type": "code",
   "execution_count": 73,
   "metadata": {},
   "outputs": [
    {
     "ename": "NameError",
     "evalue": "name 'mylist' is not defined",
     "output_type": "error",
     "traceback": [
      "\u001b[0;31m---------------------------------------------------------------------------\u001b[0m",
      "\u001b[0;31mNameError\u001b[0m                                 Traceback (most recent call last)",
      "Cell \u001b[0;32mIn[73], line 1\u001b[0m\n\u001b[0;32m----> 1\u001b[0m \u001b[43mmylist\u001b[49m\n",
      "\u001b[0;31mNameError\u001b[0m: name 'mylist' is not defined"
     ]
    }
   ],
   "source": [
    "mylist"
   ]
  }
 ],
 "metadata": {
  "kernelspec": {
   "display_name": "Python 3",
   "language": "python",
   "name": "python3"
  },
  "language_info": {
   "codemirror_mode": {
    "name": "ipython",
    "version": 3
   },
   "file_extension": ".py",
   "mimetype": "text/x-python",
   "name": "python",
   "nbconvert_exporter": "python",
   "pygments_lexer": "ipython3",
   "version": "3.12.1"
  }
 },
 "nbformat": 4,
 "nbformat_minor": 2
}
