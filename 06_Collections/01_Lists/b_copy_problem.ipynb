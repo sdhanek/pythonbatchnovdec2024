{
 "cells": [
  {
   "cell_type": "markdown",
   "metadata": {},
   "source": [
    "assignment vs Shallow copy vs deep"
   ]
  },
  {
   "cell_type": "code",
   "execution_count": 1,
   "metadata": {},
   "outputs": [
    {
     "name": "stdout",
     "output_type": "stream",
     "text": [
      "num1           123 <class 'int'> 101177293342440\n"
     ]
    }
   ],
   "source": [
    "# immutable object\n",
    "num1 = 123\n",
    "print(\"num1          \", num1, type(num1), id(num1))"
   ]
  },
  {
   "cell_type": "code",
   "execution_count": 2,
   "metadata": {},
   "outputs": [
    {
     "name": "stdout",
     "output_type": "stream",
     "text": [
      "num2           123 <class 'int'> 101177293342440\n"
     ]
    }
   ],
   "source": [
    "num2 = num1             # Assignment operator\n",
    "print(\"num2          \", num2, type(num2), id(num2))"
   ]
  },
  {
   "cell_type": "code",
   "execution_count": 3,
   "metadata": {},
   "outputs": [
    {
     "name": "stdout",
     "output_type": "stream",
     "text": [
      "133442938584512 par_list       = [11, 111, 1111]\n",
      "133442938584512 hard_copy_list = [11, 111, 1111]\n"
     ]
    }
   ],
   "source": [
    "#  Mutable object\n",
    "par_list = [11, 111, 1111]\n",
    "print(f\"{id(par_list)} {par_list       = }\")\n",
    "\n",
    "\n",
    "hard_copy_list = par_list   # assignment operation\n",
    "print(f\"{id(hard_copy_list)} {hard_copy_list = }\")"
   ]
  },
  {
   "cell_type": "code",
   "execution_count": 4,
   "metadata": {},
   "outputs": [
    {
     "name": "stdout",
     "output_type": "stream",
     "text": [
      "par_list[2]    1111\n",
      "par_list[2]    3333\n",
      "133442938584512 par_list       = [11, 111, 3333]\n"
     ]
    }
   ],
   "source": [
    "print(\"par_list[2]   \", par_list[2])\n",
    "\n",
    "par_list[2] = 3333  # Substitution\n",
    "print(\"par_list[2]   \", par_list[2])\n",
    "print(f\"{id(par_list)} {par_list       = }\")"
   ]
  },
  {
   "cell_type": "code",
   "execution_count": 5,
   "metadata": {},
   "outputs": [
    {
     "name": "stdout",
     "output_type": "stream",
     "text": [
      "133442938584512 hard_copy_list = [11, 111, 3333]\n"
     ]
    }
   ],
   "source": [
    "# leakage problem\n",
    "print(f\"{id(hard_copy_list)} {hard_copy_list = }\")"
   ]
  },
  {
   "cell_type": "code",
   "execution_count": 8,
   "metadata": {},
   "outputs": [
    {
     "data": {
      "text/plain": [
       "['Error',\n",
       " '__all__',\n",
       " '__builtins__',\n",
       " '__cached__',\n",
       " '__doc__',\n",
       " '__file__',\n",
       " '__loader__',\n",
       " '__name__',\n",
       " '__package__',\n",
       " '__spec__',\n",
       " '_copy_dispatch',\n",
       " '_copy_immutable',\n",
       " '_deepcopy_atomic',\n",
       " '_deepcopy_dict',\n",
       " '_deepcopy_dispatch',\n",
       " '_deepcopy_list',\n",
       " '_deepcopy_method',\n",
       " '_deepcopy_tuple',\n",
       " '_keep_alive',\n",
       " '_reconstruct',\n",
       " 'copy',\n",
       " 'deepcopy',\n",
       " 'dispatch_table',\n",
       " 'error']"
      ]
     },
     "execution_count": 8,
     "metadata": {},
     "output_type": "execute_result"
    }
   ],
   "source": [
    "import copy\n",
    "dir (copy)"
   ]
  },
  {
   "cell_type": "code",
   "execution_count": 9,
   "metadata": {},
   "outputs": [
    {
     "name": "stdout",
     "output_type": "stream",
     "text": [
      "133442933545856 soft_copy_list = [11, 111, 3333]\n"
     ]
    }
   ],
   "source": [
    "# shallow copy\n",
    "soft_copy_list = copy.copy(par_list)\n",
    "print(f\"{id(soft_copy_list)} {soft_copy_list = }\")"
   ]
  },
  {
   "cell_type": "code",
   "execution_count": 10,
   "metadata": {},
   "outputs": [
    {
     "name": "stdout",
     "output_type": "stream",
     "text": [
      "hard_copy_list[2] 3333\n",
      "\n",
      "133442938584512 par_list       = [11, 111, 'FOUR']\n",
      "133442938584512 hard_copy_list = [11, 111, 'FOUR']\n",
      "133442933545856 soft_copy_list = [11, 111, 3333]\n"
     ]
    }
   ],
   "source": [
    "print(\"hard_copy_list[2]\", hard_copy_list[2])\n",
    "\n",
    "hard_copy_list[2] = \"FOUR\"\n",
    "\n",
    "print()\n",
    "print(f\"{id(par_list)} {par_list       = }\")\n",
    "print(f\"{id(hard_copy_list)} {hard_copy_list = }\")\n",
    "print(f\"{id(soft_copy_list)} {soft_copy_list = }\")"
   ]
  },
  {
   "cell_type": "code",
   "execution_count": 11,
   "metadata": {},
   "outputs": [
    {
     "name": "stdout",
     "output_type": "stream",
     "text": [
      "soft_copy_list[0] 11\n",
      "\n",
      "133442938584512 par_list       = [11, 111, 'FOUR']\n",
      "133442938584512 hard_copy_list = [11, 111, 'FOUR']\n",
      "133442933545856 soft_copy_list = ['ZERO', 111, 3333]\n"
     ]
    }
   ],
   "source": [
    "print(\"soft_copy_list[0]\", soft_copy_list[0])\n",
    "\n",
    "soft_copy_list[0] = \"ZERO\"\n",
    "print()\n",
    "print(f\"{id(par_list)} {par_list       = }\")\n",
    "print(f\"{id(hard_copy_list)} {hard_copy_list = }\")\n",
    "print(f\"{id(soft_copy_list)} {soft_copy_list = }\")"
   ]
  },
  {
   "cell_type": "markdown",
   "metadata": {},
   "source": [
    "Need for deepcopy"
   ]
  },
  {
   "cell_type": "code",
   "execution_count": 12,
   "metadata": {},
   "outputs": [
    {
     "name": "stdout",
     "output_type": "stream",
     "text": [
      "133442933429952 new_list           = [90, 89, [78, 89, [4, 441, 6]]]\n",
      "133442933618496 new_softcopy_list  = [90, 89, [78, 89, [4, 441, 6]]]\n",
      "133442933432512 new_deepcopy_list  = [90, 89, [78, 89, [4, 441, 6]]]\n"
     ]
    }
   ],
   "source": [
    "new_list = [90, 89, [78, 89, [4, 441, 6]]]\n",
    "\n",
    "new_softcopy_list = copy.copy(new_list)  # soft copy or shallow copy\n",
    "new_deepcopy_list = copy.deepcopy(new_list)\n",
    "\n",
    "print(f\"{id(new_list)} {new_list           = }\")\n",
    "print(f\"{id(new_softcopy_list)} {new_softcopy_list  = }\")\n",
    "print(f\"{id(new_deepcopy_list)} {new_deepcopy_list  = }\")"
   ]
  },
  {
   "cell_type": "code",
   "execution_count": 13,
   "metadata": {},
   "outputs": [
    {
     "name": "stdout",
     "output_type": "stream",
     "text": [
      "new_list[2][2][1] 441\n",
      "\n",
      "133442933429952 new_list           = [90, 89, [78, 89, [4, 'FFO', 6]]]\n",
      "133442933618496 new_softcopy_list  = [90, 89, [78, 89, [4, 'FFO', 6]]]\n",
      "133442933432512 new_deepcopy_list  = [90, 89, [78, 89, [4, 441, 6]]]\n"
     ]
    }
   ],
   "source": [
    "print(\"new_list[2][2][1]\", new_list[2][2][1])\n",
    "\n",
    "new_list[2][2][1] = \"FFO\"\n",
    "print()\n",
    "print(f\"{id(new_list)} {new_list           = }\")\n",
    "print(f\"{id(new_softcopy_list)} {new_softcopy_list  = }\")\n",
    "print(f\"{id(new_deepcopy_list)} {new_deepcopy_list  = }\")"
   ]
  },
  {
   "cell_type": "code",
   "execution_count": null,
   "metadata": {},
   "outputs": [],
   "source": [
    "# NOTE: # 1. soft(shallow) copy is fast, but cant work more than one dimension\n",
    "# 2. deep copy is slow, but can work with objects of any number of dimensions"
   ]
  },
  {
   "cell_type": "code",
   "execution_count": 14,
   "metadata": {},
   "outputs": [
    {
     "name": "stdout",
     "output_type": "stream",
     "text": [
      "133442933422208 133442933611840 False\n"
     ]
    }
   ],
   "source": [
    "l1 = [12, 34]\n",
    "\n",
    "l2 = l1[::]  # soft(shallow) copy\n",
    "\n",
    "print(id(l1), id(l2), l1 is l2)"
   ]
  },
  {
   "cell_type": "code",
   "execution_count": 15,
   "metadata": {},
   "outputs": [
    {
     "name": "stdout",
     "output_type": "stream",
     "text": [
      "133442938425408 133442938427328 False\n"
     ]
    }
   ],
   "source": [
    "l3 = [12, 34, [44, [55]]]\n",
    "\n",
    "l4 = l3[::1]\n",
    "print(id(l3), id(l4), l3 is l4)"
   ]
  },
  {
   "cell_type": "code",
   "execution_count": 16,
   "metadata": {},
   "outputs": [
    {
     "name": "stdout",
     "output_type": "stream",
     "text": [
      "l3 =[12, 34, [44, ['five']]]\n",
      "l4 =[12, 34, [44, ['five']]]\n"
     ]
    }
   ],
   "source": [
    "l3[2][1][0] = 'five'\n",
    "\n",
    "print(f'{l3 =}')\n",
    "print(f'{l4 =}')"
   ]
  },
  {
   "cell_type": "markdown",
   "metadata": {},
   "source": [
    "#Assignment\n",
    "-----------\n",
    "\n",
    "1) implement the stack mechanism - LIFO\n",
    "Take the values in run time\n",
    "1. push - add an element\n",
    "2. pop  - Delete last comment\n",
    "3. status - stack size\n",
    "\n",
    "HINT: list.pop(), list-append(), len()\n",
    "2) implement the queue mechanism - FIFO\n",
    "Take the values in run time\n",
    "1. push-add an element\n",
    "2. pop - delete last element\n",
    "3. status - queue size\n",
    "HINT: list.Insert(), list.pop(), len()"
   ]
  },
  {
   "cell_type": "code",
   "execution_count": 20,
   "metadata": {},
   "outputs": [],
   "source": [
    "#Assignment\n",
    "\n",
    "\n",
    "#1) implement the stack mechanism - LIFO\n",
    "#Take the values in run time\n",
    "#1. push - add an element\n",
    "#2. pop  - Delete last comment\n",
    "#3. status - stack size"
   ]
  },
  {
   "cell_type": "code",
   "execution_count": 21,
   "metadata": {},
   "outputs": [],
   "source": [
    "# Implementing Stack (LIFO)\n",
    "class Stack:\n",
    "    def __init__(self):\n",
    "        self.stack = [10, 20]  # Predefined stack with new values\n",
    "\n",
    "    def push(self, element):\n",
    "        self.stack.append(element)\n",
    "        print(f\"Pushed {element} onto the stack.\")\n",
    "\n",
    "    def pop(self):\n",
    "        if self.stack:\n",
    "            element = self.stack.pop()\n",
    "            print(f\"Popped {element} from the stack.\")\n",
    "        else:\n",
    "            print(\"Stack is empty. Nothing to pop.\")\n",
    "\n",
    "    def status(self):\n",
    "        print(f\"Stack size: {len(self.stack)}\")\n",
    "        print(f\"Current stack: {self.stack}\")"
   ]
  },
  {
   "cell_type": "code",
   "execution_count": 22,
   "metadata": {},
   "outputs": [],
   "source": [
    "#2) implement the queue mechanism - FIFO\n",
    "#Take the values in run time\n",
    "#1. push-add an element\n",
    "#2. pop - delete last element\n",
    "#3. status - queue size\n"
   ]
  },
  {
   "cell_type": "code",
   "execution_count": 24,
   "metadata": {},
   "outputs": [],
   "source": [
    "# Implementing Queue (FIFO)\n",
    "class Queue:\n",
    "    def __init__(self):\n",
    "        self.queue = [30, 40]  # Predefined queue with new values\n",
    "\n",
    "    def push(self, element):\n",
    "        self.queue.append(element)\n",
    "        print(f\"Added {element} to the queue.\")\n",
    "\n",
    "    def pop(self):\n",
    "        if self.queue:\n",
    "            element = self.queue.pop(0)\n",
    "            print(f\"Removed {element} from the queue.\")\n",
    "        else:\n",
    "            print(\"Queue is empty. Nothing to remove.\")\n",
    "\n",
    "    def status(self):\n",
    "        print(f\"Queue size: {len(self.queue)}\")\n",
    "        print(f\"Current queue: {self.queue}\")"
   ]
  },
  {
   "cell_type": "code",
   "execution_count": 23,
   "metadata": {},
   "outputs": [
    {
     "name": "stdout",
     "output_type": "stream",
     "text": [
      "Choose mechanism: 1 for Stack, 2 for Queue\n",
      "Initial stack: []\n",
      "\n",
      "Options: 1-Push, 2-Pop, 3-Status, 4-Exit\n",
      "Stack is empty. Nothing to pop.\n",
      "\n",
      "Options: 1-Push, 2-Pop, 3-Status, 4-Exit\n",
      "Stack size: 0\n",
      "Current stack: []\n",
      "\n",
      "Options: 1-Push, 2-Pop, 3-Status, 4-Exit\n",
      "Exiting program.\n"
     ]
    }
   ],
   "source": [
    "\n",
    "\n",
    "\n",
    "# Example Run-time Interaction\n",
    "if __name__ == \"__main__\":\n",
    "    print(\"Choose mechanism: 1 for Stack, 2 for Queue\")\n",
    "    choice = int(input(\"Enter choice: \"))\n",
    "\n",
    "    if choice == 1:\n",
    "        mechanism = Stack()\n",
    "        print(f\"Initial stack: {mechanism.stack}\")\n",
    "    elif choice == 2:\n",
    "        mechanism = Queue()\n",
    "        mechanism.queue = [1, 2, 3, 4]  # Predefined queue\n",
    "        print(f\"Initial queue: {mechanism.queue}\")\n",
    "    else:\n",
    "        print(\"Invalid choice. Exiting.\")\n",
    "        exit()\n",
    "\n",
    "    while True:\n",
    "        print(\"\\nOptions: 1-Push, 2-Pop, 3-Status, 4-Exit\")\n",
    "        operation = int(input(\"Enter operation: \"))\n",
    "\n",
    "        if operation == 1:\n",
    "            element = input(\"Enter element to add: \")\n",
    "            mechanism.push(element)\n",
    "        elif operation == 2:\n",
    "            mechanism.pop()\n",
    "        elif operation == 3:\n",
    "            mechanism.status()\n",
    "        elif operation == 4:\n",
    "            print(\"Exiting program.\")\n",
    "            break\n",
    "        else:\n",
    "            print(\"Invalid operation. Try again.\")"
   ]
  }
 ],
 "metadata": {
  "kernelspec": {
   "display_name": "Python 3",
   "language": "python",
   "name": "python3"
  },
  "language_info": {
   "codemirror_mode": {
    "name": "ipython",
    "version": 3
   },
   "file_extension": ".py",
   "mimetype": "text/x-python",
   "name": "python",
   "nbconvert_exporter": "python",
   "pygments_lexer": "ipython3",
   "version": "3.12.1"
  }
 },
 "nbformat": 4,
 "nbformat_minor": 2
}
