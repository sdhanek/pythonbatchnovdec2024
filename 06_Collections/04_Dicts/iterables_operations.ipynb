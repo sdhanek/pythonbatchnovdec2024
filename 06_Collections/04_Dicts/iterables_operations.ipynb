{
 "cells": [
  {
   "cell_type": "markdown",
   "metadata": {},
   "source": [
    "working with Iterables"
   ]
  },
  {
   "cell_type": "code",
   "execution_count": 2,
   "metadata": {},
   "outputs": [
    {
     "name": "stdout",
     "output_type": "stream",
     "text": [
      "values                        =[1, 2, 3, 4, 2, 1, 3, 1, 4, 3, 3]\n"
     ]
    }
   ],
   "source": [
    "values = [1, 2, 3, 4, 2, 1, 3, 1, 4, 3, 3]\n",
    "print(f\"{values                        =}\")"
   ]
  },
  {
   "cell_type": "code",
   "execution_count": 3,
   "metadata": {},
   "outputs": [
    {
     "data": {
      "text/plain": [
       "4"
      ]
     },
     "execution_count": 3,
     "metadata": {},
     "output_type": "execute_result"
    }
   ],
   "source": [
    "max(values)"
   ]
  },
  {
   "cell_type": "code",
   "execution_count": 4,
   "metadata": {},
   "outputs": [
    {
     "data": {
      "text/plain": [
       "2"
      ]
     },
     "execution_count": 4,
     "metadata": {},
     "output_type": "execute_result"
    }
   ],
   "source": [
    "values.count(2)"
   ]
  },
  {
   "cell_type": "code",
   "execution_count": 5,
   "metadata": {},
   "outputs": [
    {
     "name": "stdout",
     "output_type": "stream",
     "text": [
      "values.count(2)               =2\n",
      "values.count(3)               =4\n",
      "max(values, key=values.count) =3\n"
     ]
    }
   ],
   "source": [
    "print(f\"{values.count(2)               =}\")\n",
    "print(f\"{values.count(3)               =}\")\n",
    "print(f\"{max(values, key=values.count) =}\")  # mode"
   ]
  },
  {
   "cell_type": "code",
   "execution_count": 6,
   "metadata": {},
   "outputs": [
    {
     "name": "stdout",
     "output_type": "stream",
     "text": [
      "min(values)                   =1\n",
      "min(values, key=values.count) =2\n"
     ]
    }
   ],
   "source": [
    "print(f\"{min(values)                   =}\")\n",
    "print(f\"{min(values, key=values.count) =}\")"
   ]
  },
  {
   "cell_type": "code",
   "execution_count": 7,
   "metadata": {},
   "outputs": [
    {
     "data": {
      "text/plain": [
       "'u'"
      ]
     },
     "execution_count": 7,
     "metadata": {},
     "output_type": "execute_result"
    }
   ],
   "source": [
    "max('juagsjghajdgas')"
   ]
  },
  {
   "cell_type": "code",
   "execution_count": 8,
   "metadata": {},
   "outputs": [
    {
     "data": {
      "text/plain": [
       "'A'"
      ]
     },
     "execution_count": 8,
     "metadata": {},
     "output_type": "execute_result"
    }
   ],
   "source": [
    "min('juagsjgASDADShajdgas')"
   ]
  },
  {
   "cell_type": "code",
   "execution_count": 9,
   "metadata": {},
   "outputs": [
    {
     "name": "stdout",
     "output_type": "stream",
     "text": [
      "add_result                    =27\n",
      "sum(values)                   =27\n"
     ]
    }
   ],
   "source": [
    "# Method 1\n",
    "add_result = 0\n",
    "for num in values:\n",
    "    add_result += num\n",
    "print(f\"{add_result                    =}\")\n",
    "\n",
    "# Method 2\n",
    "print(f\"{sum(values)                   =}\")"
   ]
  },
  {
   "cell_type": "code",
   "execution_count": 10,
   "metadata": {},
   "outputs": [
    {
     "name": "stdout",
     "output_type": "stream",
     "text": [
      "sum(values, start=0         ) =27\n",
      "sum(values, start=4         ) =31\n",
      "sum(values, start=100       ) =127\n"
     ]
    }
   ],
   "source": [
    "print(f\"{sum(values, start=0         ) =}\")  # +0\n",
    "print(f\"{sum(values, start=4         ) =}\")  # +4\n",
    "print(f\"{sum(values, start=100       ) =}\")  # +100"
   ]
  },
  {
   "cell_type": "code",
   "execution_count": 11,
   "metadata": {},
   "outputs": [
    {
     "data": {
      "text/plain": [
       "10"
      ]
     },
     "execution_count": 11,
     "metadata": {},
     "output_type": "execute_result"
    }
   ],
   "source": [
    "sum([1, 2, 3, 4])"
   ]
  },
  {
   "cell_type": "code",
   "execution_count": 12,
   "metadata": {},
   "outputs": [
    {
     "ename": "TypeError",
     "evalue": "can only concatenate list (not \"int\") to list",
     "output_type": "error",
     "traceback": [
      "\u001b[0;31m---------------------------------------------------------------------------\u001b[0m",
      "\u001b[0;31mTypeError\u001b[0m                                 Traceback (most recent call last)",
      "Cell \u001b[0;32mIn[12], line 3\u001b[0m\n\u001b[1;32m      1\u001b[0m \u001b[38;5;66;03m#Assignmnet: sum([ [1, 2], 3, 4, [5, 6] ], start=[]) solve this problem \u001b[39;00m\n\u001b[0;32m----> 3\u001b[0m \u001b[38;5;28;43msum\u001b[39;49m\u001b[43m(\u001b[49m\u001b[43m[\u001b[49m\u001b[43m \u001b[49m\u001b[43m[\u001b[49m\u001b[38;5;241;43m1\u001b[39;49m\u001b[43m,\u001b[49m\u001b[43m \u001b[49m\u001b[38;5;241;43m2\u001b[39;49m\u001b[43m]\u001b[49m\u001b[43m,\u001b[49m\u001b[43m \u001b[49m\u001b[38;5;241;43m3\u001b[39;49m\u001b[43m,\u001b[49m\u001b[43m \u001b[49m\u001b[38;5;241;43m4\u001b[39;49m\u001b[43m,\u001b[49m\u001b[43m \u001b[49m\u001b[43m[\u001b[49m\u001b[38;5;241;43m5\u001b[39;49m\u001b[43m,\u001b[49m\u001b[43m \u001b[49m\u001b[38;5;241;43m6\u001b[39;49m\u001b[43m]\u001b[49m\u001b[43m \u001b[49m\u001b[43m]\u001b[49m\u001b[43m,\u001b[49m\u001b[43m \u001b[49m\u001b[43mstart\u001b[49m\u001b[38;5;241;43m=\u001b[39;49m\u001b[43m[\u001b[49m\u001b[43m]\u001b[49m\u001b[43m)\u001b[49m\n",
      "\u001b[0;31mTypeError\u001b[0m: can only concatenate list (not \"int\") to list"
     ]
    }
   ],
   "source": [
    "#Assignmnet: sum([ [1, 2], 3, 4, [5, 6] ], start=[]) solve this problem \n",
    "\n",
    "sum([ [1, 2], 3, 4, [5, 6] ], start=[])"
   ]
  },
  {
   "cell_type": "code",
   "execution_count": 13,
   "metadata": {},
   "outputs": [
    {
     "name": "stdout",
     "output_type": "stream",
     "text": [
      "sorted(values)                                  =[1, 1, 1, 2, 2, 3, 3, 3, 3, 4, 4]\n",
      "sorted(values, key=values.count)                =[2, 4, 2, 4, 1, 1, 1, 3, 3, 3, 3]\n",
      "sorted(values, key=values.count, reverse=True)  =[3, 3, 3, 3, 1, 1, 1, 2, 4, 2, 4]\n",
      "sorted(values, key=values.count, reverse=False) =[2, 4, 2, 4, 1, 1, 1, 3, 3, 3, 3]\n"
     ]
    }
   ],
   "source": [
    "print(f\"{sorted(values)                                  =}\")\n",
    "print(f\"{sorted(values, key=values.count)                =}\")\n",
    "print(f\"{sorted(values, key=values.count, reverse=True)  =}\")\n",
    "print(f\"{sorted(values, key=values.count, reverse=False) =}\")"
   ]
  },
  {
   "cell_type": "code",
   "execution_count": 14,
   "metadata": {},
   "outputs": [
    {
     "name": "stdout",
     "output_type": "stream",
     "text": [
      "values                 =[3, 2, 6, 4, 9, 5]\n",
      "values                 =[5, 9, 4, 6, 2, 3]\n",
      "reversed(values)       =<list_reverseiterator object at 0x7215501227d0>\n",
      "list(reversed(values)) =[3, 2, 6, 4, 9, 5]\n"
     ]
    }
   ],
   "source": [
    "# list.reverse() and reversed() will reverse the order of assignment\n",
    "values = [3, 2, 6, 4, 9, 5]\n",
    "print(f\"{values                 =}\")\n",
    "values.reverse()\n",
    "print(f\"{values                 =}\")\n",
    "print(f\"{reversed(values)       =}\")\n",
    "print(f\"{list(reversed(values)) =}\")"
   ]
  }
 ],
 "metadata": {
  "kernelspec": {
   "display_name": "Python 3",
   "language": "python",
   "name": "python3"
  },
  "language_info": {
   "codemirror_mode": {
    "name": "ipython",
    "version": 3
   },
   "file_extension": ".py",
   "mimetype": "text/x-python",
   "name": "python",
   "nbconvert_exporter": "python",
   "pygments_lexer": "ipython3",
   "version": "3.12.1"
  }
 },
 "nbformat": 4,
 "nbformat_minor": 2
}
