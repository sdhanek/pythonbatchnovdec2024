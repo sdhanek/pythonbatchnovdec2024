{
 "cells": [
  {
   "cell_type": "code",
   "execution_count": 1,
   "metadata": {},
   "outputs": [
    {
     "name": "stdout",
     "output_type": "stream",
     "text": [
      "[2, 3, 4, 5, 6, 7, 8]\n"
     ]
    }
   ],
   "source": [
    "# Traditional\n",
    "new_list = []\n",
    "for i in range(2, 9):\n",
    "    new_list.append(i)\n",
    "print(new_list)  # [2, 3, 4, 5, 6, 7, 8]"
   ]
  },
  {
   "cell_type": "code",
   "execution_count": 2,
   "metadata": {},
   "outputs": [
    {
     "data": {
      "text/plain": [
       "[2, 3, 4, 5, 6, 7, 8]"
      ]
     },
     "execution_count": 2,
     "metadata": {},
     "output_type": "execute_result"
    }
   ],
   "source": [
    "# List comprehension\n",
    "[i for i in range(2, 9)]"
   ]
  },
  {
   "cell_type": "code",
   "execution_count": 3,
   "metadata": {},
   "outputs": [
    {
     "name": "stdout",
     "output_type": "stream",
     "text": [
      "[2, 3, 4, 5, 6, 7, 8]\n"
     ]
    }
   ],
   "source": [
    "other_list = [i for i in range(2, 9)]\n",
    "print(other_list) "
   ]
  },
  {
   "cell_type": "code",
   "execution_count": 4,
   "metadata": {},
   "outputs": [
    {
     "name": "stdout",
     "output_type": "stream",
     "text": [
      "[2, 4, 6, 8]\n",
      "[2, 4, 6, 8]\n"
     ]
    }
   ],
   "source": [
    "# ---- comprehensions with conditions\n",
    "even_list = []\n",
    "for i in range(2, 9):\n",
    "    if i % 2 == 0:\n",
    "        even_list.append(i)\n",
    "print(even_list)\n",
    "\n",
    "even_list2 = [i for i in range(2, 9) if i % 2 == 0]\n",
    "print(even_list2)"
   ]
  },
  {
   "cell_type": "code",
   "execution_count": 5,
   "metadata": {},
   "outputs": [
    {
     "name": "stdout",
     "output_type": "stream",
     "text": [
      "['even', 'odd', 'even', 'odd', 'even', 'odd', 'even']\n"
     ]
    }
   ],
   "source": [
    "# ---- comprehensions with if and else\n",
    "even_or_odd = []\n",
    "for i in range(2, 9):\n",
    "    if i % 2 == 0:\n",
    "        even_or_odd.append(\"even\")\n",
    "    else:\n",
    "        even_or_odd.append(\"odd\")\n",
    "print(even_or_odd) \n",
    "\n"
   ]
  },
  {
   "cell_type": "code",
   "execution_count": 6,
   "metadata": {},
   "outputs": [
    {
     "name": "stdout",
     "output_type": "stream",
     "text": [
      "odd\n",
      "even\n",
      "odd\n",
      "not correct\n",
      "1\n"
     ]
    }
   ],
   "source": [
    "# Ternary operation\n",
    "\n",
    "# condition: truecase: falsecase\n",
    "print(\"odd\" if True else \"even\")\n",
    "print(\"odd\" if not True else \"even\")\n",
    "print(\"odd\" if not False else \"even\")\n",
    "print(\"correct\" if 23 % 2 == 0 else \"not correct\")\n",
    "print(1 if 6 % 2 == 0 else 0)"
   ]
  },
  {
   "cell_type": "code",
   "execution_count": 7,
   "metadata": {},
   "outputs": [
    {
     "name": "stdout",
     "output_type": "stream",
     "text": [
      "[True, False, True, False, True, False, True]\n",
      "[True, False, True, False, True, False, True]\n",
      "['even', 'odd', 'even', 'odd', 'even', 'odd', 'even']\n"
     ]
    }
   ],
   "source": [
    "print([                   i % 2 == 0 for i in range(2, 9)])\n",
    "print([True if i % 2 == 0 else False for i in range(2, 9)])\n",
    "print([\"even\" if i % 2 == 0 else \"odd\" for i in range(2, 9)])"
   ]
  },
  {
   "cell_type": "code",
   "execution_count": 8,
   "metadata": {},
   "outputs": [],
   "source": [
    "even_or_odd2 = [\"even\" if i % 2 == 0 else \"odd\" for i in range(2, 9)]\n",
    "assert even_or_odd == even_or_odd2"
   ]
  },
  {
   "cell_type": "code",
   "execution_count": 9,
   "metadata": {},
   "outputs": [
    {
     "name": "stdout",
     "output_type": "stream",
     "text": [
      "[('P', '1'), ('P', '2'), ('P', '3'), ('P', '4'), ('y', '1'), ('y', '2'), ('y', '3'), ('y', '4'), ('t', '1'), ('t', '2'), ('t', '3'), ('t', '4'), ('h', '1'), ('h', '2'), ('h', '3'), ('h', '4'), ('o', '1'), ('o', '2'), ('o', '3'), ('o', '4'), ('n', '1'), ('n', '2'), ('n', '3'), ('n', '4')]\n",
      "[('P', '1'), ('P', '2'), ('P', '3'), ('P', '4'), ('y', '1'), ('y', '2'), ('y', '3'), ('y', '4'), ('t', '1'), ('t', '2'), ('t', '3'), ('t', '4'), ('h', '1'), ('h', '2'), ('h', '3'), ('h', '4'), ('o', '1'), ('o', '2'), ('o', '3'), ('o', '4'), ('n', '1'), ('n', '2'), ('n', '3'), ('n', '4')]\n",
      "\n",
      "{('n', '4'), ('n', '1'), ('h', '4'), ('h', '1'), ('t', '4'), ('t', '1'), ('P', '2'), ('n', '3'), ('h', '3'), ('t', '3'), ('o', '2'), ('y', '2'), ('P', '4'), ('P', '1'), ('o', '4'), ('y', '4'), ('o', '1'), ('y', '1'), ('P', '3'), ('n', '2'), ('h', '2'), ('o', '3'), ('t', '2'), ('y', '3')}\n",
      "{('n', '4'), ('n', '1'), ('h', '4'), ('h', '1'), ('t', '4'), ('t', '1'), ('P', '2'), ('n', '3'), ('h', '3'), ('t', '3'), ('o', '2'), ('y', '2'), ('P', '4'), ('P', '1'), ('o', '4'), ('y', '4'), ('o', '1'), ('y', '1'), ('P', '3'), ('n', '2'), ('h', '2'), ('o', '3'), ('t', '2'), ('y', '3')}\n",
      "\n",
      "{('n', '3'), ('h', '3'), ('P', '3'), ('o', '3'), ('t', '3'), ('y', '3')}\n",
      "{('n', '3'), ('h', '3'), ('P', '3'), ('o', '3'), ('t', '3'), ('y', '3')}\n"
     ]
    }
   ],
   "source": [
    "pairs = []\n",
    "for ch1 in \"Python\":\n",
    "    for num in \"1234\":\n",
    "        pairs.append((ch1, num))\n",
    "\n",
    "print(pairs)\n",
    "\n",
    "pairs2 = [(ch1, num) for ch1 in \"Python\" for num in \"1234\"]\n",
    "print(pairs2)\n",
    "print()\n",
    "\n",
    "pairs = set()\n",
    "for ch1 in \"Python\":\n",
    "    for num in \"1234\":\n",
    "        pairs.add((ch1, num))\n",
    "\n",
    "print(pairs)\n",
    "\n",
    "pairs2 = {(ch1, num) for ch1 in \"Python\" for num in \"1234\"}\n",
    "print(pairs2)\n",
    "print()\n",
    "\n",
    "pairs = set()\n",
    "for ch1 in \"Python\":\n",
    "    for num in \"1234\":\n",
    "        if num == \"3\":\n",
    "            pairs.add((ch1, num))\n",
    "\n",
    "print(pairs)\n",
    "pairs2 = {(ch1, num) for ch1 in \"Python\" for num in \"1234\" if num == \"3\"}\n",
    "\n",
    "print(pairs2)"
   ]
  },
  {
   "cell_type": "code",
   "execution_count": 10,
   "metadata": {},
   "outputs": [
    {
     "name": "stdout",
     "output_type": "stream",
     "text": [
      "<class 'list'> ['M', 'a', 'n', 'g', 'a', 'l', 'y', 'a', 'n']\n",
      "<class 'generator'> <generator object <genexpr> at 0x765fd80c0ac0>\n",
      "<class 'set'> {'y', 'g', 'a', 'l', 'n', 'M'}\n",
      "<class 'dict'> {'M': 77, 'a': 97, 'n': 110, 'g': 103, 'l': 108, 'y': 121}\n"
     ]
    }
   ],
   "source": [
    "my_variable = [ch for ch in \"Mangalyan\"]\n",
    "print(type(my_variable), my_variable)\n",
    "\n",
    "my_variable = (ch for ch in \"Mangalyan\")\n",
    "print(type(my_variable), my_variable)\n",
    "\n",
    "my_variable = {ch for ch in \"Mangalyan\"}\n",
    "print(type(my_variable), my_variable)\n",
    "\n",
    "my_variable = {ch: ord(ch) for ch in \"Mangalyan\"}\n",
    "print(type(my_variable), my_variable)"
   ]
  }
 ],
 "metadata": {
  "kernelspec": {
   "display_name": "Python 3",
   "language": "python",
   "name": "python3"
  },
  "language_info": {
   "codemirror_mode": {
    "name": "ipython",
    "version": 3
   },
   "file_extension": ".py",
   "mimetype": "text/x-python",
   "name": "python",
   "nbconvert_exporter": "python",
   "pygments_lexer": "ipython3",
   "version": "3.12.1"
  }
 },
 "nbformat": 4,
 "nbformat_minor": 2
}
