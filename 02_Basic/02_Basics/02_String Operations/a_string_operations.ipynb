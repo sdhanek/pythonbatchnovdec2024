{
 "cells": [
  {
   "cell_type": "markdown",
   "metadata": {},
   "source": []
  },
  {
   "cell_type": "markdown",
   "metadata": {},
   "source": [
    "### string operations "
   ]
  },
  {
   "cell_type": "code",
   "execution_count": 1,
   "metadata": {},
   "outputs": [
    {
     "name": "stdout",
     "output_type": "stream",
     "text": [
      "Python Programming <class 'str'>\n"
     ]
    }
   ],
   "source": [
    "# String with single quotes\n",
    "language = 'Python Programming'\n",
    "print(language, type(language))"
   ]
  },
  {
   "cell_type": "code",
   "execution_count": null,
   "metadata": {},
   "outputs": [
    {
     "name": "stdout",
     "output_type": "stream",
     "text": [
      "Python Programming <class 'str'>\n"
     ]
    }
   ],
   "source": [
    "# String with double quotes\n",
    "language = \"Python Programming\"\n",
    "print(language, type(language))"
   ]
  },
  {
   "cell_type": "code",
   "execution_count": 3,
   "metadata": {},
   "outputs": [
    {
     "name": "stdout",
     "output_type": "stream",
     "text": [
      "what's up !  <class 'str'>\n"
     ]
    }
   ],
   "source": [
    "where_abouts = 'what\\'s up ! '\n",
    "print(where_abouts, type(where_abouts))"
   ]
  },
  {
   "cell_type": "code",
   "execution_count": 4,
   "metadata": {},
   "outputs": [
    {
     "name": "stdout",
     "output_type": "stream",
     "text": [
      "select * from mytable where name = 'uday' and age >30 <class 'str'>\n"
     ]
    }
   ],
   "source": [
    "sql_cmd = '''select * from mytable where name = 'uday' and age >30'''\n",
    "print(sql_cmd,type(sql_cmd))"
   ]
  },
  {
   "cell_type": "code",
   "execution_count": null,
   "metadata": {},
   "outputs": [],
   "source": []
  },
  {
   "cell_type": "markdown",
   "metadata": {},
   "source": [
    "### MultiLine Strings"
   ]
  },
  {
   "cell_type": "code",
   "execution_count": 5,
   "metadata": {},
   "outputs": [
    {
     "name": "stdout",
     "output_type": "stream",
     "text": [
      "Today ia an awesome day        to learn python \n"
     ]
    }
   ],
   "source": [
    "print ( 'Today ia an awesome day \\\n",
    "       to learn python ')\n",
    "\n",
    "       # \\ line contination operator "
   ]
  },
  {
   "cell_type": "code",
   "execution_count": 6,
   "metadata": {},
   "outputs": [
    {
     "name": "stdout",
     "output_type": "stream",
     "text": [
      " dog \n",
      "      cat \n",
      "      apple \n",
      "      bat \n"
     ]
    }
   ],
   "source": [
    "print(\"\"\" dog \n",
    "      cat \n",
    "      apple \n",
    "      bat \"\"\")"
   ]
  },
  {
   "cell_type": "markdown",
   "metadata": {},
   "source": [
    "Slicing Operations"
   ]
  },
  {
   "cell_type": "code",
   "execution_count": null,
   "metadata": {},
   "outputs": [],
   "source": [
    "# P   y  t  h  o n   P r  o g  r  a  m  m  i  n  g\n",
    "# 0   1  2  3  4 5 6 7 8  9 10 11 12 13 14 15 16 17    - forward indexing\n",
    "# -18                    -9 -8 -7 -6 -5 -4 -3 -2 -1    - reverse indexing\n",
    "\n",
    "# NOTE: indexing starts with 0"
   ]
  },
  {
   "cell_type": "code",
   "execution_count": 3,
   "metadata": {},
   "outputs": [
    {
     "name": "stdout",
     "output_type": "stream",
     "text": [
      "language[0]    : P\n"
     ]
    }
   ],
   "source": [
    "# Define the variable first\n",
    "language = \"Python\"\n",
    "\n",
    "# Access the first character using indexing\n",
    "print(\"language[0]    :\", language[0])\n"
   ]
  },
  {
   "cell_type": "code",
   "execution_count": 4,
   "metadata": {},
   "outputs": [
    {
     "name": "stdout",
     "output_type": "stream",
     "text": [
      "String Slicing\n",
      "language[0:11] : Python\n"
     ]
    }
   ],
   "source": [
    "# Slicing\n",
    "print(\"String Slicing\")  # [start_index: final_index]\n",
    "print(\"language[0:11] :\", language[0:11])  # Python Prog"
   ]
  },
  {
   "cell_type": "code",
   "execution_count": 5,
   "metadata": {},
   "outputs": [
    {
     "name": "stdout",
     "output_type": "stream",
     "text": [
      "language[5:17] : n\n"
     ]
    }
   ],
   "source": [
    "print(\"language[5:17] :\", language[5:17])  # n Programmin"
   ]
  },
  {
   "cell_type": "code",
   "execution_count": 6,
   "metadata": {},
   "outputs": [
    {
     "name": "stdout",
     "output_type": "stream",
     "text": [
      "language[7:10] : \n"
     ]
    }
   ],
   "source": [
    "print(\"language[7:10] :\", language[7:10])  # Pro\n"
   ]
  },
  {
   "cell_type": "code",
   "execution_count": 7,
   "metadata": {},
   "outputs": [
    {
     "name": "stdout",
     "output_type": "stream",
     "text": [
      "language[7:18] : \n",
      "language[7:999]: \n",
      "language[45:87]: \n"
     ]
    }
   ],
   "source": [
    "print(\"language[7:18] :\", language[7:18])   # Programming\n",
    "print(\"language[7:999]:\", language[7:999]) # 999 index isn't present\n",
    "print(\"language[45:87]:\", language[45:87])  # indexes are not present"
   ]
  },
  {
   "cell_type": "code",
   "execution_count": 5,
   "metadata": {},
   "outputs": [
    {
     "name": "stdout",
     "output_type": "stream",
     "text": [
      "Python Programming <class 'str'>\n"
     ]
    }
   ],
   "source": [
    "language = 'Python Programming'\n",
    "print(language, type(language))"
   ]
  },
  {
   "cell_type": "code",
   "execution_count": 9,
   "metadata": {},
   "outputs": [
    {
     "name": "stdout",
     "output_type": "stream",
     "text": [
      "language[7:18] : Programming\n",
      "language[7:999]: Programming\n",
      "language[45:87]: \n"
     ]
    }
   ],
   "source": [
    "print(\"language[7:18] :\", language[7:18])   # Programming\n",
    "print(\"language[7:999]:\", language[7:999]) # 999 index isn't present\n",
    "print(\"language[45:87]:\", language[45:87])  # indexes are not present"
   ]
  },
  {
   "cell_type": "code",
   "execution_count": 2,
   "metadata": {},
   "outputs": [],
   "source": [
    "# string slicing :-\n",
    "#   string[start_index: final_index: step]\n",
    "#   Default Step is +1"
   ]
  },
  {
   "cell_type": "code",
   "execution_count": 6,
   "metadata": {},
   "outputs": [
    {
     "name": "stdout",
     "output_type": "stream",
     "text": [
      "language[7:18]   = Programming\n",
      "language[7:18:1] = Programming\n"
     ]
    }
   ],
   "source": [
    "print(\"language[7:18]   =\", language[7:18])\n",
    "print(\"language[7:18:1] =\", language[7:18:1])\n",
    "\n"
   ]
  },
  {
   "cell_type": "code",
   "execution_count": 7,
   "metadata": {},
   "outputs": [],
   "source": [
    "# P   y  t  h  o n   P r o g  r  a  m  m  i  n  g\n",
    "# 0   1  2  3  4 5 6 7 8 9 10 11 12 13 14 15 16 17    - forward indexing\n",
    "# -18                                    -3 -2 -1    - reverse indexing"
   ]
  },
  {
   "cell_type": "code",
   "execution_count": 8,
   "metadata": {},
   "outputs": [
    {
     "name": "stdout",
     "output_type": "stream",
     "text": [
      "language[7:18:-1]= \n"
     ]
    }
   ],
   "source": [
    "print(\"language[7:18:-1]=\", language[7:18:-1])\n",
    "# 7-1 = 6 ; it is not between 7 and 18\n",
    "# [7:18:-1]  =>"
   ]
  },
  {
   "cell_type": "code",
   "execution_count": 9,
   "metadata": {},
   "outputs": [
    {
     "name": "stdout",
     "output_type": "stream",
     "text": [
      "language[23:7:-3] gmrr\n",
      "language[25:7:-2] gimro\n"
     ]
    }
   ],
   "source": [
    "print(\"language[23:7:-3]\", language[23:7:-3])  # 23 -3 = 20\n",
    "# [23:7:-3] => 23, 20, 17, 14, 11, 8\n",
    "#  -6          17, 14, 11,  8\n",
    "#               g  m    r   r\n",
    "\n",
    "\n",
    "print(\"language[25:7:-2]\", language[25:7:-2])  # 25 -2 = 23\n",
    "# [25:7:-2] => 25, 23, 21, 19, 17, 15, 13, 11, 9\n",
    "#  -8          17, 15, 13, 11, 9\n",
    "#               g  i   m   r   o"
   ]
  },
  {
   "cell_type": "code",
   "execution_count": 10,
   "metadata": {},
   "outputs": [],
   "source": [
    "# String Slicing [start_index:final_index, step]\n",
    "# default start_index = 0\n",
    "# default final_index = string length\n",
    "# default step = +1"
   ]
  },
  {
   "cell_type": "code",
   "execution_count": 11,
   "metadata": {},
   "outputs": [
    {
     "name": "stdout",
     "output_type": "stream",
     "text": [
      "language[0:7:1]: Python \n",
      "language[:7]   : Python \n"
     ]
    }
   ],
   "source": [
    "# language[0:7:+1] => 0, 1, 2, 3, 4, 5, 6\n",
    "print(\"language[0:7:1]:\", language[0:7:1])\n",
    "print(\"language[:7]   :\", language[:7])"
   ]
  },
  {
   "cell_type": "code",
   "execution_count": 12,
   "metadata": {},
   "outputs": [
    {
     "name": "stdout",
     "output_type": "stream",
     "text": [
      "language[::1] : Python Programming\n",
      "language[::3] : Ph oai\n"
     ]
    }
   ],
   "source": [
    "\n",
    "print(\"language[::1] :\", language[::1])  # language[0:18:+1]\n",
    "print(\"language[::3] :\", language[::3])  # language[0:18:+3]"
   ]
  },
  {
   "cell_type": "code",
   "execution_count": 13,
   "metadata": {},
   "outputs": [],
   "source": [
    "# If step is -ve, and start_index and final_index were not given,\n",
    "# then\n",
    "#   start_index = length of string - 1\n",
    "#   final_index = -1"
   ]
  },
  {
   "cell_type": "code",
   "execution_count": 14,
   "metadata": {},
   "outputs": [
    {
     "name": "stdout",
     "output_type": "stream",
     "text": [
      "language[::-1] : gnimmargorP nohtyP\n"
     ]
    }
   ],
   "source": [
    "# str reversal  language[17:-1:-1]=> 17,16,15, .... 3, 2, 1, 0\n",
    "print(\"language[::-1] :\", language[::-1])"
   ]
  },
  {
   "cell_type": "code",
   "execution_count": 16,
   "metadata": {},
   "outputs": [
    {
     "name": "stdout",
     "output_type": "stream",
     "text": [
      "yadot  si  a  doog yad\n"
     ]
    }
   ],
   "source": [
    "assignment = \"today is a good day\"\n",
    "assignment1 = assignment[18::-1]\n",
    "#today is a good day\n",
    "#01234 5 67 8 9 10 11121314 15 161718\n",
    "assignment1 = assignment[4::-1]    # Reverse \"today\"\n",
    "assignment2 = assignment[8:5:-1]   # Reverse \"is\"\n",
    "assignment3 = assignment[10:8:-1]   # Reverse \"a\"\n",
    "assignment4 = assignment[15:10:-1] # Reverse \"good\"\n",
    "assignment5 = assignment[18:15:-1] # Reverse \"day\"\n",
    "\n",
    "print(assignment1, assignment2,assignment3, assignment4, assignment5)"
   ]
  },
  {
   "cell_type": "code",
   "execution_count": 18,
   "metadata": {},
   "outputs": [
    {
     "name": "stdout",
     "output_type": "stream",
     "text": [
      "der  era sesor\n"
     ]
    }
   ],
   "source": [
    "assignment = \"roses are red\"\n",
    "#r  o  s  e  s     a  r  e     r  e  d\n",
    "#0  1  2  3  4  5  6  7  8  9 10 11 12\n",
    "\n",
    "sentence = \"roses are red\"\n",
    "word1 = sentence[4::-1]        # Reverse \"roses\"\n",
    "word2 = sentence[8:5:-1]       # Reverse \"are\"\n",
    "word3 = sentence[12:8:-1]      # Reverse \"red\"\n",
    "\n",
    "# Concatenate reversed words in reverse order\n",
    "reversed_sentence = f\"{word3} {word2} {word1}\"\n",
    "print(reversed_sentence)\n",
    "\n"
   ]
  }
 ],
 "metadata": {
  "kernelspec": {
   "display_name": "Python 3",
   "language": "python",
   "name": "python3"
  },
  "language_info": {
   "codemirror_mode": {
    "name": "ipython",
    "version": 3
   },
   "file_extension": ".py",
   "mimetype": "text/x-python",
   "name": "python",
   "nbconvert_exporter": "python",
   "pygments_lexer": "ipython3",
   "version": "3.12.1"
  }
 },
 "nbformat": 4,
 "nbformat_minor": 2
}
